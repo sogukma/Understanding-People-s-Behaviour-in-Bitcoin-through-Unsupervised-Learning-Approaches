{
 "cells": [
  {
   "cell_type": "code",
   "execution_count": null,
   "id": "f06eeb32",
   "metadata": {},
   "outputs": [],
   "source": [
    "#credits\n",
    "https://towardsdatascience.com/predicate-vs-projection-pushdown-in-spark-3-ac24c4d11855\n",
    "    https://www.bmc.com/blogs/python-spark-k-means-example/\n",
    "- sampling: https://stackoverflow.com/questions/24806084/sampling-a-large-distributed-data-set-using-pyspark-spark\n",
    "- filter pushing: https://engineering.dynatrace.com/blog/optimizing-spark-queries-with-filter-pushdown/\n",
    "        -https://towardsdatascience.com/predicate-vs-projection-pushdown-in-spark-3-ac24c4d11855\n",
    "            "
   ]
  },
  {
   "cell_type": "code",
   "execution_count": 1,
   "id": "5a90213b",
   "metadata": {},
   "outputs": [
    {
     "name": "stdout",
     "output_type": "stream",
     "text": [
      "Requirement already satisfied: pyspark in c:\\users\\enginesadmin\\anaconda3\\lib\\site-packages (3.1.2)\n",
      "Requirement already satisfied: py4j==0.10.9 in c:\\users\\enginesadmin\\anaconda3\\lib\\site-packages (from pyspark) (0.10.9)\n"
     ]
    }
   ],
   "source": [
    "!pip install pyspark\n",
    "\n"
   ]
  },
  {
   "cell_type": "code",
   "execution_count": 46,
   "id": "c7bc52d7",
   "metadata": {},
   "outputs": [],
   "source": [
    "from pyspark.sql import SparkSession\n"
   ]
  },
  {
   "cell_type": "code",
   "execution_count": 47,
   "id": "a28e4001",
   "metadata": {},
   "outputs": [],
   "source": [
    "import glob"
   ]
  },
  {
   "cell_type": "code",
   "execution_count": 48,
   "id": "e66d033f",
   "metadata": {},
   "outputs": [
    {
     "data": {
      "text/plain": [
       "'D:\\\\Ethereum analysis - Copy'"
      ]
     },
     "execution_count": 48,
     "metadata": {},
     "output_type": "execute_result"
    }
   ],
   "source": [
    "pwd()"
   ]
  },
  {
   "cell_type": "code",
   "execution_count": 49,
   "id": "59e03481",
   "metadata": {},
   "outputs": [],
   "source": [
    "from pyspark.sql.types import StructType,StructField, StringType, IntegerType, TimestampType"
   ]
  },
  {
   "cell_type": "code",
   "execution_count": 50,
   "id": "785d5da9",
   "metadata": {},
   "outputs": [],
   "source": [
    "from pyspark.sql import functions as F\n",
    "#df.select(F.col(\"my_column\"))"
   ]
  },
  {
   "cell_type": "code",
   "execution_count": 51,
   "id": "714d69f4",
   "metadata": {},
   "outputs": [],
   "source": [
    "schema = StructType([ \\\n",
    "    StructField(\"sender\",StringType(),True), \\\n",
    "    StructField(\"value\",IntegerType(),True), \\\n",
    "    StructField(\"timestamp_in_unix_seconds\",IntegerType(),True), \\\n",
    "    StructField(\"fee\",IntegerType(),True), \\\n",
    "  ])"
   ]
  },
  {
   "cell_type": "code",
   "execution_count": 52,
   "id": "55c75d96",
   "metadata": {},
   "outputs": [],
   "source": [
    "# spark.rdd.filter.csv.filterPushdown?\n",
    "# spark config\n",
    "from pyspark.conf import SparkConf\n",
    "\n",
    "\n",
    "config = SparkConf().setAll([ \\\n",
    "    ('spark.executor.memory', '8g'), \\\n",
    "    (\"spark.executor.instances\", \"4\"), \\\n",
    "\n",
    "    ('spark.driver.memory','16g'), \\\n",
    "    (\"spark.sql.parquet.filterPushdown\", \"true\"), \\\n",
    "    (\"spark.hadoop.parquet.filter.stats.enabled\", \"true\"), \\\n",
    "    (\"spark.sql.optimizer.nestedSchemaPruning.enabled\", \"true\"), \\\n",
    "    (\"spark.sql.optimizer.dynamicPartitionPruning.enabled\", \"true\"), \\\n",
    "    (\"spark.sql.autoBroadcastJoinThreshold\", \"-1\"), \\\n",
    "    (\"spark.sql.parquet.binaryAsString\", \"true\") ]) \\\n",
    "#    (\"spark.executor.memoryOverhead\", \"16384\") \\\n",
    "\n",
    "\n",
    "\n"
   ]
  },
  {
   "cell_type": "code",
   "execution_count": 53,
   "id": "dee7dced",
   "metadata": {},
   "outputs": [
    {
     "name": "stdout",
     "output_type": "stream",
     "text": [
      "<pyspark.conf.SparkConf object at 0x0000020901608D90>\n",
      "local\n",
      "Clustering using K-Means\n"
     ]
    }
   ],
   "source": [
    "print(config.setMaster(\"local\").setAppName(\"Clustering using K-Means\"))\n",
    "\n",
    "print(config.get(\"spark.master\"))\n",
    "\n",
    "print(config.get(\"spark.app.name\"))\n"
   ]
  },
  {
   "cell_type": "code",
   "execution_count": 54,
   "id": "830a0d7e",
   "metadata": {},
   "outputs": [],
   "source": [
    "import time\n",
    "\n",
    "from datetime import datetime\n",
    "spark = SparkSession.builder.appName(\"Clustering using K-Means\") \\\n",
    "    .config(conf=config) \\\n",
    "    .getOrCreate() \\\n",
    "#    .option(\"failOnDataLoss\", False)\n",
    "#spark"
   ]
  },
  {
   "cell_type": "code",
   "execution_count": 55,
   "id": "b0a5cbed",
   "metadata": {},
   "outputs": [
    {
     "data": {
      "text/html": [
       "\n",
       "            <div>\n",
       "                <p><b>SparkSession - in-memory</b></p>\n",
       "                \n",
       "        <div>\n",
       "            <p><b>SparkContext</b></p>\n",
       "\n",
       "            <p><a href=\"http://10.0.7.40:4040\">Spark UI</a></p>\n",
       "\n",
       "            <dl>\n",
       "              <dt>Version</dt>\n",
       "                <dd><code>v3.1.2</code></dd>\n",
       "              <dt>Master</dt>\n",
       "                <dd><code>local</code></dd>\n",
       "              <dt>AppName</dt>\n",
       "                <dd><code>Clustering using K-Means</code></dd>\n",
       "            </dl>\n",
       "        </div>\n",
       "        \n",
       "            </div>\n",
       "        "
      ],
      "text/plain": [
       "<pyspark.sql.session.SparkSession at 0x2097cc989d0>"
      ]
     },
     "execution_count": 55,
     "metadata": {},
     "output_type": "execute_result"
    }
   ],
   "source": [
    "spark"
   ]
  },
  {
   "cell_type": "code",
   "execution_count": 56,
   "id": "0bd9f22c",
   "metadata": {},
   "outputs": [
    {
     "data": {
      "text/plain": [
       "[('spark.master', 'local'),\n",
       " ('spark.executor.instances', '4'),\n",
       " ('spark.sql.parquet.binaryAsString', 'true'),\n",
       " ('spark.sql.parquet.filterPushdown', 'true'),\n",
       " ('spark.app.startTime', '1637856699594'),\n",
       " ('spark.executor.id', 'driver'),\n",
       " ('spark.app.id', 'local-1637856702506'),\n",
       " ('spark.sql.optimizer.dynamicPartitionPruning.enabled', 'true'),\n",
       " ('spark.driver.memory', '16g'),\n",
       " ('spark.driver.port', '55870'),\n",
       " ('spark.sql.optimizer.nestedSchemaPruning.enabled', 'true'),\n",
       " ('spark.rdd.compress', 'True'),\n",
       " ('spark.serializer.objectStreamReset', '100'),\n",
       " ('spark.executor.memory', '8g'),\n",
       " ('spark.submit.pyFiles', ''),\n",
       " ('spark.submit.deployMode', 'client'),\n",
       " ('spark.hadoop.parquet.filter.stats.enabled', 'true'),\n",
       " ('spark.sql.autoBroadcastJoinThreshold', '-1'),\n",
       " ('spark.sql.warehouse.dir',\n",
       "  'file:/D:/Ethereum%20analysis%20-%20Copy/spark-warehouse'),\n",
       " ('spark.ui.showConsoleProgress', 'true'),\n",
       " ('spark.app.name', 'Clustering using K-Means'),\n",
       " ('spark.driver.host', '10.0.7.40')]"
      ]
     },
     "execution_count": 56,
     "metadata": {},
     "output_type": "execute_result"
    }
   ],
   "source": [
    "spark.sparkContext.getConf().getAll()"
   ]
  },
  {
   "cell_type": "code",
   "execution_count": 60,
   "id": "3d953167",
   "metadata": {},
   "outputs": [
    {
     "data": {
      "text/plain": [
       "['D:\\\\Downloads\\\\ethereum\\\\ethereum000000000000.csv',\n",
       " 'D:\\\\Downloads\\\\ethereum\\\\ethereum000000000001.csv',\n",
       " 'D:\\\\Downloads\\\\ethereum\\\\ethereum000000000002.csv',\n",
       " 'D:\\\\Downloads\\\\ethereum\\\\ethereum000000000003.csv',\n",
       " 'D:\\\\Downloads\\\\ethereum\\\\ethereum000000000004.csv',\n",
       " 'D:\\\\Downloads\\\\ethereum\\\\ethereum000000000005.csv',\n",
       " 'D:\\\\Downloads\\\\ethereum\\\\ethereum000000000006.csv',\n",
       " 'D:\\\\Downloads\\\\ethereum\\\\ethereum000000000007.csv',\n",
       " 'D:\\\\Downloads\\\\ethereum\\\\ethereum000000000008.csv',\n",
       " 'D:\\\\Downloads\\\\ethereum\\\\ethereum000000000009.csv',\n",
       " 'D:\\\\Downloads\\\\ethereum\\\\ethereum000000000010.csv',\n",
       " 'D:\\\\Downloads\\\\ethereum\\\\ethereum000000000011.csv',\n",
       " 'D:\\\\Downloads\\\\ethereum\\\\ethereum000000000012.csv',\n",
       " 'D:\\\\Downloads\\\\ethereum\\\\ethereum000000000013.csv',\n",
       " 'D:\\\\Downloads\\\\ethereum\\\\ethereum000000000014.csv',\n",
       " 'D:\\\\Downloads\\\\ethereum\\\\ethereum000000000015.csv',\n",
       " 'D:\\\\Downloads\\\\ethereum\\\\ethereum000000000016.csv',\n",
       " 'D:\\\\Downloads\\\\ethereum\\\\ethereum000000000017.csv',\n",
       " 'D:\\\\Downloads\\\\ethereum\\\\ethereum000000000018.csv',\n",
       " 'D:\\\\Downloads\\\\ethereum\\\\ethereum000000000019.csv',\n",
       " 'D:\\\\Downloads\\\\ethereum\\\\ethereum000000000020.csv',\n",
       " 'D:\\\\Downloads\\\\ethereum\\\\ethereum000000000021.csv',\n",
       " 'D:\\\\Downloads\\\\ethereum\\\\ethereum000000000022.csv',\n",
       " 'D:\\\\Downloads\\\\ethereum\\\\ethereum000000000023.csv',\n",
       " 'D:\\\\Downloads\\\\ethereum\\\\ethereum000000000024.csv',\n",
       " 'D:\\\\Downloads\\\\ethereum\\\\ethereum000000000025.csv',\n",
       " 'D:\\\\Downloads\\\\ethereum\\\\ethereum000000000026.csv',\n",
       " 'D:\\\\Downloads\\\\ethereum\\\\ethereum000000000027.csv',\n",
       " 'D:\\\\Downloads\\\\ethereum\\\\ethereum000000000028.csv',\n",
       " 'D:\\\\Downloads\\\\ethereum\\\\ethereum000000000029.csv',\n",
       " 'D:\\\\Downloads\\\\ethereum\\\\ethereum000000000030.csv',\n",
       " 'D:\\\\Downloads\\\\ethereum\\\\ethereum000000000031.csv',\n",
       " 'D:\\\\Downloads\\\\ethereum\\\\ethereum000000000032.csv',\n",
       " 'D:\\\\Downloads\\\\ethereum\\\\ethereum000000000033.csv',\n",
       " 'D:\\\\Downloads\\\\ethereum\\\\ethereum000000000034.csv',\n",
       " 'D:\\\\Downloads\\\\ethereum\\\\ethereum000000000035.csv',\n",
       " 'D:\\\\Downloads\\\\ethereum\\\\ethereum000000000036.csv',\n",
       " 'D:\\\\Downloads\\\\ethereum\\\\ethereum000000000037.csv',\n",
       " 'D:\\\\Downloads\\\\ethereum\\\\ethereum000000000038.csv',\n",
       " 'D:\\\\Downloads\\\\ethereum\\\\ethereum000000000039.csv',\n",
       " 'D:\\\\Downloads\\\\ethereum\\\\ethereum000000000040.csv',\n",
       " 'D:\\\\Downloads\\\\ethereum\\\\ethereum000000000041.csv',\n",
       " 'D:\\\\Downloads\\\\ethereum\\\\ethereum000000000042.csv',\n",
       " 'D:\\\\Downloads\\\\ethereum\\\\ethereum000000000043.csv',\n",
       " 'D:\\\\Downloads\\\\ethereum\\\\ethereum000000000044.csv',\n",
       " 'D:\\\\Downloads\\\\ethereum\\\\ethereum000000000045.csv',\n",
       " 'D:\\\\Downloads\\\\ethereum\\\\ethereum000000000046.csv',\n",
       " 'D:\\\\Downloads\\\\ethereum\\\\ethereum000000000047.csv',\n",
       " 'D:\\\\Downloads\\\\ethereum\\\\ethereum000000000048.csv',\n",
       " 'D:\\\\Downloads\\\\ethereum\\\\ethereum000000000049.csv',\n",
       " 'D:\\\\Downloads\\\\ethereum\\\\ethereum000000000050.csv',\n",
       " 'D:\\\\Downloads\\\\ethereum\\\\ethereum000000000051.csv',\n",
       " 'D:\\\\Downloads\\\\ethereum\\\\ethereum000000000052.csv',\n",
       " 'D:\\\\Downloads\\\\ethereum\\\\ethereum000000000053.csv',\n",
       " 'D:\\\\Downloads\\\\ethereum\\\\ethereum000000000054.csv',\n",
       " 'D:\\\\Downloads\\\\ethereum\\\\ethereum000000000055.csv',\n",
       " 'D:\\\\Downloads\\\\ethereum\\\\ethereum000000000056.csv',\n",
       " 'D:\\\\Downloads\\\\ethereum\\\\ethereum000000000057.csv',\n",
       " 'D:\\\\Downloads\\\\ethereum\\\\ethereum000000000058.csv',\n",
       " 'D:\\\\Downloads\\\\ethereum\\\\ethereum000000000059.csv',\n",
       " 'D:\\\\Downloads\\\\ethereum\\\\ethereum000000000060.csv',\n",
       " 'D:\\\\Downloads\\\\ethereum\\\\ethereum000000000061.csv',\n",
       " 'D:\\\\Downloads\\\\ethereum\\\\ethereum000000000062.csv',\n",
       " 'D:\\\\Downloads\\\\ethereum\\\\ethereum000000000063.csv',\n",
       " 'D:\\\\Downloads\\\\ethereum\\\\ethereum000000000064.csv',\n",
       " 'D:\\\\Downloads\\\\ethereum\\\\ethereum000000000065.csv',\n",
       " 'D:\\\\Downloads\\\\ethereum\\\\ethereum000000000066.csv',\n",
       " 'D:\\\\Downloads\\\\ethereum\\\\ethereum000000000067.csv',\n",
       " 'D:\\\\Downloads\\\\ethereum\\\\ethereum000000000068.csv',\n",
       " 'D:\\\\Downloads\\\\ethereum\\\\ethereum000000000069.csv',\n",
       " 'D:\\\\Downloads\\\\ethereum\\\\ethereum000000000070.csv',\n",
       " 'D:\\\\Downloads\\\\ethereum\\\\ethereum000000000071.csv',\n",
       " 'D:\\\\Downloads\\\\ethereum\\\\ethereum000000000072.csv',\n",
       " 'D:\\\\Downloads\\\\ethereum\\\\ethereum000000000073.csv',\n",
       " 'D:\\\\Downloads\\\\ethereum\\\\ethereum000000000074.csv',\n",
       " 'D:\\\\Downloads\\\\ethereum\\\\ethereum000000000075.csv',\n",
       " 'D:\\\\Downloads\\\\ethereum\\\\ethereum000000000076.csv',\n",
       " 'D:\\\\Downloads\\\\ethereum\\\\ethereum000000000077.csv',\n",
       " 'D:\\\\Downloads\\\\ethereum\\\\ethereum000000000078.csv',\n",
       " 'D:\\\\Downloads\\\\ethereum\\\\ethereum000000000079.csv',\n",
       " 'D:\\\\Downloads\\\\ethereum\\\\ethereum000000000080.csv',\n",
       " 'D:\\\\Downloads\\\\ethereum\\\\ethereum000000000081.csv',\n",
       " 'D:\\\\Downloads\\\\ethereum\\\\ethereum000000000082.csv',\n",
       " 'D:\\\\Downloads\\\\ethereum\\\\ethereum000000000083.csv',\n",
       " 'D:\\\\Downloads\\\\ethereum\\\\ethereum000000000084.csv',\n",
       " 'D:\\\\Downloads\\\\ethereum\\\\ethereum000000000085.csv',\n",
       " 'D:\\\\Downloads\\\\ethereum\\\\ethereum000000000086.csv',\n",
       " 'D:\\\\Downloads\\\\ethereum\\\\ethereum000000000087.csv',\n",
       " 'D:\\\\Downloads\\\\ethereum\\\\ethereum000000000088.csv',\n",
       " 'D:\\\\Downloads\\\\ethereum\\\\ethereum000000000089.csv',\n",
       " 'D:\\\\Downloads\\\\ethereum\\\\ethereum000000000090.csv',\n",
       " 'D:\\\\Downloads\\\\ethereum\\\\ethereum000000000091.csv',\n",
       " 'D:\\\\Downloads\\\\ethereum\\\\ethereum000000000092.csv',\n",
       " 'D:\\\\Downloads\\\\ethereum\\\\ethereum000000000093.csv',\n",
       " 'D:\\\\Downloads\\\\ethereum\\\\ethereum000000000094.csv',\n",
       " 'D:\\\\Downloads\\\\ethereum\\\\ethereum000000000095.csv',\n",
       " 'D:\\\\Downloads\\\\ethereum\\\\ethereum000000000096.csv',\n",
       " 'D:\\\\Downloads\\\\ethereum\\\\ethereum000000000097.csv']"
      ]
     },
     "execution_count": 60,
     "metadata": {},
     "output_type": "execute_result"
    }
   ],
   "source": [
    "# help received for reading several files: https://stackoverflow.com/questions/49898742/pandas-reading-csv-files-with-partial-wildcard\n",
    "\n",
    "import glob\n",
    "import os\n",
    "BITCOIN_PATHS = sorted(glob.glob(os.path.join(\"D:\\\\Downloads\\\\ethereum\\\\\", \"ethereum*.csv\")))\n",
    "BITCOIN_PATHS"
   ]
  },
  {
   "cell_type": "code",
   "execution_count": 61,
   "id": "cc1c00ab",
   "metadata": {},
   "outputs": [
    {
     "name": "stdout",
     "output_type": "stream",
     "text": [
      "root\n",
      " |-- sender: string (nullable = true)\n",
      " |-- value: integer (nullable = true)\n",
      " |-- fee: integer (nullable = true)\n",
      "\n"
     ]
    }
   ],
   "source": [
    "# deal with date value (1): https://stackoverflow.com/questions/19480028/attributeerror-datetime-module-has-no-attribute-strptime\n",
    "# deal with date value (2) :https://stackoverflow.com/questions/19801727/convert-datetime-to-unix-timestamp-and-convert-it-back-in-python\n",
    "# hier wird dataframe gelesen. versuche es mit rdd .rdd()\n",
    "data_customer=spark.read.csv(BITCOIN_PATHS, header=True, schema=schema) \\\n",
    "    .select(\"sender\",\"value\",\"fee\") \\\n",
    "    .filter( \\\n",
    "        ((F.col('timestamp_in_unix_seconds') >= int(time.mktime(datetime.strptime('2017-12-18', '%Y-%m-%d').timetuple()))) & (F.col('timestamp_in_unix_seconds') <= int(time.mktime(datetime.strptime('2018-12-16', '%Y-%m-%d').timetuple())))) |\\\n",
    "        ((F.col('timestamp_in_unix_seconds') >= int(time.mktime(datetime.strptime('2021-04-13', '%Y-%m-%d').timetuple()))) & (F.col('timestamp_in_unix_seconds') <= int(time.mktime(datetime.strptime('2021-07-20', '%Y-%m-%d').timetuple())))) \\\n",
    "            \n",
    "           ) \\\n",
    "    .sample(False,0.01,1234) \\\n",
    "    .na.drop() \\\n",
    "    .persist()\n",
    "data_customer.printSchema()"
   ]
  },
  {
   "cell_type": "code",
   "execution_count": 62,
   "id": "e444ee76",
   "metadata": {},
   "outputs": [
    {
     "name": "stdout",
     "output_type": "stream",
     "text": [
      "== Physical Plan ==\n",
      "InMemoryTableScan [sender#6365, value#6366, fee#6368]\n",
      "   +- InMemoryRelation [sender#6365, value#6366, fee#6368], StorageLevel(disk, memory, deserialized, 1 replicas)\n",
      "         +- *(1) Filter AtLeastNNulls(n, sender#6365,value#6366,fee#6368)\n",
      "            +- *(1) Sample 0.0, 0.01, false, 1234\n",
      "               +- *(1) Project [sender#6365, value#6366, fee#6368]\n",
      "                  +- *(1) Filter (((timestamp_in_unix_seconds#6367 >= 1513551600) AND (timestamp_in_unix_seconds#6367 <= 1544914800)) OR ((timestamp_in_unix_seconds#6367 >= 1618264800) AND (timestamp_in_unix_seconds#6367 <= 1626732000)))\n",
      "                     +- FileScan csv [sender#6365,value#6366,timestamp_in_unix_seconds#6367,fee#6368] Batched: false, DataFilters: [(((timestamp_in_unix_seconds#6367 >= 1513551600) AND (timestamp_in_unix_seconds#6367 <= 15449148..., Format: CSV, Location: InMemoryFileIndex[file:/D:/Downloads/ethereum/ethereum000000000000.csv, file:/D:/Downloads/ethere..., PartitionFilters: [], PushedFilters: [Or(And(GreaterThanOrEqual(timestamp_in_unix_seconds,1513551600),LessThanOrEqual(timestamp_in_uni..., ReadSchema: struct<sender:string,value:int,timestamp_in_unix_seconds:int,fee:int>\n",
      "\n",
      "\n"
     ]
    }
   ],
   "source": [
    "data_customer.explain()"
   ]
  },
  {
   "cell_type": "code",
   "execution_count": 63,
   "id": "2451d49d",
   "metadata": {},
   "outputs": [
    {
     "name": "stdout",
     "output_type": "stream",
     "text": [
      "+--------------------+-------+-----+\n",
      "|              sender|  value|  fee|\n",
      "+--------------------+-------+-----+\n",
      "|0x13186e3b6cd3d71...|1000000|83823|\n",
      "|0x4a170b4cab14d73...|   3000|21000|\n",
      "+--------------------+-------+-----+\n",
      "only showing top 2 rows\n",
      "\n"
     ]
    }
   ],
   "source": [
    "data_customer.show(2)"
   ]
  },
  {
   "cell_type": "code",
   "execution_count": 64,
   "id": "ba25074c",
   "metadata": {},
   "outputs": [],
   "source": [
    "from pyspark.sql import SQLContext\n",
    "sqlContext = SQLContext(spark)\n",
    "sqlContext.registerDataFrameAsTable(data_customer, \"table1\")\n",
    "df2 = sqlContext.sql(\" \\\n",
    "                     with counted_sender as (SELECT sender, count(*) as c \\\n",
    "                     from table1 group by sender) \\\n",
    "                     select table1.sender, avg(value) as avg_value, avg(fee) as avg_fee, c \\\n",
    "                     from table1 join counted_sender on table1.sender=counted_sender.sender \\\n",
    "                     group by table1.sender, c order by c desc\"\n",
    "                    )"
   ]
  },
  {
   "cell_type": "code",
   "execution_count": 65,
   "id": "22db890d",
   "metadata": {},
   "outputs": [],
   "source": [
    "# sender are filtered out, since they are hash values --> do not contain any structure\n",
    "inputCols=['avg_value', 'avg_fee', 'c']\n"
   ]
  },
  {
   "cell_type": "code",
   "execution_count": 66,
   "id": "4a39b1d6",
   "metadata": {},
   "outputs": [
    {
     "name": "stdout",
     "output_type": "stream",
     "text": [
      "+--------------------+---------+-------+---+--------------------+\n",
      "|              sender|avg_value|avg_fee|  c|            features|\n",
      "+--------------------+---------+-------+---+--------------------+\n",
      "|0x28b1b89ab7c32c5...|    1.0E9|64213.0| 17|[1.0E9,64213.0,17.0]|\n",
      "|0xea1baa460795356...|      1.0|21000.0| 16|  [1.0,21000.0,16.0]|\n",
      "+--------------------+---------+-------+---+--------------------+\n",
      "only showing top 2 rows\n",
      "\n"
     ]
    }
   ],
   "source": [
    "# transformation task. genau wie filter, join, etc. --> bis hier wird das aber nur vorbereitet\n",
    "from pyspark.ml.feature import VectorAssembler\n",
    "df2.columns\n",
    "assemble=VectorAssembler(inputCols=inputCols, outputCol='features')\n",
    "assembled_data=assemble.transform(df2)\n",
    "assembled_data.show(2)"
   ]
  },
  {
   "cell_type": "code",
   "execution_count": 67,
   "id": "d7c559ea",
   "metadata": {},
   "outputs": [
    {
     "name": "stdout",
     "output_type": "stream",
     "text": [
      "+--------------------+---------+-------+---+--------------------+--------------------+\n",
      "|              sender|avg_value|avg_fee|  c|            features|        standardized|\n",
      "+--------------------+---------+-------+---+--------------------+--------------------+\n",
      "|0x28b1b89ab7c32c5...|    1.0E9|64213.0| 17|[1.0E9,64213.0,17.0]|[2.82005472060955...|\n",
      "|0xea1baa460795356...|      1.0|21000.0| 16|  [1.0,21000.0,16.0]|[-0.3557050856352...|\n",
      "+--------------------+---------+-------+---+--------------------+--------------------+\n",
      "only showing top 2 rows\n",
      "\n"
     ]
    }
   ],
   "source": [
    "# an dieser stelle findet erstmals eine aktion statt. die vorbereiteten transformationen werden durchgeführt.\n",
    "#standarizer\n",
    "from pyspark.ml.feature import StandardScaler\n",
    "scale=StandardScaler(inputCol='features',outputCol='standardized', withMean=True, withStd=True)\n",
    "data_scale=scale.fit(assembled_data)\n",
    "data_scale_output=data_scale.transform(assembled_data)\n",
    "data_scale_output.show(2)"
   ]
  },
  {
   "cell_type": "code",
   "execution_count": 68,
   "id": "9a654f9d",
   "metadata": {},
   "outputs": [],
   "source": [
    "#from pyspark.ml.linalg import Vectors\n",
    "from pyspark.ml.feature import PCA\n",
    "pca = PCA(k=3, inputCol=\"standardized\")\n",
    "pca.setOutputCol(\"pca_features\")\n",
    "model = pca.fit(data_scale_output)\n",
    "data_scale_output = model.transform(data_scale_output)"
   ]
  },
  {
   "cell_type": "code",
   "execution_count": 69,
   "id": "268afaf1",
   "metadata": {},
   "outputs": [
    {
     "name": "stdout",
     "output_type": "stream",
     "text": [
      "+--------------------+---------+-------+---+--------------------+--------------------+--------------------+\n",
      "|              sender|avg_value|avg_fee|  c|            features|        standardized|        pca_features|\n",
      "+--------------------+---------+-------+---+--------------------+--------------------+--------------------+\n",
      "|0x28b1b89ab7c32c5...|    1.0E9|64213.0| 17|[1.0E9,64213.0,17.0]|[2.82005472060955...|[-10.651152736796...|\n",
      "|0xea1baa460795356...|      1.0|21000.0| 16|  [1.0,21000.0,16.0]|[-0.3557050856352...|[-7.8688198038013...|\n",
      "+--------------------+---------+-------+---+--------------------+--------------------+--------------------+\n",
      "only showing top 2 rows\n",
      "\n"
     ]
    }
   ],
   "source": [
    "data_scale_output.show(2)"
   ]
  },
  {
   "cell_type": "code",
   "execution_count": 70,
   "id": "d918c195",
   "metadata": {},
   "outputs": [
    {
     "data": {
      "text/plain": [
       "DenseVector([0.3694, 0.3301, 0.3004])"
      ]
     },
     "execution_count": 70,
     "metadata": {},
     "output_type": "execute_result"
    }
   ],
   "source": [
    "# variance explained\n",
    "model.explainedVariance"
   ]
  },
  {
   "cell_type": "code",
   "execution_count": 72,
   "id": "6b38f463",
   "metadata": {},
   "outputs": [
    {
     "data": {
      "text/html": [
       "<div>\n",
       "<style scoped>\n",
       "    .dataframe tbody tr th:only-of-type {\n",
       "        vertical-align: middle;\n",
       "    }\n",
       "\n",
       "    .dataframe tbody tr th {\n",
       "        vertical-align: top;\n",
       "    }\n",
       "\n",
       "    .dataframe thead th {\n",
       "        text-align: right;\n",
       "    }\n",
       "</style>\n",
       "<table border=\"1\" class=\"dataframe\">\n",
       "  <thead>\n",
       "    <tr style=\"text-align: right;\">\n",
       "      <th></th>\n",
       "      <th>PC1</th>\n",
       "      <th>PC2</th>\n",
       "      <th>PC3</th>\n",
       "    </tr>\n",
       "  </thead>\n",
       "  <tbody>\n",
       "    <tr>\n",
       "      <th>avg_value</th>\n",
       "      <td>-0.6894</td>\n",
       "      <td>0.0623</td>\n",
       "      <td>-0.7217</td>\n",
       "    </tr>\n",
       "    <tr>\n",
       "      <th>avg_fee</th>\n",
       "      <td>-0.3771</td>\n",
       "      <td>-0.8815</td>\n",
       "      <td>0.2842</td>\n",
       "    </tr>\n",
       "    <tr>\n",
       "      <th>c</th>\n",
       "      <td>-0.6185</td>\n",
       "      <td>0.4681</td>\n",
       "      <td>0.6312</td>\n",
       "    </tr>\n",
       "  </tbody>\n",
       "</table>\n",
       "</div>"
      ],
      "text/plain": [
       "              PC1     PC2     PC3\n",
       "avg_value -0.6894  0.0623 -0.7217\n",
       "avg_fee   -0.3771 -0.8815  0.2842\n",
       "c         -0.6185  0.4681  0.6312"
      ]
     },
     "execution_count": 72,
     "metadata": {},
     "output_type": "execute_result"
    }
   ],
   "source": [
    "# help received from: https://stackoverflow.com/questions/59883306/how-to-drop-a-column-from-a-spark-dataframe-by-index-where-column-names-can-be-d\n",
    "# pca plot variance explained https://datascience-enthusiast.com/Python/PCA_Spark_Python_R\n",
    "\n",
    "import numpy as np\n",
    "import pandas as pd\n",
    "pcs = np.round(model.pc.toArray(),4)\n",
    "df_pc = pd.DataFrame(pcs, columns = ['PC'+str(i) for i in range(1, 4)], index = inputCols)\n",
    "df_pc\n"
   ]
  },
  {
   "cell_type": "code",
   "execution_count": 74,
   "id": "f086b098",
   "metadata": {},
   "outputs": [
    {
     "name": "stdout",
     "output_type": "stream",
     "text": [
      "Silhouette Score: 0.9372109173172476\n",
      "Silhouette Score: 0.843710152558556\n",
      "Silhouette Score: 0.8982503349339863\n",
      "Silhouette Score: 0.934017073207804\n",
      "Silhouette Score: 0.9232885886246384\n",
      "Silhouette Score: 0.9228496839386349\n",
      "Silhouette Score: 0.9248666077885384\n",
      "Silhouette Score: 0.9200819856423744\n",
      "Wall time: 42min 41s\n"
     ]
    }
   ],
   "source": [
    "%%time\n",
    "from pyspark.ml.clustering import KMeans\n",
    "from pyspark.ml.evaluation import ClusteringEvaluator\n",
    "silhouette_score=[]\n",
    "evaluator = ClusteringEvaluator(predictionCol='prediction', featuresCol='standardized', \\\n",
    "                                metricName='silhouette', distanceMeasure='squaredEuclidean')\n",
    "for i in range(2,10):\n",
    "    \n",
    "    KMeans_algo=KMeans(featuresCol='standardized', k=i, seed=1) # set seed\n",
    "    \n",
    "    KMeans_fit=KMeans_algo.fit(data_scale_output)\n",
    "    \n",
    "    output=KMeans_fit.transform(data_scale_output)\n",
    "    \n",
    "    \n",
    "    \n",
    "    score=evaluator.evaluate(output)\n",
    "    \n",
    "    silhouette_score.append(score)\n",
    "    \n",
    "    print(\"Silhouette Score:\",score)"
   ]
  },
  {
   "cell_type": "code",
   "execution_count": 75,
   "id": "60a407f8",
   "metadata": {},
   "outputs": [
    {
     "data": {
      "text/plain": [
       "Text(0, 0.5, 'silhouette score')"
      ]
     },
     "execution_count": 75,
     "metadata": {},
     "output_type": "execute_result"
    },
    {
     "data": {
      "image/png": "[encoded data removed]",
      "text/plain": [
       "<Figure size 576x432 with 1 Axes>"
      ]
     },
     "metadata": {
      "needs_background": "light"
     },
     "output_type": "display_data"
    }
   ],
   "source": [
    "#Visualizing the silhouette scores in a plot\n",
    "import matplotlib.pyplot as plt\n",
    "fig, ax = plt.subplots(1,1, figsize =(8,6))\n",
    "ax.plot(range(2,10),silhouette_score)\n",
    "ax.set_xlabel(\"k\")\n",
    "ax.set_ylabel(\"silhouette score\")"
   ]
  },
  {
   "cell_type": "code",
   "execution_count": 76,
   "id": "be8eb067",
   "metadata": {},
   "outputs": [],
   "source": [
    "\n",
    "\n",
    "\n",
    "from pyspark.ml.evaluation import ClusteringEvaluator\n",
    "from pyspark.ml.clustering import KMeans\n",
    "\n",
    "# Trains a k-means model.\n",
    "kmeans = KMeans(featuresCol='standardized').setK(4).setSeed(1)\n",
    "model = kmeans.fit(data_scale_output)\n",
    "\n",
    "# Make predictions\n",
    "predictions = model.transform(data_scale_output)\n",
    "\n",
    "\n"
   ]
  },
  {
   "cell_type": "code",
   "execution_count": 79,
   "id": "ac0f4f31",
   "metadata": {},
   "outputs": [],
   "source": [
    "# output of transform \"output\" or \"predictions\"\n",
    "pandasDF=predictions.toPandas()"
   ]
  },
  {
   "cell_type": "code",
   "execution_count": 81,
   "id": "6f6ad9d7",
   "metadata": {},
   "outputs": [
    {
     "data": {
      "text/html": [
       "<div>\n",
       "<style scoped>\n",
       "    .dataframe tbody tr th:only-of-type {\n",
       "        vertical-align: middle;\n",
       "    }\n",
       "\n",
       "    .dataframe tbody tr th {\n",
       "        vertical-align: top;\n",
       "    }\n",
       "\n",
       "    .dataframe thead th {\n",
       "        text-align: right;\n",
       "    }\n",
       "</style>\n",
       "<table border=\"1\" class=\"dataframe\">\n",
       "  <thead>\n",
       "    <tr style=\"text-align: right;\">\n",
       "      <th></th>\n",
       "      <th>avg_value</th>\n",
       "      <th>avg_fee</th>\n",
       "      <th>c</th>\n",
       "    </tr>\n",
       "  </thead>\n",
       "  <tbody>\n",
       "    <tr>\n",
       "      <th>0</th>\n",
       "      <td>-0.301047</td>\n",
       "      <td>-0.042156</td>\n",
       "      <td>-0.101039</td>\n",
       "    </tr>\n",
       "    <tr>\n",
       "      <th>1</th>\n",
       "      <td>0.702882</td>\n",
       "      <td>14.729673</td>\n",
       "      <td>0.125570</td>\n",
       "    </tr>\n",
       "    <tr>\n",
       "      <th>2</th>\n",
       "      <td>-0.031529</td>\n",
       "      <td>-0.233414</td>\n",
       "      <td>10.261796</td>\n",
       "    </tr>\n",
       "    <tr>\n",
       "      <th>3</th>\n",
       "      <td>2.972044</td>\n",
       "      <td>0.083345</td>\n",
       "      <td>0.178350</td>\n",
       "    </tr>\n",
       "  </tbody>\n",
       "</table>\n",
       "</div>"
      ],
      "text/plain": [
       "   avg_value    avg_fee          c\n",
       "0  -0.301047  -0.042156  -0.101039\n",
       "1   0.702882  14.729673   0.125570\n",
       "2  -0.031529  -0.233414  10.261796\n",
       "3   2.972044   0.083345   0.178350"
      ]
     },
     "execution_count": 81,
     "metadata": {},
     "output_type": "execute_result"
    }
   ],
   "source": [
    "import pandas as pd\n",
    "centers = pd.DataFrame(ctr,columns=inputCols)\n",
    "centers # könnte man einzeichnen, wenn man plot mit skalierten daten (nicht pca -daten) macht\n",
    "#  centers of the 4 clusters, by viewing the dimensions avg_value_avg_fee and c"
   ]
  },
  {
   "cell_type": "code",
   "execution_count": 82,
   "id": "93cf14c7",
   "metadata": {},
   "outputs": [],
   "source": [
    "# plot pca\n",
    "#pca_pandas = pandasDF.toPandas()\n",
    "x = []\n",
    "y = []\n",
    "z = []\n",
    "for i, j, k in pandasDF[\"pca_features\"].values:\n",
    "    x.append(i)\n",
    "    y.append(j)\n",
    "    z.append(k)"
   ]
  },
  {
   "cell_type": "code",
   "execution_count": 83,
   "id": "ef103354",
   "metadata": {},
   "outputs": [
    {
     "data": {
      "image/png": "[encoded data removed]",
      "text/plain": [
       "<Figure size 432x288 with 1 Axes>"
      ]
     },
     "metadata": {
      "needs_background": "light"
     },
     "output_type": "display_data"
    }
   ],
   "source": [
    "# help: u.a. https://stackoverflow.com/questions/37711538/matplotlib-3d-axes-ticks-labels-and-latex\n",
    "# todo change size:https://stackoverflow.com/questions/332289/how-do-you-change-the-size-of-figures-drawn-with-matplotlib\n",
    "\n",
    "import matplotlib.pyplot as plt\n",
    "\n",
    "import numpy as np\n",
    "from matplotlib import pyplot\n",
    "from mpl_toolkits.mplot3d import Axes3D\n",
    "scatter_x = np.array(x) # scaled bitcoin transaction avg_value\n",
    "scatter_y = np.array(y) # scaled bitcoin transaction avg_fee\n",
    "scatter_z = np.array(z) # scaled bitcoin transaction count\n",
    "group = np.array(pandasDF['prediction'])\n",
    "\n",
    "cdict = {0: 'red', 1: 'blue', 2: 'green', 3: 'magenta'}\n",
    "#fig, ax = plt.subplots()\n",
    "fig = pyplot.figure()\n",
    "ax = Axes3D(fig)\n",
    "for g in np.unique(group):\n",
    "    ix = np.where(group == g)\n",
    "    ax.scatter(scatter_x[ix], scatter_y[ix], scatter_z[ix], c = cdict[g], label = g+1)\n",
    "ax.legend()\n",
    "plt.xlabel(\"PC1\")\n",
    "plt.ylabel(\"PC2\")\n",
    "ax.set_zlabel(\"PC3\")\n",
    "plt.show()"
   ]
  },
  {
   "cell_type": "code",
   "execution_count": 84,
   "id": "5445b44c",
   "metadata": {},
   "outputs": [],
   "source": [
    "# bring scaled values(value, fee) into list\n",
    "# 3 gegeben durch anzahl columns (nicht anzahl clusters nach kmeans)\n",
    "x = []\n",
    "y = []\n",
    "z = []\n",
    "for i, j, k in pandasDF[\"standardized\"].values:\n",
    "    x.append(i)\n",
    "    y.append(j)\n",
    "    z.append(k)"
   ]
  },
  {
   "cell_type": "code",
   "execution_count": 85,
   "id": "18ca11e6",
   "metadata": {},
   "outputs": [
    {
     "data": {
      "image/png": "[encoded data removed]",
      "text/plain": [
       "<Figure size 432x288 with 1 Axes>"
      ]
     },
     "metadata": {
      "needs_background": "light"
     },
     "output_type": "display_data"
    }
   ],
   "source": [
    "# help: u.a. https://stackoverflow.com/questions/37711538/matplotlib-3d-axes-ticks-labels-and-latex\n",
    "\n",
    "import matplotlib.pyplot as plt\n",
    "\n",
    "# plot mit scaled daten: value vs. fee\n",
    "#todo: outlier entfernen\n",
    "#todo: mean centers rein tun\n",
    "import numpy as np\n",
    "from matplotlib import pyplot\n",
    "from mpl_toolkits.mplot3d import Axes3D\n",
    "scatter_x = np.array(x) # scaled bitcoin transaction avg_value\n",
    "scatter_y = np.array(y) # scaled bitcoin transaction avg_fee\n",
    "scatter_z = np.array(z) # scaled bitcoin transaction count\n",
    "group = np.array(pandasDF['prediction'])\n",
    "\n",
    "cdict = {0: 'red', 1: 'blue', 2: 'green', 3: 'orange'}\n",
    "#fig, ax = plt.subplots()\n",
    "fig = pyplot.figure()\n",
    "ax = Axes3D(fig)\n",
    "for g in np.unique(group):\n",
    "    ix = np.where(group == g)\n",
    "    ax.scatter(scatter_x[ix], scatter_y[ix], scatter_z[ix], c = cdict[g], label = g+1)\n",
    "ax.legend()\n",
    "plt.xlabel(\"avg_value\")\n",
    "plt.ylabel(\"avg_fee\")\n",
    "ax.set_zlabel(\"count\")\n",
    "plt.show()\n",
    "\n",
    "#plt.scatter(y=pandasDF[\"fee\"],x=pandasDF[\"value\"], c=pandasDF[\"prediction\"], cmap='brg')\n",
    "#plt.legend()\n",
    "\n",
    "#plt.scatter(y=y,x=x, c=pandasDF[\"prediction\"].values, cmap='brg')\n",
    "#plt.legend()\n",
    "\n"
   ]
  }
 ],
 "metadata": {
  "kernelspec": {
   "display_name": "Python 3",
   "language": "python",
   "name": "python3"
  },
  "language_info": {
   "codemirror_mode": {
    "name": "ipython",
    "version": 3
   },
   "file_extension": ".py",
   "mimetype": "text/x-python",
   "name": "python",
   "nbconvert_exporter": "python",
   "pygments_lexer": "ipython3",
   "version": "3.8.8"
  }
 },
 "nbformat": 4,
 "nbformat_minor": 5
}
