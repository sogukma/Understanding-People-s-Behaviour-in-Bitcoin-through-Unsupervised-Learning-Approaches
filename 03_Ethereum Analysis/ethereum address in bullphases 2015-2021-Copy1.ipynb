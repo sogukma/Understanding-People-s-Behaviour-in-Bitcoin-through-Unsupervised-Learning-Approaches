{
 "cells": [
  {
   "cell_type": "code",
   "execution_count": null,
   "id": "f06eeb32",
   "metadata": {},
   "outputs": [],
   "source": [
    "#credits\n",
    "https://towardsdatascience.com/predicate-vs-projection-pushdown-in-spark-3-ac24c4d11855\n",
    "    https://www.bmc.com/blogs/python-spark-k-means-example/\n",
    "- sampling: https://stackoverflow.com/questions/24806084/sampling-a-large-distributed-data-set-using-pyspark-spark\n",
    "- filter pushing: https://engineering.dynatrace.com/blog/optimizing-spark-queries-with-filter-pushdown/\n",
    "        -https://towardsdatascience.com/predicate-vs-projection-pushdown-in-spark-3-ac24c4d11855\n",
    "            "
   ]
  },
  {
   "cell_type": "code",
   "execution_count": 1,
   "id": "5a90213b",
   "metadata": {},
   "outputs": [
    {
     "name": "stdout",
     "output_type": "stream",
     "text": [
      "Requirement already satisfied: pyspark in c:\\users\\enginesadmin\\anaconda3\\lib\\site-packages (3.1.2)\n",
      "Requirement already satisfied: py4j==0.10.9 in c:\\users\\enginesadmin\\anaconda3\\lib\\site-packages (from pyspark) (0.10.9)\n"
     ]
    }
   ],
   "source": [
    "!pip install pyspark\n",
    "\n"
   ]
  },
  {
   "cell_type": "code",
   "execution_count": 1,
   "id": "c7bc52d7",
   "metadata": {},
   "outputs": [],
   "source": [
    "from pyspark.sql import SparkSession\n"
   ]
  },
  {
   "cell_type": "code",
   "execution_count": 2,
   "id": "a28e4001",
   "metadata": {},
   "outputs": [],
   "source": [
    "import glob"
   ]
  },
  {
   "cell_type": "code",
   "execution_count": 3,
   "id": "e66d033f",
   "metadata": {},
   "outputs": [
    {
     "data": {
      "text/plain": [
       "'D:\\\\Ethereum analysis - Copy'"
      ]
     },
     "execution_count": 3,
     "metadata": {},
     "output_type": "execute_result"
    }
   ],
   "source": [
    "pwd()"
   ]
  },
  {
   "cell_type": "code",
   "execution_count": 4,
   "id": "59e03481",
   "metadata": {},
   "outputs": [],
   "source": [
    "from pyspark.sql.types import StructType,StructField, StringType, IntegerType, TimestampType"
   ]
  },
  {
   "cell_type": "code",
   "execution_count": 5,
   "id": "785d5da9",
   "metadata": {},
   "outputs": [],
   "source": [
    "from pyspark.sql import functions as F\n",
    "#df.select(F.col(\"my_column\"))"
   ]
  },
  {
   "cell_type": "code",
   "execution_count": 6,
   "id": "714d69f4",
   "metadata": {},
   "outputs": [],
   "source": [
    "schema = StructType([ \\\n",
    "    StructField(\"sender\",StringType(),True), \\\n",
    "    StructField(\"value\",IntegerType(),True), \\\n",
    "    StructField(\"timestamp_in_unix_seconds\",IntegerType(),True), \\\n",
    "    StructField(\"fee\",IntegerType(),True), \\\n",
    "  ])"
   ]
  },
  {
   "cell_type": "code",
   "execution_count": 7,
   "id": "55c75d96",
   "metadata": {},
   "outputs": [],
   "source": [
    "# spark.rdd.filter.csv.filterPushdown?\n",
    "# spark config\n",
    "from pyspark.conf import SparkConf\n",
    "\n",
    "\n",
    "config = SparkConf().setAll([ \\\n",
    "    ('spark.executor.memory', '8g'), \\\n",
    "    (\"spark.executor.instances\", \"4\"), \\\n",
    "\n",
    "    ('spark.driver.memory','16g'), \\\n",
    "    (\"spark.sql.parquet.filterPushdown\", \"true\"), \\\n",
    "    (\"spark.hadoop.parquet.filter.stats.enabled\", \"true\"), \\\n",
    "    (\"spark.sql.optimizer.nestedSchemaPruning.enabled\", \"true\"), \\\n",
    "    (\"spark.sql.optimizer.dynamicPartitionPruning.enabled\", \"true\"), \\\n",
    "    (\"spark.sql.autoBroadcastJoinThreshold\", \"-1\"), \\\n",
    "    (\"spark.sql.parquet.binaryAsString\", \"true\") ]) \\\n",
    "#    (\"spark.executor.memoryOverhead\", \"16384\") \\\n",
    "\n",
    "\n",
    "\n"
   ]
  },
  {
   "cell_type": "code",
   "execution_count": 8,
   "id": "dee7dced",
   "metadata": {},
   "outputs": [
    {
     "name": "stdout",
     "output_type": "stream",
     "text": [
      "<pyspark.conf.SparkConf object at 0x0000028084C896A0>\n",
      "local\n",
      "Clustering using K-Means\n"
     ]
    }
   ],
   "source": [
    "print(config.setMaster(\"local\").setAppName(\"Clustering using K-Means\"))\n",
    "\n",
    "print(config.get(\"spark.master\"))\n",
    "\n",
    "print(config.get(\"spark.app.name\"))\n"
   ]
  },
  {
   "cell_type": "code",
   "execution_count": 9,
   "id": "830a0d7e",
   "metadata": {},
   "outputs": [],
   "source": [
    "import time\n",
    "\n",
    "from datetime import datetime\n",
    "spark = SparkSession.builder.appName(\"Clustering using K-Means\") \\\n",
    "    .config(conf=config) \\\n",
    "    .getOrCreate() \\\n",
    "#    .option(\"failOnDataLoss\", False)\n",
    "#spark"
   ]
  },
  {
   "cell_type": "code",
   "execution_count": 10,
   "id": "b0a5cbed",
   "metadata": {},
   "outputs": [
    {
     "data": {
      "text/html": [
       "\n",
       "            <div>\n",
       "                <p><b>SparkSession - in-memory</b></p>\n",
       "                \n",
       "        <div>\n",
       "            <p><b>SparkContext</b></p>\n",
       "\n",
       "            <p><a href=\"http://10.0.7.40:4041\">Spark UI</a></p>\n",
       "\n",
       "            <dl>\n",
       "              <dt>Version</dt>\n",
       "                <dd><code>v3.1.2</code></dd>\n",
       "              <dt>Master</dt>\n",
       "                <dd><code>local</code></dd>\n",
       "              <dt>AppName</dt>\n",
       "                <dd><code>Clustering using K-Means</code></dd>\n",
       "            </dl>\n",
       "        </div>\n",
       "        \n",
       "            </div>\n",
       "        "
      ],
      "text/plain": [
       "<pyspark.sql.session.SparkSession at 0x28084de3b50>"
      ]
     },
     "execution_count": 10,
     "metadata": {},
     "output_type": "execute_result"
    }
   ],
   "source": [
    "spark"
   ]
  },
  {
   "cell_type": "code",
   "execution_count": 11,
   "id": "0bd9f22c",
   "metadata": {},
   "outputs": [
    {
     "data": {
      "text/plain": [
       "[('spark.master', 'local'),\n",
       " ('spark.driver.host', '10.0.7.40'),\n",
       " ('spark.executor.instances', '4'),\n",
       " ('spark.sql.parquet.binaryAsString', 'true'),\n",
       " ('spark.sql.parquet.filterPushdown', 'true'),\n",
       " ('spark.driver.port', '56296'),\n",
       " ('spark.executor.id', 'driver'),\n",
       " ('spark.sql.optimizer.dynamicPartitionPruning.enabled', 'true'),\n",
       " ('spark.driver.memory', '16g'),\n",
       " ('spark.sql.optimizer.nestedSchemaPruning.enabled', 'true'),\n",
       " ('spark.rdd.compress', 'True'),\n",
       " ('spark.serializer.objectStreamReset', '100'),\n",
       " ('spark.app.startTime', '1637865213214'),\n",
       " ('spark.executor.memory', '8g'),\n",
       " ('spark.submit.pyFiles', ''),\n",
       " ('spark.submit.deployMode', 'client'),\n",
       " ('spark.hadoop.parquet.filter.stats.enabled', 'true'),\n",
       " ('spark.sql.autoBroadcastJoinThreshold', '-1'),\n",
       " ('spark.sql.warehouse.dir',\n",
       "  'file:/D:/Ethereum%20analysis%20-%20Copy/spark-warehouse'),\n",
       " ('spark.ui.showConsoleProgress', 'true'),\n",
       " ('spark.app.name', 'Clustering using K-Means'),\n",
       " ('spark.app.id', 'local-1637865219365')]"
      ]
     },
     "execution_count": 11,
     "metadata": {},
     "output_type": "execute_result"
    }
   ],
   "source": [
    "spark.sparkContext.getConf().getAll()"
   ]
  },
  {
   "cell_type": "code",
   "execution_count": 12,
   "id": "3d953167",
   "metadata": {},
   "outputs": [
    {
     "data": {
      "text/plain": [
       "['D:\\\\Downloads\\\\ethereum\\\\ethereum000000000000.csv',\n",
       " 'D:\\\\Downloads\\\\ethereum\\\\ethereum000000000001.csv',\n",
       " 'D:\\\\Downloads\\\\ethereum\\\\ethereum000000000002.csv',\n",
       " 'D:\\\\Downloads\\\\ethereum\\\\ethereum000000000003.csv',\n",
       " 'D:\\\\Downloads\\\\ethereum\\\\ethereum000000000004.csv',\n",
       " 'D:\\\\Downloads\\\\ethereum\\\\ethereum000000000005.csv',\n",
       " 'D:\\\\Downloads\\\\ethereum\\\\ethereum000000000006.csv',\n",
       " 'D:\\\\Downloads\\\\ethereum\\\\ethereum000000000007.csv',\n",
       " 'D:\\\\Downloads\\\\ethereum\\\\ethereum000000000008.csv',\n",
       " 'D:\\\\Downloads\\\\ethereum\\\\ethereum000000000009.csv',\n",
       " 'D:\\\\Downloads\\\\ethereum\\\\ethereum000000000010.csv',\n",
       " 'D:\\\\Downloads\\\\ethereum\\\\ethereum000000000011.csv',\n",
       " 'D:\\\\Downloads\\\\ethereum\\\\ethereum000000000012.csv',\n",
       " 'D:\\\\Downloads\\\\ethereum\\\\ethereum000000000013.csv',\n",
       " 'D:\\\\Downloads\\\\ethereum\\\\ethereum000000000014.csv',\n",
       " 'D:\\\\Downloads\\\\ethereum\\\\ethereum000000000015.csv',\n",
       " 'D:\\\\Downloads\\\\ethereum\\\\ethereum000000000016.csv',\n",
       " 'D:\\\\Downloads\\\\ethereum\\\\ethereum000000000017.csv',\n",
       " 'D:\\\\Downloads\\\\ethereum\\\\ethereum000000000018.csv',\n",
       " 'D:\\\\Downloads\\\\ethereum\\\\ethereum000000000019.csv',\n",
       " 'D:\\\\Downloads\\\\ethereum\\\\ethereum000000000020.csv',\n",
       " 'D:\\\\Downloads\\\\ethereum\\\\ethereum000000000021.csv',\n",
       " 'D:\\\\Downloads\\\\ethereum\\\\ethereum000000000022.csv',\n",
       " 'D:\\\\Downloads\\\\ethereum\\\\ethereum000000000023.csv',\n",
       " 'D:\\\\Downloads\\\\ethereum\\\\ethereum000000000024.csv',\n",
       " 'D:\\\\Downloads\\\\ethereum\\\\ethereum000000000025.csv',\n",
       " 'D:\\\\Downloads\\\\ethereum\\\\ethereum000000000026.csv',\n",
       " 'D:\\\\Downloads\\\\ethereum\\\\ethereum000000000027.csv',\n",
       " 'D:\\\\Downloads\\\\ethereum\\\\ethereum000000000028.csv',\n",
       " 'D:\\\\Downloads\\\\ethereum\\\\ethereum000000000029.csv',\n",
       " 'D:\\\\Downloads\\\\ethereum\\\\ethereum000000000030.csv',\n",
       " 'D:\\\\Downloads\\\\ethereum\\\\ethereum000000000031.csv',\n",
       " 'D:\\\\Downloads\\\\ethereum\\\\ethereum000000000032.csv',\n",
       " 'D:\\\\Downloads\\\\ethereum\\\\ethereum000000000033.csv',\n",
       " 'D:\\\\Downloads\\\\ethereum\\\\ethereum000000000034.csv',\n",
       " 'D:\\\\Downloads\\\\ethereum\\\\ethereum000000000035.csv',\n",
       " 'D:\\\\Downloads\\\\ethereum\\\\ethereum000000000036.csv',\n",
       " 'D:\\\\Downloads\\\\ethereum\\\\ethereum000000000037.csv',\n",
       " 'D:\\\\Downloads\\\\ethereum\\\\ethereum000000000038.csv',\n",
       " 'D:\\\\Downloads\\\\ethereum\\\\ethereum000000000039.csv',\n",
       " 'D:\\\\Downloads\\\\ethereum\\\\ethereum000000000040.csv',\n",
       " 'D:\\\\Downloads\\\\ethereum\\\\ethereum000000000041.csv',\n",
       " 'D:\\\\Downloads\\\\ethereum\\\\ethereum000000000042.csv',\n",
       " 'D:\\\\Downloads\\\\ethereum\\\\ethereum000000000043.csv',\n",
       " 'D:\\\\Downloads\\\\ethereum\\\\ethereum000000000044.csv',\n",
       " 'D:\\\\Downloads\\\\ethereum\\\\ethereum000000000045.csv',\n",
       " 'D:\\\\Downloads\\\\ethereum\\\\ethereum000000000046.csv',\n",
       " 'D:\\\\Downloads\\\\ethereum\\\\ethereum000000000047.csv',\n",
       " 'D:\\\\Downloads\\\\ethereum\\\\ethereum000000000048.csv',\n",
       " 'D:\\\\Downloads\\\\ethereum\\\\ethereum000000000049.csv',\n",
       " 'D:\\\\Downloads\\\\ethereum\\\\ethereum000000000050.csv',\n",
       " 'D:\\\\Downloads\\\\ethereum\\\\ethereum000000000051.csv',\n",
       " 'D:\\\\Downloads\\\\ethereum\\\\ethereum000000000052.csv',\n",
       " 'D:\\\\Downloads\\\\ethereum\\\\ethereum000000000053.csv',\n",
       " 'D:\\\\Downloads\\\\ethereum\\\\ethereum000000000054.csv',\n",
       " 'D:\\\\Downloads\\\\ethereum\\\\ethereum000000000055.csv',\n",
       " 'D:\\\\Downloads\\\\ethereum\\\\ethereum000000000056.csv',\n",
       " 'D:\\\\Downloads\\\\ethereum\\\\ethereum000000000057.csv',\n",
       " 'D:\\\\Downloads\\\\ethereum\\\\ethereum000000000058.csv',\n",
       " 'D:\\\\Downloads\\\\ethereum\\\\ethereum000000000059.csv',\n",
       " 'D:\\\\Downloads\\\\ethereum\\\\ethereum000000000060.csv',\n",
       " 'D:\\\\Downloads\\\\ethereum\\\\ethereum000000000061.csv',\n",
       " 'D:\\\\Downloads\\\\ethereum\\\\ethereum000000000062.csv',\n",
       " 'D:\\\\Downloads\\\\ethereum\\\\ethereum000000000063.csv',\n",
       " 'D:\\\\Downloads\\\\ethereum\\\\ethereum000000000064.csv',\n",
       " 'D:\\\\Downloads\\\\ethereum\\\\ethereum000000000065.csv',\n",
       " 'D:\\\\Downloads\\\\ethereum\\\\ethereum000000000066.csv',\n",
       " 'D:\\\\Downloads\\\\ethereum\\\\ethereum000000000067.csv',\n",
       " 'D:\\\\Downloads\\\\ethereum\\\\ethereum000000000068.csv',\n",
       " 'D:\\\\Downloads\\\\ethereum\\\\ethereum000000000069.csv',\n",
       " 'D:\\\\Downloads\\\\ethereum\\\\ethereum000000000070.csv',\n",
       " 'D:\\\\Downloads\\\\ethereum\\\\ethereum000000000071.csv',\n",
       " 'D:\\\\Downloads\\\\ethereum\\\\ethereum000000000072.csv',\n",
       " 'D:\\\\Downloads\\\\ethereum\\\\ethereum000000000073.csv',\n",
       " 'D:\\\\Downloads\\\\ethereum\\\\ethereum000000000074.csv',\n",
       " 'D:\\\\Downloads\\\\ethereum\\\\ethereum000000000075.csv',\n",
       " 'D:\\\\Downloads\\\\ethereum\\\\ethereum000000000076.csv',\n",
       " 'D:\\\\Downloads\\\\ethereum\\\\ethereum000000000077.csv',\n",
       " 'D:\\\\Downloads\\\\ethereum\\\\ethereum000000000078.csv',\n",
       " 'D:\\\\Downloads\\\\ethereum\\\\ethereum000000000079.csv',\n",
       " 'D:\\\\Downloads\\\\ethereum\\\\ethereum000000000080.csv',\n",
       " 'D:\\\\Downloads\\\\ethereum\\\\ethereum000000000081.csv',\n",
       " 'D:\\\\Downloads\\\\ethereum\\\\ethereum000000000082.csv',\n",
       " 'D:\\\\Downloads\\\\ethereum\\\\ethereum000000000083.csv',\n",
       " 'D:\\\\Downloads\\\\ethereum\\\\ethereum000000000084.csv',\n",
       " 'D:\\\\Downloads\\\\ethereum\\\\ethereum000000000085.csv',\n",
       " 'D:\\\\Downloads\\\\ethereum\\\\ethereum000000000086.csv',\n",
       " 'D:\\\\Downloads\\\\ethereum\\\\ethereum000000000087.csv',\n",
       " 'D:\\\\Downloads\\\\ethereum\\\\ethereum000000000088.csv',\n",
       " 'D:\\\\Downloads\\\\ethereum\\\\ethereum000000000089.csv',\n",
       " 'D:\\\\Downloads\\\\ethereum\\\\ethereum000000000090.csv',\n",
       " 'D:\\\\Downloads\\\\ethereum\\\\ethereum000000000091.csv',\n",
       " 'D:\\\\Downloads\\\\ethereum\\\\ethereum000000000092.csv',\n",
       " 'D:\\\\Downloads\\\\ethereum\\\\ethereum000000000093.csv',\n",
       " 'D:\\\\Downloads\\\\ethereum\\\\ethereum000000000094.csv',\n",
       " 'D:\\\\Downloads\\\\ethereum\\\\ethereum000000000095.csv',\n",
       " 'D:\\\\Downloads\\\\ethereum\\\\ethereum000000000096.csv',\n",
       " 'D:\\\\Downloads\\\\ethereum\\\\ethereum000000000097.csv']"
      ]
     },
     "execution_count": 12,
     "metadata": {},
     "output_type": "execute_result"
    }
   ],
   "source": [
    "# help received for reading several files: https://stackoverflow.com/questions/49898742/pandas-reading-csv-files-with-partial-wildcard\n",
    "\n",
    "import glob\n",
    "import os\n",
    "ETHEREUM_PATHS = sorted(glob.glob(os.path.join(\"D:\\\\Downloads\\\\ethereum\\\\\", \"ethereum*.csv\")))\n",
    "ETHEREUM_PATHS"
   ]
  },
  {
   "cell_type": "code",
   "execution_count": 13,
   "id": "cc1c00ab",
   "metadata": {},
   "outputs": [
    {
     "name": "stdout",
     "output_type": "stream",
     "text": [
      "root\n",
      " |-- sender: string (nullable = true)\n",
      " |-- value: integer (nullable = true)\n",
      " |-- fee: integer (nullable = true)\n",
      "\n"
     ]
    }
   ],
   "source": [
    "# deal with date value (1): https://stackoverflow.com/questions/19480028/attributeerror-datetime-module-has-no-attribute-strptime\n",
    "# deal with date value (2) :https://stackoverflow.com/questions/19801727/convert-datetime-to-unix-timestamp-and-convert-it-back-in-python\n",
    "# hier wird dataframe gelesen. versuche es mit rdd .rdd()\n",
    "data_customer=spark.read.csv(ETHEREUM_PATHS, header=True, schema=schema) \\\n",
    "    .select(\"sender\",\"value\",\"fee\") \\\n",
    "    .filter( \\\n",
    "        ((F.col('timestamp_in_unix_seconds') >= int(time.mktime(datetime.strptime('2015-07-30', '%Y-%m-%d').timetuple()))) & (F.col('timestamp_in_unix_seconds') <= int(time.mktime(datetime.strptime('2017-12-18', '%Y-%m-%d').timetuple())))) |\\\n",
    "        ((F.col('timestamp_in_unix_seconds') >= int(time.mktime(datetime.strptime('2018-12-16', '%Y-%m-%d').timetuple()))) & (F.col('timestamp_in_unix_seconds') <= int(time.mktime(datetime.strptime('2021-04-13', '%Y-%m-%d').timetuple())))) \\\n",
    "            \n",
    "           ) \\\n",
    "    .sample(False,0.01,1234) \\\n",
    "    .na.drop() \\\n",
    "    .persist()\n",
    "data_customer.printSchema()"
   ]
  },
  {
   "cell_type": "code",
   "execution_count": 14,
   "id": "e444ee76",
   "metadata": {},
   "outputs": [
    {
     "name": "stdout",
     "output_type": "stream",
     "text": [
      "== Physical Plan ==\n",
      "InMemoryTableScan [sender#0, value#1, fee#3]\n",
      "   +- InMemoryRelation [sender#0, value#1, fee#3], StorageLevel(disk, memory, deserialized, 1 replicas)\n",
      "         +- *(1) Filter AtLeastNNulls(n, sender#0,value#1,fee#3)\n",
      "            +- *(1) Sample 0.0, 0.01, false, 1234\n",
      "               +- *(1) Project [sender#0, value#1, fee#3]\n",
      "                  +- *(1) Filter (((timestamp_in_unix_seconds#2 >= 1438207200) AND (timestamp_in_unix_seconds#2 <= 1513551600)) OR ((timestamp_in_unix_seconds#2 >= 1544914800) AND (timestamp_in_unix_seconds#2 <= 1618264800)))\n",
      "                     +- FileScan csv [sender#0,value#1,timestamp_in_unix_seconds#2,fee#3] Batched: false, DataFilters: [(((timestamp_in_unix_seconds#2 >= 1438207200) AND (timestamp_in_unix_seconds#2 <= 1513551600)) O..., Format: CSV, Location: InMemoryFileIndex[file:/D:/Downloads/ethereum/ethereum000000000000.csv, file:/D:/Downloads/ethere..., PartitionFilters: [], PushedFilters: [Or(And(GreaterThanOrEqual(timestamp_in_unix_seconds,1438207200),LessThanOrEqual(timestamp_in_uni..., ReadSchema: struct<sender:string,value:int,timestamp_in_unix_seconds:int,fee:int>\n",
      "\n",
      "\n"
     ]
    }
   ],
   "source": [
    "data_customer.explain()"
   ]
  },
  {
   "cell_type": "code",
   "execution_count": 15,
   "id": "2451d49d",
   "metadata": {},
   "outputs": [
    {
     "name": "stdout",
     "output_type": "stream",
     "text": [
      "+--------------------+---------+------+\n",
      "|              sender|    value|   fee|\n",
      "+--------------------+---------+------+\n",
      "|0xf42b80c4e61e881...|100000000| 50000|\n",
      "|0x77d29800ab48256...|        1|300000|\n",
      "+--------------------+---------+------+\n",
      "only showing top 2 rows\n",
      "\n"
     ]
    }
   ],
   "source": [
    "data_customer.show(2)"
   ]
  },
  {
   "cell_type": "code",
   "execution_count": 16,
   "id": "ba25074c",
   "metadata": {},
   "outputs": [],
   "source": [
    "from pyspark.sql import SQLContext\n",
    "sqlContext = SQLContext(spark)\n",
    "sqlContext.registerDataFrameAsTable(data_customer, \"table1\")\n",
    "df2 = sqlContext.sql(\" \\\n",
    "                     with counted_sender as (SELECT sender, count(*) as c \\\n",
    "                     from table1 group by sender) \\\n",
    "                     select table1.sender, avg(value) as avg_value, avg(fee) as avg_fee, c \\\n",
    "                     from table1 join counted_sender on table1.sender=counted_sender.sender \\\n",
    "                     group by table1.sender, c order by c desc\"\n",
    "                    )"
   ]
  },
  {
   "cell_type": "code",
   "execution_count": 17,
   "id": "22db890d",
   "metadata": {},
   "outputs": [],
   "source": [
    "# sender are filtered out, since they are hash values --> do not contain any structure\n",
    "inputCols=['avg_value', 'avg_fee', 'c']\n"
   ]
  },
  {
   "cell_type": "code",
   "execution_count": 18,
   "id": "4a39b1d6",
   "metadata": {},
   "outputs": [
    {
     "name": "stdout",
     "output_type": "stream",
     "text": [
      "+--------------------+---------+------------------+---+--------------------+\n",
      "|              sender|avg_value|           avg_fee|  c|            features|\n",
      "+--------------------+---------+------------------+---+--------------------+\n",
      "|0x1f93b5e75a04b22...|      1.0|266877.73722627736|548|[1.0,266877.73722...|\n",
      "|0xc400b9d93a23b0b...|      1.0|  319672.131147541|488|[1.0,319672.13114...|\n",
      "+--------------------+---------+------------------+---+--------------------+\n",
      "only showing top 2 rows\n",
      "\n"
     ]
    }
   ],
   "source": [
    "# transformation task. genau wie filter, join, etc. --> bis hier wird das aber nur vorbereitet\n",
    "from pyspark.ml.feature import VectorAssembler\n",
    "df2.columns\n",
    "assemble=VectorAssembler(inputCols=inputCols, outputCol='features')\n",
    "assembled_data=assemble.transform(df2)\n",
    "assembled_data.show(2)"
   ]
  },
  {
   "cell_type": "code",
   "execution_count": 19,
   "id": "d7c559ea",
   "metadata": {},
   "outputs": [
    {
     "name": "stdout",
     "output_type": "stream",
     "text": [
      "+--------------------+---------+------------------+---+--------------------+--------------------+\n",
      "|              sender|avg_value|           avg_fee|  c|            features|        standardized|\n",
      "+--------------------+---------+------------------+---+--------------------+--------------------+\n",
      "|0x1f93b5e75a04b22...|      1.0|266877.73722627736|548|[1.0,266877.73722...|[-0.2403291173618...|\n",
      "|0xc400b9d93a23b0b...|      1.0|  319672.131147541|488|[1.0,319672.13114...|[-0.2403291173618...|\n",
      "+--------------------+---------+------------------+---+--------------------+--------------------+\n",
      "only showing top 2 rows\n",
      "\n"
     ]
    }
   ],
   "source": [
    "# an dieser stelle findet erstmals eine aktion statt. die vorbereiteten transformationen werden durchgeführt.\n",
    "#standarizer\n",
    "from pyspark.ml.feature import StandardScaler\n",
    "scale=StandardScaler(inputCol='features',outputCol='standardized', withMean=True, withStd=True)\n",
    "data_scale=scale.fit(assembled_data)\n",
    "data_scale_output=data_scale.transform(assembled_data)\n",
    "data_scale_output.show(2)"
   ]
  },
  {
   "cell_type": "code",
   "execution_count": 20,
   "id": "9a654f9d",
   "metadata": {},
   "outputs": [],
   "source": [
    "#from pyspark.ml.linalg import Vectors\n",
    "from pyspark.ml.feature import PCA\n",
    "pca = PCA(k=3, inputCol=\"standardized\")\n",
    "pca.setOutputCol(\"pca_features\")\n",
    "model = pca.fit(data_scale_output)\n",
    "data_scale_output = model.transform(data_scale_output)"
   ]
  },
  {
   "cell_type": "code",
   "execution_count": 21,
   "id": "268afaf1",
   "metadata": {},
   "outputs": [
    {
     "name": "stdout",
     "output_type": "stream",
     "text": [
      "+--------------------+---------+------------------+---+--------------------+--------------------+--------------------+\n",
      "|              sender|avg_value|           avg_fee|  c|            features|        standardized|        pca_features|\n",
      "+--------------------+---------+------------------+---+--------------------+--------------------+--------------------+\n",
      "|0x1f93b5e75a04b22...|      1.0|266877.73722627736|548|[1.0,266877.73722...|[-0.2403291173618...|[17.7088153650114...|\n",
      "|0xc400b9d93a23b0b...|      1.0|  319672.131147541|488|[1.0,319672.13114...|[-0.2403291173618...|[15.8141594037943...|\n",
      "+--------------------+---------+------------------+---+--------------------+--------------------+--------------------+\n",
      "only showing top 2 rows\n",
      "\n"
     ]
    }
   ],
   "source": [
    "data_scale_output.show(2)"
   ]
  },
  {
   "cell_type": "code",
   "execution_count": 22,
   "id": "d918c195",
   "metadata": {},
   "outputs": [
    {
     "data": {
      "text/plain": [
       "DenseVector([0.3413, 0.3307, 0.3279])"
      ]
     },
     "execution_count": 22,
     "metadata": {},
     "output_type": "execute_result"
    }
   ],
   "source": [
    "# variance explained\n",
    "model.explainedVariance"
   ]
  },
  {
   "cell_type": "code",
   "execution_count": 23,
   "id": "07963840",
   "metadata": {},
   "outputs": [
    {
     "data": {
      "text/plain": [
       "DenseMatrix(3, 3, [-0.4972, 0.6188, 0.6082, -0.8656, -0.3061, -0.3962, -0.059, -0.7234, 0.6879], 0)"
      ]
     },
     "execution_count": 23,
     "metadata": {},
     "output_type": "execute_result"
    }
   ],
   "source": [
    "model.pc"
   ]
  },
  {
   "cell_type": "code",
   "execution_count": 24,
   "id": "6b38f463",
   "metadata": {},
   "outputs": [
    {
     "data": {
      "text/html": [
       "<div>\n",
       "<style scoped>\n",
       "    .dataframe tbody tr th:only-of-type {\n",
       "        vertical-align: middle;\n",
       "    }\n",
       "\n",
       "    .dataframe tbody tr th {\n",
       "        vertical-align: top;\n",
       "    }\n",
       "\n",
       "    .dataframe thead th {\n",
       "        text-align: right;\n",
       "    }\n",
       "</style>\n",
       "<table border=\"1\" class=\"dataframe\">\n",
       "  <thead>\n",
       "    <tr style=\"text-align: right;\">\n",
       "      <th></th>\n",
       "      <th>PC1</th>\n",
       "      <th>PC2</th>\n",
       "      <th>PC3</th>\n",
       "    </tr>\n",
       "  </thead>\n",
       "  <tbody>\n",
       "    <tr>\n",
       "      <th>avg_value</th>\n",
       "      <td>-0.4972</td>\n",
       "      <td>-0.8656</td>\n",
       "      <td>-0.0590</td>\n",
       "    </tr>\n",
       "    <tr>\n",
       "      <th>avg_fee</th>\n",
       "      <td>0.6188</td>\n",
       "      <td>-0.3061</td>\n",
       "      <td>-0.7234</td>\n",
       "    </tr>\n",
       "    <tr>\n",
       "      <th>c</th>\n",
       "      <td>0.6082</td>\n",
       "      <td>-0.3962</td>\n",
       "      <td>0.6879</td>\n",
       "    </tr>\n",
       "  </tbody>\n",
       "</table>\n",
       "</div>"
      ],
      "text/plain": [
       "              PC1     PC2     PC3\n",
       "avg_value -0.4972 -0.8656 -0.0590\n",
       "avg_fee    0.6188 -0.3061 -0.7234\n",
       "c          0.6082 -0.3962  0.6879"
      ]
     },
     "execution_count": 24,
     "metadata": {},
     "output_type": "execute_result"
    }
   ],
   "source": [
    "# help received from: https://stackoverflow.com/questions/59883306/how-to-drop-a-column-from-a-spark-dataframe-by-index-where-column-names-can-be-d\n",
    "# pca plot variance explained https://datascience-enthusiast.com/Python/PCA_Spark_Python_R\n",
    "# PCs: each PC represents a \"cluster\" of sender and its behaviour\n",
    "import numpy as np\n",
    "import pandas as pd\n",
    "pcs = np.round(model.pc.toArray(),4)\n",
    "df_pc = pd.DataFrame(pcs, columns = ['PC'+str(i) for i in range(1, 4)], index = inputCols)\n",
    "df_pc\n",
    "# pc is actually a dimension reduction technique, to bring high dimensional data into smaller ones. \n",
    "# It therefore tries to bring variable data into a new   coordinate system where variance in the data is observed\n",
    "# but everything can be represented with fewer amount of dimensions. This technique is here used not ffor visualization\n",
    "# but for explaining the patterns in the data by means of observing the representation of the various columns in the new PCs.\n",
    "\n",
    "# interpretation: PC2 shows that people with most transactions pay less fee.\n",
    "# PC3 shwos peope that pay huge transaction value for relatively high  fee\n",
    "# PC1 shows that there are people that pay huge fee for less transaction value\n",
    "# ...through the interpretation of therese 3 PCs that are all needed to explain at leas 80% of the variance, we can interpret the clusters\n",
    "# the signs in the PCs are arbitrary, but the direction of the value play a role"
   ]
  },
  {
   "cell_type": "code",
   "execution_count": 25,
   "id": "8e1a1207",
   "metadata": {},
   "outputs": [],
   "source": [
    "#data_customer = data_scale_output.toPandas()"
   ]
  },
  {
   "cell_type": "code",
   "execution_count": 26,
   "id": "f086b098",
   "metadata": {},
   "outputs": [
    {
     "name": "stdout",
     "output_type": "stream",
     "text": [
      "Silhouette Score: 0.9925491169913631\n",
      "Silhouette Score: 0.9617541154621412\n",
      "Silhouette Score: 0.9462478333256237\n",
      "Silhouette Score: 0.9343760508867063\n",
      "Silhouette Score: 0.8224431782706874\n",
      "Silhouette Score: 0.8537902846746522\n",
      "Silhouette Score: 0.6154925640422266\n",
      "Silhouette Score: 0.6960978769879638\n",
      "Wall time: 1h 16min 48s\n"
     ]
    }
   ],
   "source": [
    "%%time\n",
    "from pyspark.ml.clustering import KMeans\n",
    "from pyspark.ml.evaluation import ClusteringEvaluator\n",
    "silhouette_score=[]\n",
    "evaluator = ClusteringEvaluator(predictionCol='prediction', featuresCol='standardized', \\\n",
    "                                metricName='silhouette', distanceMeasure='squaredEuclidean')\n",
    "for i in range(2,10):\n",
    "    \n",
    "    KMeans_algo=KMeans(featuresCol='standardized', k=i, seed=1) # set seed\n",
    "    \n",
    "    KMeans_fit=KMeans_algo.fit(data_scale_output)\n",
    "    \n",
    "    output=KMeans_fit.transform(data_scale_output)\n",
    "    \n",
    "    \n",
    "    \n",
    "    score=evaluator.evaluate(output)\n",
    "    \n",
    "    silhouette_score.append(score)\n",
    "    \n",
    "    print(\"Silhouette Score:\",score)"
   ]
  },
  {
   "cell_type": "code",
   "execution_count": 27,
   "id": "60a407f8",
   "metadata": {},
   "outputs": [
    {
     "data": {
      "text/plain": [
       "Text(0, 0.5, 'silhouette score')"
      ]
     },
     "execution_count": 27,
     "metadata": {},
     "output_type": "execute_result"
    },
    {
     "data": {
      "image/png": "[encoded data removed]",
      "text/plain": [
       "<Figure size 576x432 with 1 Axes>"
      ]
     },
     "metadata": {
      "needs_background": "light"
     },
     "output_type": "display_data"
    }
   ],
   "source": [
    "#Visualizing the silhouette scores in a plot\n",
    "import matplotlib.pyplot as plt\n",
    "fig, ax = plt.subplots(1,1, figsize =(8,6))\n",
    "ax.plot(range(2,10),silhouette_score)\n",
    "ax.set_xlabel(\"k\")\n",
    "ax.set_ylabel(\"silhouette score\")"
   ]
  },
  {
   "cell_type": "code",
   "execution_count": 28,
   "id": "be8eb067",
   "metadata": {},
   "outputs": [
    {
     "name": "stdout",
     "output_type": "stream",
     "text": [
      "Silhouette with squared euclidean distance = -0.8516965895575791\n"
     ]
    }
   ],
   "source": [
    "\n",
    "\n",
    "\n",
    "from pyspark.ml.evaluation import ClusteringEvaluator\n",
    "from pyspark.ml.clustering import KMeans\n",
    "\n",
    "# Trains a k-means model.\n",
    "kmeans = KMeans(featuresCol='standardized').setK(4).setSeed(1)\n",
    "model = kmeans.fit(data_scale_output)\n",
    "\n",
    "# Make predictions\n",
    "predictions = model.transform(data_scale_output)\n",
    "\n",
    "# Evaluate clustering by computing Silhouette score\n",
    "evaluator = ClusteringEvaluator()\n",
    "\n",
    "\n",
    "silhouette = evaluator.evaluate(predictions)\n",
    "print(\"Silhouette with squared euclidean distance = \" + str(silhouette)) \n",
    "# evaluation mit silhouette; evaluation mit SSE ist depriciated\n",
    "\n"
   ]
  },
  {
   "cell_type": "code",
   "execution_count": 29,
   "id": "8580eb27",
   "metadata": {},
   "outputs": [
    {
     "name": "stdout",
     "output_type": "stream",
     "text": [
      "Cluster Centers: \n",
      "[-0.19303985 -0.05058557 -0.03589901]\n",
      "[-2.40329117e-01 -1.36396308e-02  2.35725044e+01]\n",
      "[0.17896248 9.00052753 0.12782141]\n",
      "[ 4.60581166 -0.12135069 -0.03218871]\n"
     ]
    }
   ],
   "source": [
    "# Shows the result.\n",
    "print(\"Cluster Centers: \")\n",
    "ctr=[]\n",
    "centers = model.clusterCenters()\n",
    "for center in centers:\n",
    "    ctr.append(center)\n",
    "    print(center)"
   ]
  },
  {
   "cell_type": "code",
   "execution_count": 30,
   "id": "ac0f4f31",
   "metadata": {},
   "outputs": [],
   "source": [
    "# output of transform \"output\" or \"predictions\"\n",
    "pandasDF=predictions.toPandas()"
   ]
  },
  {
   "cell_type": "code",
   "execution_count": 31,
   "id": "23927e56",
   "metadata": {},
   "outputs": [
    {
     "data": {
      "text/html": [
       "<div>\n",
       "<style scoped>\n",
       "    .dataframe tbody tr th:only-of-type {\n",
       "        vertical-align: middle;\n",
       "    }\n",
       "\n",
       "    .dataframe tbody tr th {\n",
       "        vertical-align: top;\n",
       "    }\n",
       "\n",
       "    .dataframe thead th {\n",
       "        text-align: right;\n",
       "    }\n",
       "</style>\n",
       "<table border=\"1\" class=\"dataframe\">\n",
       "  <thead>\n",
       "    <tr style=\"text-align: right;\">\n",
       "      <th></th>\n",
       "      <th>sender</th>\n",
       "      <th>avg_value</th>\n",
       "      <th>avg_fee</th>\n",
       "      <th>c</th>\n",
       "      <th>features</th>\n",
       "      <th>standardized</th>\n",
       "      <th>pca_features</th>\n",
       "      <th>prediction</th>\n",
       "    </tr>\n",
       "  </thead>\n",
       "  <tbody>\n",
       "    <tr>\n",
       "      <th>0</th>\n",
       "      <td>0x1f93b5e75a04b225816935c3d65f552cac88a61b</td>\n",
       "      <td>1.000000e+00</td>\n",
       "      <td>266877.737226</td>\n",
       "      <td>548</td>\n",
       "      <td>[1.0, 266877.73722627736, 548.0]</td>\n",
       "      <td>[-0.24032911736180426, -0.054888688724150606, ...</td>\n",
       "      <td>[17.708815365011443, -11.256750185769803, 19.9...</td>\n",
       "      <td>1</td>\n",
       "    </tr>\n",
       "    <tr>\n",
       "      <th>1</th>\n",
       "      <td>0xc400b9d93a23b0be5d41ab337ad605988aef8463</td>\n",
       "      <td>1.000000e+00</td>\n",
       "      <td>319672.131148</td>\n",
       "      <td>488</td>\n",
       "      <td>[1.0, 319672.131147541, 488.0]</td>\n",
       "      <td>[-0.24032911736180426, 0.018747632110449466, 2...</td>\n",
       "      <td>[15.814159403794323, -10.015232381463175, 17.7...</td>\n",
       "      <td>1</td>\n",
       "    </tr>\n",
       "    <tr>\n",
       "      <th>2</th>\n",
       "      <td>0x90384d665f5687be20fa3efc029939d249f0570c</td>\n",
       "      <td>1.000000e+00</td>\n",
       "      <td>302805.280528</td>\n",
       "      <td>303</td>\n",
       "      <td>[1.0, 302805.2805280528, 303.0]</td>\n",
       "      <td>[-0.24032911736180426, -0.004777835868938899, ...</td>\n",
       "      <td>[9.817241825891172, -6.1105201054160885, 10.98...</td>\n",
       "      <td>1</td>\n",
       "    </tr>\n",
       "    <tr>\n",
       "      <th>3</th>\n",
       "      <td>0xd53a5b3b4abd15fbffff98b632422e3c9c78fba9</td>\n",
       "      <td>3.697561e+01</td>\n",
       "      <td>359756.097561</td>\n",
       "      <td>123</td>\n",
       "      <td>[36.97560975609756, 359756.0975609756, 123.0]</td>\n",
       "      <td>[-0.24032895865026604, 0.07465576158997349, 6....</td>\n",
       "      <td>[4.045724112589097, -2.3426616005619554, 4.348...</td>\n",
       "      <td>0</td>\n",
       "    </tr>\n",
       "    <tr>\n",
       "      <th>4</th>\n",
       "      <td>0x5a600bf604dad0135e20afbac74a05eeee265055</td>\n",
       "      <td>9.686957e+06</td>\n",
       "      <td>50706.086957</td>\n",
       "      <td>115</td>\n",
       "      <td>[9686956.52173913, 50706.086956521736, 115.0]</td>\n",
       "      <td>[-0.19759373019597082, -0.35639958433834323, 5...</td>\n",
       "      <td>[3.4990284602875494, -2.0791687130267884, 4.36...</td>\n",
       "      <td>0</td>\n",
       "    </tr>\n",
       "    <tr>\n",
       "      <th>...</th>\n",
       "      <td>...</td>\n",
       "      <td>...</td>\n",
       "      <td>...</td>\n",
       "      <td>...</td>\n",
       "      <td>...</td>\n",
       "      <td>...</td>\n",
       "      <td>...</td>\n",
       "      <td>...</td>\n",
       "    </tr>\n",
       "    <tr>\n",
       "      <th>2031</th>\n",
       "      <td>0x81fbaecfdeb11cd20d91e9549d9752d9185b4970</td>\n",
       "      <td>1.843399e+08</td>\n",
       "      <td>21000.000000</td>\n",
       "      <td>1</td>\n",
       "      <td>[184339917.0, 21000.0, 1.0]</td>\n",
       "      <td>[0.5729127379040779, -0.3978329030564873, -0.1...</td>\n",
       "      <td>[-0.5961240838662516, -0.33175225403735614, 0....</td>\n",
       "      <td>0</td>\n",
       "    </tr>\n",
       "    <tr>\n",
       "      <th>2032</th>\n",
       "      <td>0x86b4c7bc6a2fada0d11165aab4aa0b30ff3d2164</td>\n",
       "      <td>1.000000e+08</td>\n",
       "      <td>21000.000000</td>\n",
       "      <td>1</td>\n",
       "      <td>[100000000.0, 21000.0, 1.0]</td>\n",
       "      <td>[0.20083515393658544, -0.3978329030564873, -0....</td>\n",
       "      <td>[-0.41113212010658284, -0.009669646123712829, ...</td>\n",
       "      <td>0</td>\n",
       "    </tr>\n",
       "    <tr>\n",
       "      <th>2033</th>\n",
       "      <td>0xae0bf57678cf8151ff95889078e944a7696e18d5</td>\n",
       "      <td>1.000000e+00</td>\n",
       "      <td>831333.000000</td>\n",
       "      <td>1</td>\n",
       "      <td>[1.0, 831333.0, 1.0]</td>\n",
       "      <td>[-0.24032911736180426, 0.7323996148099814, -0....</td>\n",
       "      <td>[0.5076350018083022, 0.026255534554212152, -0....</td>\n",
       "      <td>0</td>\n",
       "    </tr>\n",
       "    <tr>\n",
       "      <th>2034</th>\n",
       "      <td>0xaee9d6d117b4fdc73d13796ad289fcf9b5fc6cfb</td>\n",
       "      <td>1.000000e+00</td>\n",
       "      <td>40000.000000</td>\n",
       "      <td>1</td>\n",
       "      <td>[1.0, 40000.0, 1.0]</td>\n",
       "      <td>[-0.24032911736180426, -0.37133217083965436, -...</td>\n",
       "      <td>[-0.17539163458457158, 0.36410487016374826, 0....</td>\n",
       "      <td>0</td>\n",
       "    </tr>\n",
       "    <tr>\n",
       "      <th>2035</th>\n",
       "      <td>0xc39677f5f47d5fe65ab24e66750e8fca127c15be</td>\n",
       "      <td>2.100000e+04</td>\n",
       "      <td>21000.000000</td>\n",
       "      <td>1</td>\n",
       "      <td>[21000.0, 21000.0, 1.0]</td>\n",
       "      <td>[-0.2402364772755479, -0.3978329030564873, -0....</td>\n",
       "      <td>[-0.1918372452405342, 0.3721364808208768, 0.22...</td>\n",
       "      <td>0</td>\n",
       "    </tr>\n",
       "  </tbody>\n",
       "</table>\n",
       "<p>2036 rows × 8 columns</p>\n",
       "</div>"
      ],
      "text/plain": [
       "                                          sender     avg_value        avg_fee  \\\n",
       "0     0x1f93b5e75a04b225816935c3d65f552cac88a61b  1.000000e+00  266877.737226   \n",
       "1     0xc400b9d93a23b0be5d41ab337ad605988aef8463  1.000000e+00  319672.131148   \n",
       "2     0x90384d665f5687be20fa3efc029939d249f0570c  1.000000e+00  302805.280528   \n",
       "3     0xd53a5b3b4abd15fbffff98b632422e3c9c78fba9  3.697561e+01  359756.097561   \n",
       "4     0x5a600bf604dad0135e20afbac74a05eeee265055  9.686957e+06   50706.086957   \n",
       "...                                          ...           ...            ...   \n",
       "2031  0x81fbaecfdeb11cd20d91e9549d9752d9185b4970  1.843399e+08   21000.000000   \n",
       "2032  0x86b4c7bc6a2fada0d11165aab4aa0b30ff3d2164  1.000000e+08   21000.000000   \n",
       "2033  0xae0bf57678cf8151ff95889078e944a7696e18d5  1.000000e+00  831333.000000   \n",
       "2034  0xaee9d6d117b4fdc73d13796ad289fcf9b5fc6cfb  1.000000e+00   40000.000000   \n",
       "2035  0xc39677f5f47d5fe65ab24e66750e8fca127c15be  2.100000e+04   21000.000000   \n",
       "\n",
       "        c                                       features  \\\n",
       "0     548               [1.0, 266877.73722627736, 548.0]   \n",
       "1     488                 [1.0, 319672.131147541, 488.0]   \n",
       "2     303                [1.0, 302805.2805280528, 303.0]   \n",
       "3     123  [36.97560975609756, 359756.0975609756, 123.0]   \n",
       "4     115  [9686956.52173913, 50706.086956521736, 115.0]   \n",
       "...   ...                                            ...   \n",
       "2031    1                    [184339917.0, 21000.0, 1.0]   \n",
       "2032    1                    [100000000.0, 21000.0, 1.0]   \n",
       "2033    1                           [1.0, 831333.0, 1.0]   \n",
       "2034    1                            [1.0, 40000.0, 1.0]   \n",
       "2035    1                        [21000.0, 21000.0, 1.0]   \n",
       "\n",
       "                                           standardized  \\\n",
       "0     [-0.24032911736180426, -0.054888688724150606, ...   \n",
       "1     [-0.24032911736180426, 0.018747632110449466, 2...   \n",
       "2     [-0.24032911736180426, -0.004777835868938899, ...   \n",
       "3     [-0.24032895865026604, 0.07465576158997349, 6....   \n",
       "4     [-0.19759373019597082, -0.35639958433834323, 5...   \n",
       "...                                                 ...   \n",
       "2031  [0.5729127379040779, -0.3978329030564873, -0.1...   \n",
       "2032  [0.20083515393658544, -0.3978329030564873, -0....   \n",
       "2033  [-0.24032911736180426, 0.7323996148099814, -0....   \n",
       "2034  [-0.24032911736180426, -0.37133217083965436, -...   \n",
       "2035  [-0.2402364772755479, -0.3978329030564873, -0....   \n",
       "\n",
       "                                           pca_features  prediction  \n",
       "0     [17.708815365011443, -11.256750185769803, 19.9...           1  \n",
       "1     [15.814159403794323, -10.015232381463175, 17.7...           1  \n",
       "2     [9.817241825891172, -6.1105201054160885, 10.98...           1  \n",
       "3     [4.045724112589097, -2.3426616005619554, 4.348...           0  \n",
       "4     [3.4990284602875494, -2.0791687130267884, 4.36...           0  \n",
       "...                                                 ...         ...  \n",
       "2031  [-0.5961240838662516, -0.33175225403735614, 0....           0  \n",
       "2032  [-0.41113212010658284, -0.009669646123712829, ...           0  \n",
       "2033  [0.5076350018083022, 0.026255534554212152, -0....           0  \n",
       "2034  [-0.17539163458457158, 0.36410487016374826, 0....           0  \n",
       "2035  [-0.1918372452405342, 0.3721364808208768, 0.22...           0  \n",
       "\n",
       "[2036 rows x 8 columns]"
      ]
     },
     "execution_count": 31,
     "metadata": {},
     "output_type": "execute_result"
    }
   ],
   "source": [
    "pandasDF\n",
    "#wieso wurden orignaldaten in model gegeben? wieso nicht einfach nur standardized? \n",
    "# -- tatsächlich wurden nur standardized /features bearbeitet"
   ]
  },
  {
   "cell_type": "code",
   "execution_count": 32,
   "id": "6f6ad9d7",
   "metadata": {},
   "outputs": [
    {
     "data": {
      "text/html": [
       "<div>\n",
       "<style scoped>\n",
       "    .dataframe tbody tr th:only-of-type {\n",
       "        vertical-align: middle;\n",
       "    }\n",
       "\n",
       "    .dataframe tbody tr th {\n",
       "        vertical-align: top;\n",
       "    }\n",
       "\n",
       "    .dataframe thead th {\n",
       "        text-align: right;\n",
       "    }\n",
       "</style>\n",
       "<table border=\"1\" class=\"dataframe\">\n",
       "  <thead>\n",
       "    <tr style=\"text-align: right;\">\n",
       "      <th></th>\n",
       "      <th>avg_value</th>\n",
       "      <th>avg_fee</th>\n",
       "      <th>c</th>\n",
       "    </tr>\n",
       "  </thead>\n",
       "  <tbody>\n",
       "    <tr>\n",
       "      <th>0</th>\n",
       "      <td>-0.193040</td>\n",
       "      <td>-0.050586</td>\n",
       "      <td>-0.035899</td>\n",
       "    </tr>\n",
       "    <tr>\n",
       "      <th>1</th>\n",
       "      <td>-0.240329</td>\n",
       "      <td>-0.013640</td>\n",
       "      <td>23.572504</td>\n",
       "    </tr>\n",
       "    <tr>\n",
       "      <th>2</th>\n",
       "      <td>0.178962</td>\n",
       "      <td>9.000528</td>\n",
       "      <td>0.127821</td>\n",
       "    </tr>\n",
       "    <tr>\n",
       "      <th>3</th>\n",
       "      <td>4.605812</td>\n",
       "      <td>-0.121351</td>\n",
       "      <td>-0.032189</td>\n",
       "    </tr>\n",
       "  </tbody>\n",
       "</table>\n",
       "</div>"
      ],
      "text/plain": [
       "   avg_value   avg_fee          c\n",
       "0  -0.193040 -0.050586  -0.035899\n",
       "1  -0.240329 -0.013640  23.572504\n",
       "2   0.178962  9.000528   0.127821\n",
       "3   4.605812 -0.121351  -0.032189"
      ]
     },
     "execution_count": 32,
     "metadata": {},
     "output_type": "execute_result"
    }
   ],
   "source": [
    "import pandas as pd\n",
    "centers = pd.DataFrame(ctr,columns=inputCols)\n",
    "centers # könnte man einzeichnen, wenn man plot mit skalierten daten (nicht pca -daten) macht"
   ]
  },
  {
   "cell_type": "code",
   "execution_count": 33,
   "id": "93cf14c7",
   "metadata": {},
   "outputs": [],
   "source": [
    "# plot pca\n",
    "#pca_pandas = pandasDF.toPandas()\n",
    "x = []\n",
    "y = []\n",
    "z = []\n",
    "for i, j, k in pandasDF[\"pca_features\"].values:\n",
    "    x.append(i)\n",
    "    y.append(j)\n",
    "    z.append(k)"
   ]
  },
  {
   "cell_type": "code",
   "execution_count": 34,
   "id": "ef103354",
   "metadata": {},
   "outputs": [
    {
     "data": {
      "image/png": "[encoded data removed]",
      "text/plain": [
       "<Figure size 432x288 with 1 Axes>"
      ]
     },
     "metadata": {
      "needs_background": "light"
     },
     "output_type": "display_data"
    }
   ],
   "source": [
    "# help: u.a. https://stackoverflow.com/questions/37711538/matplotlib-3d-axes-ticks-labels-and-latex\n",
    "# todo change size:https://stackoverflow.com/questions/332289/how-do-you-change-the-size-of-figures-drawn-with-matplotlib\n",
    "\n",
    "import matplotlib.pyplot as plt\n",
    "\n",
    "import numpy as np\n",
    "from matplotlib import pyplot\n",
    "from mpl_toolkits.mplot3d import Axes3D\n",
    "scatter_x = np.array(x) # scaled bitcoin transaction avg_value\n",
    "scatter_y = np.array(y) # scaled bitcoin transaction avg_fee\n",
    "scatter_z = np.array(z) # scaled bitcoin transaction count\n",
    "group = np.array(pandasDF['prediction'])\n",
    "\n",
    "cdict = {0: 'red', 1: 'blue', 2: 'green', 3: 'magenta'}\n",
    "#fig, ax = plt.subplots()\n",
    "fig = pyplot.figure()\n",
    "ax = Axes3D(fig)\n",
    "for g in np.unique(group):\n",
    "    ix = np.where(group == g)\n",
    "    ax.scatter(scatter_x[ix], scatter_y[ix], scatter_z[ix], c = cdict[g], label = g+1)\n",
    "ax.legend()\n",
    "plt.xlabel(\"PC1\")\n",
    "plt.ylabel(\"PC2\")\n",
    "ax.set_zlabel(\"PC3\")\n",
    "plt.show()"
   ]
  },
  {
   "cell_type": "code",
   "execution_count": 35,
   "id": "5445b44c",
   "metadata": {},
   "outputs": [],
   "source": [
    "# bring scaled values(value, fee) into list\n",
    "# 3 gegeben durch anzahl columns (nicht anzahl clusters nach kmeans)\n",
    "x = []\n",
    "y = []\n",
    "z = []\n",
    "for i, j, k in pandasDF[\"standardized\"].values:\n",
    "    x.append(i)\n",
    "    y.append(j)\n",
    "    z.append(k)"
   ]
  },
  {
   "cell_type": "code",
   "execution_count": 36,
   "id": "18ca11e6",
   "metadata": {},
   "outputs": [
    {
     "data": {
      "image/png": "[encoded data removed]",
      "text/plain": [
       "<Figure size 432x288 with 1 Axes>"
      ]
     },
     "metadata": {
      "needs_background": "light"
     },
     "output_type": "display_data"
    }
   ],
   "source": [
    "# help: u.a. https://stackoverflow.com/questions/37711538/matplotlib-3d-axes-ticks-labels-and-latex\n",
    "\n",
    "import matplotlib.pyplot as plt\n",
    "\n",
    "# plot mit scaled daten: value vs. fee\n",
    "#todo: outlier entfernen\n",
    "#todo: mean centers rein tun\n",
    "import numpy as np\n",
    "from matplotlib import pyplot\n",
    "from mpl_toolkits.mplot3d import Axes3D\n",
    "scatter_x = np.array(x) # scaled bitcoin transaction avg_value\n",
    "scatter_y = np.array(y) # scaled bitcoin transaction avg_fee\n",
    "scatter_z = np.array(z) # scaled bitcoin transaction count\n",
    "group = np.array(pandasDF['prediction'])\n",
    "\n",
    "cdict = {0: 'red', 1: 'blue', 2: 'green', 3: 'orange'}\n",
    "#fig, ax = plt.subplots()\n",
    "fig = pyplot.figure()\n",
    "ax = Axes3D(fig)\n",
    "for g in np.unique(group):\n",
    "    ix = np.where(group == g)\n",
    "    ax.scatter(scatter_x[ix], scatter_y[ix], scatter_z[ix], c = cdict[g], label = g+1)\n",
    "ax.legend()\n",
    "plt.xlabel(\"avg_value\")\n",
    "plt.ylabel(\"avg_fee\")\n",
    "ax.set_zlabel(\"count\")\n",
    "plt.show()\n",
    "\n",
    "#plt.scatter(y=pandasDF[\"fee\"],x=pandasDF[\"value\"], c=pandasDF[\"prediction\"], cmap='brg')\n",
    "#plt.legend()\n",
    "\n",
    "#plt.scatter(y=y,x=x, c=pandasDF[\"prediction\"].values, cmap='brg')\n",
    "#plt.legend()\n",
    "\n"
   ]
  },
  {
   "cell_type": "markdown",
   "id": "afabc135",
   "metadata": {},
   "source": [
    "# interpretation:\n",
    "- 2010-2011 waren fees sehr günstig. zum teil waren transaktionen auch gratis. daher ist fee relativ weit unten\n",
    "- fee plot ist auch etwas gezerrt wegen outlier oben\n",
    "- die drei cluster\n",
    "-- transaktionen mit wenig fee und wenig betrag\n",
    "-- transaktionen mit wenig fee und viel betrag\n",
    "-- transaktionen mit etwas höherem fees haben etwas höheren betrag"
   ]
  },
  {
   "cell_type": "code",
   "execution_count": 37,
   "id": "7a135c69",
   "metadata": {},
   "outputs": [],
   "source": [
    "class1 = pandasDF.loc[pandasDF['prediction'] == 0]\n",
    "class2 = pandasDF.loc[pandasDF['prediction'] == 1]\n",
    "class3 = pandasDF.loc[pandasDF['prediction'] == 2]\n",
    "class4 = pandasDF.loc[pandasDF['prediction'] == 3]"
   ]
  },
  {
   "cell_type": "code",
   "execution_count": 38,
   "id": "f52c1871",
   "metadata": {},
   "outputs": [
    {
     "data": {
      "text/plain": [
       "{'whiskers': [<matplotlib.lines.Line2D at 0x280885ee340>,\n",
       "  <matplotlib.lines.Line2D at 0x280885eea90>,\n",
       "  <matplotlib.lines.Line2D at 0x280885f9c40>,\n",
       "  <matplotlib.lines.Line2D at 0x280885f9700>,\n",
       "  <matplotlib.lines.Line2D at 0x28088602e50>,\n",
       "  <matplotlib.lines.Line2D at 0x28088605370>,\n",
       "  <matplotlib.lines.Line2D at 0x2808860dac0>,\n",
       "  <matplotlib.lines.Line2D at 0x28088611a60>],\n",
       " 'caps': [<matplotlib.lines.Line2D at 0x280885f1c10>,\n",
       "  <matplotlib.lines.Line2D at 0x280885f1700>,\n",
       "  <matplotlib.lines.Line2D at 0x280885f9e50>,\n",
       "  <matplotlib.lines.Line2D at 0x280885fd370>,\n",
       "  <matplotlib.lines.Line2D at 0x28088605ac0>,\n",
       "  <matplotlib.lines.Line2D at 0x2808860aa30>,\n",
       "  <matplotlib.lines.Line2D at 0x28088611700>,\n",
       "  <matplotlib.lines.Line2D at 0x28088611e50>],\n",
       " 'boxes': [<matplotlib.lines.Line2D at 0x280885eae80>,\n",
       "  <matplotlib.lines.Line2D at 0x280885f6a90>,\n",
       "  <matplotlib.lines.Line2D at 0x28088602700>,\n",
       "  <matplotlib.lines.Line2D at 0x2808860d370>],\n",
       " 'medians': [<matplotlib.lines.Line2D at 0x280885f1e50>,\n",
       "  <matplotlib.lines.Line2D at 0x280885fdac0>,\n",
       "  <matplotlib.lines.Line2D at 0x2808860a700>,\n",
       "  <matplotlib.lines.Line2D at 0x28088614370>],\n",
       " 'fliers': [<matplotlib.lines.Line2D at 0x280885f6340>,\n",
       "  <matplotlib.lines.Line2D at 0x28088602a00>,\n",
       "  <matplotlib.lines.Line2D at 0x2808860ae50>,\n",
       "  <matplotlib.lines.Line2D at 0x28088614ac0>],\n",
       " 'means': []}"
      ]
     },
     "execution_count": 38,
     "metadata": {},
     "output_type": "execute_result"
    },
    {
     "data": {
      "image/png": "[encoded data removed]",
      "text/plain": [
       "<Figure size 432x288 with 1 Axes>"
      ]
     },
     "metadata": {
      "needs_background": "light"
     },
     "output_type": "display_data"
    }
   ],
   "source": [
    "plt.boxplot([class1[\"avg_value\"], class2[\"avg_value\"], class3[\"avg_value\"], class4[\"avg_value\"]])"
   ]
  },
  {
   "cell_type": "code",
   "execution_count": 39,
   "id": "0a563a9f",
   "metadata": {},
   "outputs": [
    {
     "data": {
      "text/plain": [
       "{'whiskers': [<matplotlib.lines.Line2D at 0x2808866deb0>,\n",
       "  <matplotlib.lines.Line2D at 0x280886713d0>,\n",
       "  <matplotlib.lines.Line2D at 0x28088679b20>,\n",
       "  <matplotlib.lines.Line2D at 0x2808867df70>,\n",
       "  <matplotlib.lines.Line2D at 0x28088685760>,\n",
       "  <matplotlib.lines.Line2D at 0x28088685eb0>,\n",
       "  <matplotlib.lines.Line2D at 0x280886902b0>,\n",
       "  <matplotlib.lines.Line2D at 0x28088690a00>],\n",
       " 'caps': [<matplotlib.lines.Line2D at 0x28088671b20>,\n",
       "  <matplotlib.lines.Line2D at 0x28088676f40>,\n",
       "  <matplotlib.lines.Line2D at 0x2808867d760>,\n",
       "  <matplotlib.lines.Line2D at 0x2808867deb0>,\n",
       "  <matplotlib.lines.Line2D at 0x280886893d0>,\n",
       "  <matplotlib.lines.Line2D at 0x28088689b20>,\n",
       "  <matplotlib.lines.Line2D at 0x28088694d90>,\n",
       "  <matplotlib.lines.Line2D at 0x28088694670>],\n",
       " 'boxes': [<matplotlib.lines.Line2D at 0x2808866d760>,\n",
       "  <matplotlib.lines.Line2D at 0x280886793d0>,\n",
       "  <matplotlib.lines.Line2D at 0x28088685fa0>,\n",
       "  <matplotlib.lines.Line2D at 0x2808868dd90>],\n",
       " 'medians': [<matplotlib.lines.Line2D at 0x28088676760>,\n",
       "  <matplotlib.lines.Line2D at 0x280886813d0>,\n",
       "  <matplotlib.lines.Line2D at 0x2808868dfd0>,\n",
       "  <matplotlib.lines.Line2D at 0x28088694dc0>],\n",
       " 'fliers': [<matplotlib.lines.Line2D at 0x28088676eb0>,\n",
       "  <matplotlib.lines.Line2D at 0x28088681b20>,\n",
       "  <matplotlib.lines.Line2D at 0x2808868d640>,\n",
       "  <matplotlib.lines.Line2D at 0x28088699280>],\n",
       " 'means': []}"
      ]
     },
     "execution_count": 39,
     "metadata": {},
     "output_type": "execute_result"
    },
    {
     "data": {
      "image/png": "[encoded data removed]",
      "text/plain": [
       "<Figure size 432x288 with 1 Axes>"
      ]
     },
     "metadata": {
      "needs_background": "light"
     },
     "output_type": "display_data"
    }
   ],
   "source": [
    "plt.boxplot([class1[\"avg_fee\"], class2[\"avg_fee\"], class3[\"avg_fee\"], class4[\"avg_fee\"]])"
   ]
  },
  {
   "cell_type": "code",
   "execution_count": 40,
   "id": "2ae3c321",
   "metadata": {},
   "outputs": [
    {
     "data": {
      "text/plain": [
       "{'whiskers': [<matplotlib.lines.Line2D at 0x280886eaa00>,\n",
       "  <matplotlib.lines.Line2D at 0x280886ee4c0>,\n",
       "  <matplotlib.lines.Line2D at 0x280886f5670>,\n",
       "  <matplotlib.lines.Line2D at 0x280886f5dc0>,\n",
       "  <matplotlib.lines.Line2D at 0x280887011c0>,\n",
       "  <matplotlib.lines.Line2D at 0x28088701910>,\n",
       "  <matplotlib.lines.Line2D at 0x2808870d310>,\n",
       "  <matplotlib.lines.Line2D at 0x2808870d520>],\n",
       " 'caps': [<matplotlib.lines.Line2D at 0x280886ee670>,\n",
       "  <matplotlib.lines.Line2D at 0x280886eedc0>,\n",
       "  <matplotlib.lines.Line2D at 0x280886fa2e0>,\n",
       "  <matplotlib.lines.Line2D at 0x280886faa30>,\n",
       "  <matplotlib.lines.Line2D at 0x280887042e0>,\n",
       "  <matplotlib.lines.Line2D at 0x28088704520>,\n",
       "  <matplotlib.lines.Line2D at 0x2808870dc70>,\n",
       "  <matplotlib.lines.Line2D at 0x28088710190>],\n",
       " 'boxes': [<matplotlib.lines.Line2D at 0x280886ea2b0>,\n",
       "  <matplotlib.lines.Line2D at 0x280886f54f0>,\n",
       "  <matplotlib.lines.Line2D at 0x280886fdca0>,\n",
       "  <matplotlib.lines.Line2D at 0x280887088e0>],\n",
       " 'medians': [<matplotlib.lines.Line2D at 0x280886f22b0>,\n",
       "  <matplotlib.lines.Line2D at 0x280886fd2b0>,\n",
       "  <matplotlib.lines.Line2D at 0x28088704c70>,\n",
       "  <matplotlib.lines.Line2D at 0x280887108e0>],\n",
       " 'fliers': [<matplotlib.lines.Line2D at 0x280886f2a00>,\n",
       "  <matplotlib.lines.Line2D at 0x280886fd550>,\n",
       "  <matplotlib.lines.Line2D at 0x28088708190>,\n",
       "  <matplotlib.lines.Line2D at 0x28088714340>],\n",
       " 'means': []}"
      ]
     },
     "execution_count": 40,
     "metadata": {},
     "output_type": "execute_result"
    },
    {
     "data": {
      "image/png": "[encoded data removed]",
      "text/plain": [
       "<Figure size 432x288 with 1 Axes>"
      ]
     },
     "metadata": {
      "needs_background": "light"
     },
     "output_type": "display_data"
    }
   ],
   "source": [
    "plt.boxplot([class1[\"c\"], class2[\"c\"], class3[\"c\"], class4[\"c\"]])"
   ]
  },
  {
   "cell_type": "code",
   "execution_count": null,
   "id": "fec33ab1",
   "metadata": {},
   "outputs": [],
   "source": []
  },
  {
   "cell_type": "code",
   "execution_count": null,
   "id": "a983bcf1",
   "metadata": {},
   "outputs": [],
   "source": []
  }
 ],
 "metadata": {
  "kernelspec": {
   "display_name": "Python 3",
   "language": "python",
   "name": "python3"
  },
  "language_info": {
   "codemirror_mode": {
    "name": "ipython",
    "version": 3
   },
   "file_extension": ".py",
   "mimetype": "text/x-python",
   "name": "python",
   "nbconvert_exporter": "python",
   "pygments_lexer": "ipython3",
   "version": "3.8.8"
  }
 },
 "nbformat": 4,
 "nbformat_minor": 5
}
