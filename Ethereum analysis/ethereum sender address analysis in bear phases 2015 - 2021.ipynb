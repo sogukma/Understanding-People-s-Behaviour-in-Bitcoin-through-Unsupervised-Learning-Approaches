{
 "cells": [
  {
   "cell_type": "markdown",
   "id": "bb272125",
   "metadata": {},
   "source": [
    "# Ethereum Sender Address Analysis - Bear Phases between 2015 - 2021\n",
    "- by Malik Sogukoglu"
   ]
  },
  {
   "cell_type": "markdown",
   "id": "61eb0f2e",
   "metadata": {},
   "source": [
    "## References\n",
    "- Inspiration for Workflow structure: \n",
    " - https://www.bmc.com/blogs/python-spark-k-means-example/\n",
    " - https://www.kaggle.com/statsfromarg/btc-data-exploratory-analysis-with-txn\n",
    "- K-means clustering in Spark\n",
    " - https://spark.apache.org/docs/latest/ml-clustering.html\n",
    " - https://towardsdatascience.com/k-means-clustering-using-pyspark-on-big-data-6214beacdc8b\n",
    "- Sampling:\n",
    " - https://stackoverflow.com/questions/24806084/sampling-a-large-distributed-data-set-using-pyspark-spark\n",
    "- Filter pushdown: \n",
    " - https://engineering.dynatrace.com/blog/optimizing-spark-queries-with-filter-pushdown/\n",
    " - https://towardsdatascience.com/predicate-vs-projection-pushdown-in-spark-3-ac24c4d11855\n",
    "- Read data: \n",
    " - Reading several files: https://stackoverflow.com/questions/49898742/pandas-reading-csv-files-with-partial-wildcard\n",
    " - Correct processing of the date value as part of filtering (1): https://stackoverflow.com/questions/19480028/attributeerror-datetime-module-has-no-attribute-strptime \n",
    " - Correct processing of the date value as part of filtering(2) :https://stackoverflow.com/questions/19801727/convert-datetime-to-unix-timestamp-and-convert-it-back-in-python\n",
    "- In-memory data processing:\n",
    " - https://phoenixnap.com/kb/hadoop-vs-spark \n",
    "- Disable infer schema\n",
    " - https://stackoverflow.com/questions/56927329/spark-option-inferschema-vs-header-true/56933052\n",
    "- PCA: \n",
    " - https://stackoverflow.com/questions/59883306/how-to-drop-a-column-from-a-spark-dataframe-by-index-where-column-names-can-be-d\n",
    " - pca plot variance explained https://datascience-enthusiast.com/Python/PCA_Spark_Python_R\n",
    "- Plots:\n",
    " - 3-D Plots: help received from https://stackoverflow.com/questions/37711538/matplotlib-3d-axes-ticks-labels-and-latex\n",
    "            \n"
   ]
  },
  {
   "cell_type": "markdown",
   "id": "df611b13",
   "metadata": {},
   "source": [
    "## Set up environment"
   ]
  },
  {
   "cell_type": "code",
   "execution_count": 1,
   "id": "5a90213b",
   "metadata": {},
   "outputs": [
    {
     "name": "stdout",
     "output_type": "stream",
     "text": [
      "Requirement already satisfied: pyspark in c:\\users\\enginesadmin\\anaconda3\\lib\\site-packages (3.1.2)\n",
      "Requirement already satisfied: py4j==0.10.9 in c:\\users\\enginesadmin\\anaconda3\\lib\\site-packages (from pyspark) (0.10.9)\n"
     ]
    }
   ],
   "source": [
    "!pip install pyspark\n",
    "\n"
   ]
  },
  {
   "cell_type": "code",
   "execution_count": 32,
   "id": "c7bc52d7",
   "metadata": {},
   "outputs": [],
   "source": [
    "from pyspark.sql import SparkSession\n"
   ]
  },
  {
   "cell_type": "code",
   "execution_count": 33,
   "id": "a28e4001",
   "metadata": {},
   "outputs": [],
   "source": [
    "import glob"
   ]
  },
  {
   "cell_type": "code",
   "execution_count": 35,
   "id": "59e03481",
   "metadata": {},
   "outputs": [],
   "source": [
    "from pyspark.sql.types import StructType,StructField, StringType, IntegerType, TimestampType"
   ]
  },
  {
   "cell_type": "code",
   "execution_count": 36,
   "id": "785d5da9",
   "metadata": {},
   "outputs": [],
   "source": [
    "from pyspark.sql import functions as F"
   ]
  },
  {
   "cell_type": "markdown",
   "id": "1d4e014a",
   "metadata": {},
   "source": [
    "## Define data schema"
   ]
  },
  {
   "cell_type": "code",
   "execution_count": 37,
   "id": "714d69f4",
   "metadata": {},
   "outputs": [],
   "source": [
    "schema = StructType([ \\\n",
    "    StructField(\"sender\",StringType(),True), \\\n",
    "    StructField(\"value\",IntegerType(),True), \\\n",
    "    StructField(\"timestamp_in_unix_seconds\",IntegerType(),True), \\\n",
    "    StructField(\"fee\",IntegerType(),True), \\\n",
    "  ])"
   ]
  },
  {
   "cell_type": "markdown",
   "id": "ec0967f9",
   "metadata": {},
   "source": [
    "## Set configurations\n",
    "- Amount of **executors is set to 4**, enabling **parallel processing**\n",
    "- **Executors** are allocated with **8GB RAM**\n",
    "- **Spark driver** is allocated with **16GB RAM**\n",
    "- **Filter pushdown** is enabled, to prevent not requested data to be loaded into memory"
   ]
  },
  {
   "cell_type": "code",
   "execution_count": 38,
   "id": "55c75d96",
   "metadata": {},
   "outputs": [],
   "source": [
    "from pyspark.conf import SparkConf\n",
    "\n",
    "\n",
    "config = SparkConf().setAll([ \\\n",
    "    ('spark.executor.memory', '8g'), \\\n",
    "    (\"spark.executor.instances\", \"4\"), \\\n",
    "\n",
    "    ('spark.driver.memory','16g'), \\\n",
    "    (\"spark.sql.parquet.filterPushdown\", \"true\"), \\\n",
    "    (\"spark.hadoop.parquet.filter.stats.enabled\", \"true\"), \\\n",
    "    (\"spark.sql.optimizer.nestedSchemaPruning.enabled\", \"true\"), \\\n",
    "    (\"spark.sql.optimizer.dynamicPartitionPruning.enabled\", \"true\"), \\\n",
    "    (\"spark.sql.autoBroadcastJoinThreshold\", \"-1\"), \\\n",
    "    (\"spark.sql.parquet.binaryAsString\", \"true\") ]) \\\n",
    "#    (\"spark.executor.memoryOverhead\", \"16384\") \\\n"
   ]
  },
  {
   "cell_type": "markdown",
   "id": "3181356c",
   "metadata": {},
   "source": [
    "## Open Spark session"
   ]
  },
  {
   "cell_type": "code",
   "execution_count": 39,
   "id": "dee7dced",
   "metadata": {},
   "outputs": [
    {
     "name": "stdout",
     "output_type": "stream",
     "text": [
      "<pyspark.conf.SparkConf object at 0x000001C9C82E67F0>\n",
      "local\n",
      "Clustering using K-Means\n"
     ]
    }
   ],
   "source": [
    "print(config.setMaster(\"local\").setAppName(\"Clustering using K-Means\"))\n",
    "\n",
    "print(config.get(\"spark.master\"))\n",
    "\n",
    "print(config.get(\"spark.app.name\"))\n"
   ]
  },
  {
   "cell_type": "code",
   "execution_count": 40,
   "id": "830a0d7e",
   "metadata": {},
   "outputs": [],
   "source": [
    "import time\n",
    "\n",
    "from datetime import datetime\n",
    "spark = SparkSession.builder.appName(\"Clustering using K-Means\") \\\n",
    "    .config(conf=config) \\\n",
    "    .getOrCreate() \\\n",
    "#    .option(\"failOnDataLoss\", False)"
   ]
  },
  {
   "cell_type": "code",
   "execution_count": 41,
   "id": "b0a5cbed",
   "metadata": {},
   "outputs": [
    {
     "data": {
      "text/html": [
       "\n",
       "            <div>\n",
       "                <p><b>SparkSession - in-memory</b></p>\n",
       "                \n",
       "        <div>\n",
       "            <p><b>SparkContext</b></p>\n",
       "\n",
       "            <p><a href=\"http://10.0.7.40:4041\">Spark UI</a></p>\n",
       "\n",
       "            <dl>\n",
       "              <dt>Version</dt>\n",
       "                <dd><code>v3.1.2</code></dd>\n",
       "              <dt>Master</dt>\n",
       "                <dd><code>local</code></dd>\n",
       "              <dt>AppName</dt>\n",
       "                <dd><code>Clustering using K-Means</code></dd>\n",
       "            </dl>\n",
       "        </div>\n",
       "        \n",
       "            </div>\n",
       "        "
      ],
      "text/plain": [
       "<pyspark.sql.session.SparkSession at 0x1c9c84589a0>"
      ]
     },
     "execution_count": 41,
     "metadata": {},
     "output_type": "execute_result"
    }
   ],
   "source": [
    "spark"
   ]
  },
  {
   "cell_type": "markdown",
   "id": "fdc27d2b",
   "metadata": {},
   "source": [
    "### Check applied configurations"
   ]
  },
  {
   "cell_type": "code",
   "execution_count": 42,
   "id": "0bd9f22c",
   "metadata": {},
   "outputs": [
    {
     "data": {
      "text/plain": [
       "[('spark.master', 'local'),\n",
       " ('spark.executor.instances', '4'),\n",
       " ('spark.sql.parquet.binaryAsString', 'true'),\n",
       " ('spark.driver.port', '50212'),\n",
       " ('spark.sql.parquet.filterPushdown', 'true'),\n",
       " ('spark.app.id', 'local-1639418990993'),\n",
       " ('spark.executor.id', 'driver'),\n",
       " ('spark.sql.optimizer.dynamicPartitionPruning.enabled', 'true'),\n",
       " ('spark.driver.memory', '16g'),\n",
       " ('spark.sql.optimizer.nestedSchemaPruning.enabled', 'true'),\n",
       " ('spark.sql.warehouse.dir',\n",
       "  'file:/D:/Submission%20folder/Ethereum%20analysis/spark-warehouse'),\n",
       " ('spark.rdd.compress', 'True'),\n",
       " ('spark.serializer.objectStreamReset', '100'),\n",
       " ('spark.executor.memory', '8g'),\n",
       " ('spark.submit.pyFiles', ''),\n",
       " ('spark.submit.deployMode', 'client'),\n",
       " ('spark.hadoop.parquet.filter.stats.enabled', 'true'),\n",
       " ('spark.sql.autoBroadcastJoinThreshold', '-1'),\n",
       " ('spark.ui.showConsoleProgress', 'true'),\n",
       " ('spark.app.startTime', '1639418988638'),\n",
       " ('spark.app.name', 'Clustering using K-Means'),\n",
       " ('spark.driver.host', '10.0.7.40')]"
      ]
     },
     "execution_count": 42,
     "metadata": {},
     "output_type": "execute_result"
    }
   ],
   "source": [
    "spark.sparkContext.getConf().getAll()"
   ]
  },
  {
   "cell_type": "markdown",
   "id": "bfbff207",
   "metadata": {},
   "source": [
    "## Indicate data to be read"
   ]
  },
  {
   "cell_type": "code",
   "execution_count": 43,
   "id": "3d953167",
   "metadata": {},
   "outputs": [
    {
     "data": {
      "text/plain": [
       "['D:\\\\Downloads\\\\ethereum_data\\\\ethereum000000000000.csv',\n",
       " 'D:\\\\Downloads\\\\ethereum_data\\\\ethereum000000000001.csv',\n",
       " 'D:\\\\Downloads\\\\ethereum_data\\\\ethereum000000000002.csv',\n",
       " 'D:\\\\Downloads\\\\ethereum_data\\\\ethereum000000000003.csv',\n",
       " 'D:\\\\Downloads\\\\ethereum_data\\\\ethereum000000000004.csv',\n",
       " 'D:\\\\Downloads\\\\ethereum_data\\\\ethereum000000000005.csv',\n",
       " 'D:\\\\Downloads\\\\ethereum_data\\\\ethereum000000000006.csv',\n",
       " 'D:\\\\Downloads\\\\ethereum_data\\\\ethereum000000000007.csv',\n",
       " 'D:\\\\Downloads\\\\ethereum_data\\\\ethereum000000000008.csv',\n",
       " 'D:\\\\Downloads\\\\ethereum_data\\\\ethereum000000000009.csv',\n",
       " 'D:\\\\Downloads\\\\ethereum_data\\\\ethereum000000000010.csv',\n",
       " 'D:\\\\Downloads\\\\ethereum_data\\\\ethereum000000000011.csv',\n",
       " 'D:\\\\Downloads\\\\ethereum_data\\\\ethereum000000000012.csv',\n",
       " 'D:\\\\Downloads\\\\ethereum_data\\\\ethereum000000000013.csv',\n",
       " 'D:\\\\Downloads\\\\ethereum_data\\\\ethereum000000000014.csv',\n",
       " 'D:\\\\Downloads\\\\ethereum_data\\\\ethereum000000000015.csv',\n",
       " 'D:\\\\Downloads\\\\ethereum_data\\\\ethereum000000000016.csv',\n",
       " 'D:\\\\Downloads\\\\ethereum_data\\\\ethereum000000000017.csv',\n",
       " 'D:\\\\Downloads\\\\ethereum_data\\\\ethereum000000000018.csv',\n",
       " 'D:\\\\Downloads\\\\ethereum_data\\\\ethereum000000000019.csv',\n",
       " 'D:\\\\Downloads\\\\ethereum_data\\\\ethereum000000000020.csv',\n",
       " 'D:\\\\Downloads\\\\ethereum_data\\\\ethereum000000000021.csv',\n",
       " 'D:\\\\Downloads\\\\ethereum_data\\\\ethereum000000000022.csv',\n",
       " 'D:\\\\Downloads\\\\ethereum_data\\\\ethereum000000000023.csv',\n",
       " 'D:\\\\Downloads\\\\ethereum_data\\\\ethereum000000000024.csv',\n",
       " 'D:\\\\Downloads\\\\ethereum_data\\\\ethereum000000000025.csv',\n",
       " 'D:\\\\Downloads\\\\ethereum_data\\\\ethereum000000000026.csv',\n",
       " 'D:\\\\Downloads\\\\ethereum_data\\\\ethereum000000000027.csv',\n",
       " 'D:\\\\Downloads\\\\ethereum_data\\\\ethereum000000000028.csv',\n",
       " 'D:\\\\Downloads\\\\ethereum_data\\\\ethereum000000000029.csv',\n",
       " 'D:\\\\Downloads\\\\ethereum_data\\\\ethereum000000000030.csv',\n",
       " 'D:\\\\Downloads\\\\ethereum_data\\\\ethereum000000000031.csv',\n",
       " 'D:\\\\Downloads\\\\ethereum_data\\\\ethereum000000000032.csv',\n",
       " 'D:\\\\Downloads\\\\ethereum_data\\\\ethereum000000000033.csv',\n",
       " 'D:\\\\Downloads\\\\ethereum_data\\\\ethereum000000000034.csv',\n",
       " 'D:\\\\Downloads\\\\ethereum_data\\\\ethereum000000000035.csv',\n",
       " 'D:\\\\Downloads\\\\ethereum_data\\\\ethereum000000000036.csv',\n",
       " 'D:\\\\Downloads\\\\ethereum_data\\\\ethereum000000000037.csv',\n",
       " 'D:\\\\Downloads\\\\ethereum_data\\\\ethereum000000000038.csv',\n",
       " 'D:\\\\Downloads\\\\ethereum_data\\\\ethereum000000000039.csv',\n",
       " 'D:\\\\Downloads\\\\ethereum_data\\\\ethereum000000000040.csv',\n",
       " 'D:\\\\Downloads\\\\ethereum_data\\\\ethereum000000000041.csv',\n",
       " 'D:\\\\Downloads\\\\ethereum_data\\\\ethereum000000000042.csv',\n",
       " 'D:\\\\Downloads\\\\ethereum_data\\\\ethereum000000000043.csv',\n",
       " 'D:\\\\Downloads\\\\ethereum_data\\\\ethereum000000000044.csv',\n",
       " 'D:\\\\Downloads\\\\ethereum_data\\\\ethereum000000000045.csv',\n",
       " 'D:\\\\Downloads\\\\ethereum_data\\\\ethereum000000000046.csv',\n",
       " 'D:\\\\Downloads\\\\ethereum_data\\\\ethereum000000000047.csv',\n",
       " 'D:\\\\Downloads\\\\ethereum_data\\\\ethereum000000000048.csv',\n",
       " 'D:\\\\Downloads\\\\ethereum_data\\\\ethereum000000000049.csv',\n",
       " 'D:\\\\Downloads\\\\ethereum_data\\\\ethereum000000000050.csv',\n",
       " 'D:\\\\Downloads\\\\ethereum_data\\\\ethereum000000000051.csv',\n",
       " 'D:\\\\Downloads\\\\ethereum_data\\\\ethereum000000000052.csv',\n",
       " 'D:\\\\Downloads\\\\ethereum_data\\\\ethereum000000000053.csv',\n",
       " 'D:\\\\Downloads\\\\ethereum_data\\\\ethereum000000000054.csv',\n",
       " 'D:\\\\Downloads\\\\ethereum_data\\\\ethereum000000000055.csv',\n",
       " 'D:\\\\Downloads\\\\ethereum_data\\\\ethereum000000000056.csv',\n",
       " 'D:\\\\Downloads\\\\ethereum_data\\\\ethereum000000000057.csv',\n",
       " 'D:\\\\Downloads\\\\ethereum_data\\\\ethereum000000000058.csv',\n",
       " 'D:\\\\Downloads\\\\ethereum_data\\\\ethereum000000000059.csv',\n",
       " 'D:\\\\Downloads\\\\ethereum_data\\\\ethereum000000000060.csv',\n",
       " 'D:\\\\Downloads\\\\ethereum_data\\\\ethereum000000000061.csv',\n",
       " 'D:\\\\Downloads\\\\ethereum_data\\\\ethereum000000000062.csv',\n",
       " 'D:\\\\Downloads\\\\ethereum_data\\\\ethereum000000000063.csv',\n",
       " 'D:\\\\Downloads\\\\ethereum_data\\\\ethereum000000000064.csv',\n",
       " 'D:\\\\Downloads\\\\ethereum_data\\\\ethereum000000000065.csv',\n",
       " 'D:\\\\Downloads\\\\ethereum_data\\\\ethereum000000000066.csv',\n",
       " 'D:\\\\Downloads\\\\ethereum_data\\\\ethereum000000000067.csv',\n",
       " 'D:\\\\Downloads\\\\ethereum_data\\\\ethereum000000000068.csv',\n",
       " 'D:\\\\Downloads\\\\ethereum_data\\\\ethereum000000000069.csv',\n",
       " 'D:\\\\Downloads\\\\ethereum_data\\\\ethereum000000000070.csv',\n",
       " 'D:\\\\Downloads\\\\ethereum_data\\\\ethereum000000000071.csv',\n",
       " 'D:\\\\Downloads\\\\ethereum_data\\\\ethereum000000000072.csv',\n",
       " 'D:\\\\Downloads\\\\ethereum_data\\\\ethereum000000000073.csv',\n",
       " 'D:\\\\Downloads\\\\ethereum_data\\\\ethereum000000000074.csv',\n",
       " 'D:\\\\Downloads\\\\ethereum_data\\\\ethereum000000000075.csv',\n",
       " 'D:\\\\Downloads\\\\ethereum_data\\\\ethereum000000000076.csv',\n",
       " 'D:\\\\Downloads\\\\ethereum_data\\\\ethereum000000000077.csv',\n",
       " 'D:\\\\Downloads\\\\ethereum_data\\\\ethereum000000000078.csv',\n",
       " 'D:\\\\Downloads\\\\ethereum_data\\\\ethereum000000000079.csv',\n",
       " 'D:\\\\Downloads\\\\ethereum_data\\\\ethereum000000000080.csv',\n",
       " 'D:\\\\Downloads\\\\ethereum_data\\\\ethereum000000000081.csv',\n",
       " 'D:\\\\Downloads\\\\ethereum_data\\\\ethereum000000000082.csv',\n",
       " 'D:\\\\Downloads\\\\ethereum_data\\\\ethereum000000000083.csv',\n",
       " 'D:\\\\Downloads\\\\ethereum_data\\\\ethereum000000000084.csv',\n",
       " 'D:\\\\Downloads\\\\ethereum_data\\\\ethereum000000000085.csv',\n",
       " 'D:\\\\Downloads\\\\ethereum_data\\\\ethereum000000000086.csv',\n",
       " 'D:\\\\Downloads\\\\ethereum_data\\\\ethereum000000000087.csv',\n",
       " 'D:\\\\Downloads\\\\ethereum_data\\\\ethereum000000000088.csv',\n",
       " 'D:\\\\Downloads\\\\ethereum_data\\\\ethereum000000000089.csv',\n",
       " 'D:\\\\Downloads\\\\ethereum_data\\\\ethereum000000000090.csv',\n",
       " 'D:\\\\Downloads\\\\ethereum_data\\\\ethereum000000000091.csv',\n",
       " 'D:\\\\Downloads\\\\ethereum_data\\\\ethereum000000000092.csv',\n",
       " 'D:\\\\Downloads\\\\ethereum_data\\\\ethereum000000000093.csv',\n",
       " 'D:\\\\Downloads\\\\ethereum_data\\\\ethereum000000000094.csv',\n",
       " 'D:\\\\Downloads\\\\ethereum_data\\\\ethereum000000000095.csv',\n",
       " 'D:\\\\Downloads\\\\ethereum_data\\\\ethereum000000000096.csv',\n",
       " 'D:\\\\Downloads\\\\ethereum_data\\\\ethereum000000000097.csv',\n",
       " 'D:\\\\Downloads\\\\ethereum_data\\\\ethereum000000000098.csv',\n",
       " 'D:\\\\Downloads\\\\ethereum_data\\\\ethereum000000000099.csv']"
      ]
     },
     "execution_count": 43,
     "metadata": {},
     "output_type": "execute_result"
    }
   ],
   "source": [
    "import glob\n",
    "import os\n",
    "BITCOIN_PATHS = sorted(glob.glob(os.path.join(\"D:\\\\Downloads\\\\ethereum_data\\\\\", \"ethereum*.csv\")))\n",
    "BITCOIN_PATHS"
   ]
  },
  {
   "cell_type": "markdown",
   "id": "585fb8d5",
   "metadata": {},
   "source": [
    "## Load Ethereum data into Spark\n",
    "- Select the columns **Sender**, **Value** and **Fee**.\n",
    "- Filter by timestamp (**timestamp_in_unix_time**).\n",
    "- Reshuffle +  Sample data with **factor 0.1**\n",
    "- Discard NAs\n",
    "- Load data into cache (with persist()) to avoid having to reload data for different analyses"
   ]
  },
  {
   "cell_type": "code",
   "execution_count": 44,
   "id": "cc1c00ab",
   "metadata": {},
   "outputs": [
    {
     "name": "stdout",
     "output_type": "stream",
     "text": [
      "root\n",
      " |-- sender: string (nullable = true)\n",
      " |-- value: integer (nullable = true)\n",
      " |-- fee: integer (nullable = true)\n",
      "\n"
     ]
    }
   ],
   "source": [
    "data_customer=spark.read.csv(BITCOIN_PATHS, header=True, schema=schema) \\\n",
    "    .select(\"sender\",\"value\",\"fee\") \\\n",
    "    .filter( \\\n",
    "        ((F.col('timestamp_in_unix_seconds') >= int(time.mktime(datetime.strptime('2017-12-18', '%Y-%m-%d').timetuple()))) & (F.col('timestamp_in_unix_seconds') <= int(time.mktime(datetime.strptime('2018-12-16', '%Y-%m-%d').timetuple())))) |\\\n",
    "        ((F.col('timestamp_in_unix_seconds') >= int(time.mktime(datetime.strptime('2021-04-13', '%Y-%m-%d').timetuple()))) & (F.col('timestamp_in_unix_seconds') <= int(time.mktime(datetime.strptime('2021-07-20', '%Y-%m-%d').timetuple())))) \\\n",
    "            \n",
    "           ) \\\n",
    "    .sample(False,0.1,1234) \\\n",
    "    .na.drop() \\\n",
    "    .persist()\n",
    "data_customer.printSchema()"
   ]
  },
  {
   "cell_type": "markdown",
   "id": "32f23f60",
   "metadata": {},
   "source": [
    "## Show explanation of data loading plan\n",
    "Here Spark shows how it will approach the data loading process, defined above"
   ]
  },
  {
   "cell_type": "code",
   "execution_count": 45,
   "id": "e444ee76",
   "metadata": {},
   "outputs": [
    {
     "name": "stdout",
     "output_type": "stream",
     "text": [
      "== Physical Plan ==\n",
      "InMemoryTableScan [sender#6064, value#6065, fee#6067]\n",
      "   +- InMemoryRelation [sender#6064, value#6065, fee#6067], StorageLevel(disk, memory, deserialized, 1 replicas)\n",
      "         +- *(1) Filter AtLeastNNulls(n, sender#6064,value#6065,fee#6067)\n",
      "            +- *(1) Sample 0.0, 0.1, false, 1234\n",
      "               +- *(1) Project [sender#6064, value#6065, fee#6067]\n",
      "                  +- *(1) Filter (((timestamp_in_unix_seconds#6066 >= 1513551600) AND (timestamp_in_unix_seconds#6066 <= 1544914800)) OR ((timestamp_in_unix_seconds#6066 >= 1618264800) AND (timestamp_in_unix_seconds#6066 <= 1626732000)))\n",
      "                     +- FileScan csv [sender#6064,value#6065,timestamp_in_unix_seconds#6066,fee#6067] Batched: false, DataFilters: [(((timestamp_in_unix_seconds#6066 >= 1513551600) AND (timestamp_in_unix_seconds#6066 <= 15449148..., Format: CSV, Location: InMemoryFileIndex[file:/D:/Downloads/ethereum_data/ethereum000000000000.csv, file:/D:/Downloads/e..., PartitionFilters: [], PushedFilters: [Or(And(GreaterThanOrEqual(timestamp_in_unix_seconds,1513551600),LessThanOrEqual(timestamp_in_uni..., ReadSchema: struct<sender:string,value:int,timestamp_in_unix_seconds:int,fee:int>\n",
      "\n",
      "\n"
     ]
    }
   ],
   "source": [
    "data_customer.explain()"
   ]
  },
  {
   "cell_type": "markdown",
   "id": "6776bc54",
   "metadata": {},
   "source": [
    "## Show two examples of data loaded into Spark."
   ]
  },
  {
   "cell_type": "code",
   "execution_count": 46,
   "id": "2451d49d",
   "metadata": {},
   "outputs": [
    {
     "name": "stdout",
     "output_type": "stream",
     "text": [
      "+--------------------+----------+------+\n",
      "|              sender|     value|   fee|\n",
      "+--------------------+----------+------+\n",
      "|0xe2d83239393b985...|1785350475|     0|\n",
      "|0x15fba53fcf4f533...|   6486141|147525|\n",
      "+--------------------+----------+------+\n",
      "only showing top 2 rows\n",
      "\n"
     ]
    }
   ],
   "source": [
    "data_customer.show(2)"
   ]
  },
  {
   "cell_type": "markdown",
   "id": "2c23f49d",
   "metadata": {},
   "source": [
    "## Add feature: amount of transactions performed per sender (\"c\") into dataset"
   ]
  },
  {
   "cell_type": "code",
   "execution_count": 47,
   "id": "ba25074c",
   "metadata": {},
   "outputs": [],
   "source": [
    "from pyspark.sql import SQLContext\n",
    "sqlContext = SQLContext(spark)\n",
    "sqlContext.registerDataFrameAsTable(data_customer, \"table1\")\n",
    "df2 = sqlContext.sql(\" \\\n",
    "                     with counted_sender as (SELECT sender, count(*) as c \\\n",
    "                     from table1 group by sender) \\\n",
    "                     select table1.sender, avg(value) as avg_value, avg(fee) as avg_fee, c \\\n",
    "                     from table1 join counted_sender on table1.sender=counted_sender.sender \\\n",
    "                     group by table1.sender, c order by c desc\"\n",
    "                    )"
   ]
  },
  {
   "cell_type": "code",
   "execution_count": 48,
   "id": "22db890d",
   "metadata": {},
   "outputs": [],
   "source": [
    "# sender are filtered out, since they are hash values --> do not contain any structure\n",
    "inputCols=['avg_value', 'avg_fee', 'c']\n"
   ]
  },
  {
   "cell_type": "markdown",
   "id": "78aba772",
   "metadata": {},
   "source": [
    "## Perform Vector Assembler to put the features into suitable format for subsequent K-Means clustering and PCA executions.\n",
    "Note: Senders are filtered out, since these are hash values, i.e., categorical values, that do not contain any structure to be determined by Clustering + PCA"
   ]
  },
  {
   "cell_type": "code",
   "execution_count": 49,
   "id": "4a39b1d6",
   "metadata": {},
   "outputs": [
    {
     "name": "stdout",
     "output_type": "stream",
     "text": [
      "+--------------------+---------+-----------------+---+--------------------+\n",
      "|              sender|avg_value|          avg_fee|  c|            features|\n",
      "+--------------------+---------+-----------------+---+--------------------+\n",
      "|0xa073cfdc059caf1...|      1.0|         101808.0|125|[1.0,101808.0,125.0]|\n",
      "|0x0c462ed55a7d553...|      1.0|99339.13043478261|115|[1.0,99339.130434...|\n",
      "+--------------------+---------+-----------------+---+--------------------+\n",
      "only showing top 2 rows\n",
      "\n"
     ]
    }
   ],
   "source": [
    "\n",
    "from pyspark.ml.feature import VectorAssembler\n",
    "df2.columns\n",
    "assemble=VectorAssembler(inputCols=inputCols, outputCol='features')\n",
    "assembled_data=assemble.transform(df2)\n",
    "assembled_data.show(2)"
   ]
  },
  {
   "cell_type": "markdown",
   "id": "29f66373",
   "metadata": {},
   "source": [
    "## Standardise data (including mean-centring and scaling)"
   ]
  },
  {
   "cell_type": "code",
   "execution_count": 50,
   "id": "d7c559ea",
   "metadata": {},
   "outputs": [
    {
     "name": "stdout",
     "output_type": "stream",
     "text": [
      "+--------------------+---------+-----------------+---+--------------------+--------------------+\n",
      "|              sender|avg_value|          avg_fee|  c|            features|        standardized|\n",
      "+--------------------+---------+-----------------+---+--------------------+--------------------+\n",
      "|0xa073cfdc059caf1...|      1.0|         101808.0|125|[1.0,101808.0,125.0]|[-0.1252655623263...|\n",
      "|0x0c462ed55a7d553...|      1.0|99339.13043478261|115|[1.0,99339.130434...|[-0.1252655623263...|\n",
      "+--------------------+---------+-----------------+---+--------------------+--------------------+\n",
      "only showing top 2 rows\n",
      "\n"
     ]
    }
   ],
   "source": [
    "\n",
    "from pyspark.ml.feature import StandardScaler\n",
    "scale=StandardScaler(inputCol='features',outputCol='standardized', withMean=True, withStd=True)\n",
    "data_scale=scale.fit(assembled_data)\n",
    "data_scale_output=data_scale.transform(assembled_data)\n",
    "data_scale_output.show(2)"
   ]
  },
  {
   "cell_type": "markdown",
   "id": "791c5e68",
   "metadata": {},
   "source": [
    "## Perform PCA\n",
    "- 3 PCs to be created"
   ]
  },
  {
   "cell_type": "code",
   "execution_count": 51,
   "id": "9a654f9d",
   "metadata": {},
   "outputs": [],
   "source": [
    "#from pyspark.ml.linalg import Vectors\n",
    "from pyspark.ml.feature import PCA\n",
    "pca = PCA(k=3, inputCol=\"standardized\")\n",
    "pca.setOutputCol(\"pca_features\")\n",
    "model = pca.fit(data_scale_output)\n",
    "data_scale_output = model.transform(data_scale_output)"
   ]
  },
  {
   "cell_type": "code",
   "execution_count": 52,
   "id": "268afaf1",
   "metadata": {},
   "outputs": [
    {
     "name": "stdout",
     "output_type": "stream",
     "text": [
      "+--------------------+---------+-----------------+---+--------------------+--------------------+--------------------+\n",
      "|              sender|avg_value|          avg_fee|  c|            features|        standardized|        pca_features|\n",
      "+--------------------+---------+-----------------+---+--------------------+--------------------+--------------------+\n",
      "|0xa073cfdc059caf1...|      1.0|         101808.0|125|[1.0,101808.0,125.0]|[-0.1252655623263...|[-8.7737335603174...|\n",
      "|0x0c462ed55a7d553...|      1.0|99339.13043478261|115|[1.0,99339.130434...|[-0.1252655623263...|[-8.0497610923123...|\n",
      "+--------------------+---------+-----------------+---+--------------------+--------------------+--------------------+\n",
      "only showing top 2 rows\n",
      "\n"
     ]
    }
   ],
   "source": [
    "data_scale_output.show(2)"
   ]
  },
  {
   "cell_type": "markdown",
   "id": "76483c3a",
   "metadata": {},
   "source": [
    "## Variance explained by the 3 PCs\n",
    "Order: PC1, PC2, PC3"
   ]
  },
  {
   "cell_type": "code",
   "execution_count": 53,
   "id": "d918c195",
   "metadata": {},
   "outputs": [
    {
     "data": {
      "text/plain": [
       "DenseVector([0.3596, 0.3297, 0.3107])"
      ]
     },
     "execution_count": 53,
     "metadata": {},
     "output_type": "execute_result"
    }
   ],
   "source": [
    "model.explainedVariance"
   ]
  },
  {
   "cell_type": "markdown",
   "id": "5462cd19",
   "metadata": {},
   "source": [
    "## Features explaining the PCs"
   ]
  },
  {
   "cell_type": "code",
   "execution_count": 54,
   "id": "6b38f463",
   "metadata": {},
   "outputs": [
    {
     "data": {
      "text/html": [
       "<div>\n",
       "<style scoped>\n",
       "    .dataframe tbody tr th:only-of-type {\n",
       "        vertical-align: middle;\n",
       "    }\n",
       "\n",
       "    .dataframe tbody tr th {\n",
       "        vertical-align: top;\n",
       "    }\n",
       "\n",
       "    .dataframe thead th {\n",
       "        text-align: right;\n",
       "    }\n",
       "</style>\n",
       "<table border=\"1\" class=\"dataframe\">\n",
       "  <thead>\n",
       "    <tr style=\"text-align: right;\">\n",
       "      <th></th>\n",
       "      <th>PC1</th>\n",
       "      <th>PC2</th>\n",
       "      <th>PC3</th>\n",
       "    </tr>\n",
       "  </thead>\n",
       "  <tbody>\n",
       "    <tr>\n",
       "      <th>avg_value</th>\n",
       "      <td>-0.6663</td>\n",
       "      <td>0.2217</td>\n",
       "      <td>-0.7120</td>\n",
       "    </tr>\n",
       "    <tr>\n",
       "      <th>avg_fee</th>\n",
       "      <td>-0.3487</td>\n",
       "      <td>-0.9366</td>\n",
       "      <td>0.0347</td>\n",
       "    </tr>\n",
       "    <tr>\n",
       "      <th>c</th>\n",
       "      <td>-0.6591</td>\n",
       "      <td>0.2714</td>\n",
       "      <td>0.7014</td>\n",
       "    </tr>\n",
       "  </tbody>\n",
       "</table>\n",
       "</div>"
      ],
      "text/plain": [
       "              PC1     PC2     PC3\n",
       "avg_value -0.6663  0.2217 -0.7120\n",
       "avg_fee   -0.3487 -0.9366  0.0347\n",
       "c         -0.6591  0.2714  0.7014"
      ]
     },
     "execution_count": 54,
     "metadata": {},
     "output_type": "execute_result"
    }
   ],
   "source": [
    "import numpy as np\n",
    "import pandas as pd\n",
    "pcs = np.round(model.pc.toArray(),4)\n",
    "df_pc = pd.DataFrame(pcs, columns = ['PC'+str(i) for i in range(1, 4)], index = inputCols)\n",
    "df_pc\n"
   ]
  },
  {
   "cell_type": "markdown",
   "id": "868edb8a",
   "metadata": {},
   "source": [
    "## Perform K-Means clusterings while evaluating each of them\n",
    "- In order to find the ideal clustering, k-means was performed several times by each time selecting a different number of clusters (k) to be formed, and by performing a respective evaluation based on silhouette score.\n",
    "\n",
    "- The process lasted 26min 36s"
   ]
  },
  {
   "cell_type": "code",
   "execution_count": null,
   "id": "187d6eb0",
   "metadata": {},
   "outputs": [],
   "source": [
    "%%time\n",
    "from pyspark.ml.clustering import KMeans\n",
    "from pyspark.ml.evaluation import ClusteringEvaluator\n",
    "silhouette_score=[]\n",
    "evaluator = ClusteringEvaluator(predictionCol='prediction', featuresCol='standardized', \\\n",
    "                                metricName='silhouette', distanceMeasure='squaredEuclidean')\n",
    "for i in range(2,10):\n",
    "    \n",
    "    KMeans_algo=KMeans(featuresCol='standardized', k=i, seed=1) # set seed\n",
    "    \n",
    "    KMeans_fit=KMeans_algo.fit(data_scale_output)\n",
    "    \n",
    "    output=KMeans_fit.transform(data_scale_output)\n",
    "    \n",
    "    \n",
    "    \n",
    "    score=evaluator.evaluate(output)\n",
    "    \n",
    "    silhouette_score.append(score)\n",
    "    \n",
    "    print(\"Silhouette Score:\",score)"
   ]
  },
  {
   "cell_type": "markdown",
   "id": "98878d92",
   "metadata": {},
   "source": [
    "## The diagram below shows the silhouette score achieved by the different clusterings, with a different k chosen each time."
   ]
  },
  {
   "cell_type": "code",
   "execution_count": 56,
   "id": "60a407f8",
   "metadata": {},
   "outputs": [
    {
     "data": {
      "text/plain": [
       "Text(0, 0.5, 'silhouette score')"
      ]
     },
     "execution_count": 56,
     "metadata": {},
     "output_type": "execute_result"
    },
    {
     "data": {
      "image/png": "[encoded data removed]",
      "text/plain": [
       "<Figure size 576x432 with 1 Axes>"
      ]
     },
     "metadata": {
      "needs_background": "light"
     },
     "output_type": "display_data"
    }
   ],
   "source": [
    "#Visualizing the silhouette scores in a plot\n",
    "import matplotlib.pyplot as plt\n",
    "fig, ax = plt.subplots(1,1, figsize =(8,6))\n",
    "ax.plot(range(2,10),silhouette_score)\n",
    "ax.set_xlabel(\"k\")\n",
    "ax.set_ylabel(\"silhouette score\")"
   ]
  },
  {
   "cell_type": "markdown",
   "id": "92f37bdb",
   "metadata": {},
   "source": [
    "## The optimal number of clusters (K) was chosen to be 4, and on this basis the data points in the dataset were assigned to the clusters.¶"
   ]
  },
  {
   "cell_type": "code",
   "execution_count": 57,
   "id": "be8eb067",
   "metadata": {},
   "outputs": [],
   "source": [
    "from pyspark.ml.evaluation import ClusteringEvaluator\n",
    "from pyspark.ml.clustering import KMeans\n",
    "\n",
    "# Trains a k-means model.\n",
    "kmeans = KMeans(featuresCol='standardized').setK(4).setSeed(1)\n",
    "model = kmeans.fit(data_scale_output)\n",
    "\n",
    "# Make predictions\n",
    "predictions = model.transform(data_scale_output)\n"
   ]
  },
  {
   "cell_type": "markdown",
   "id": "6481e0a2",
   "metadata": {},
   "source": [
    "## The data in Spark is fetched back into the Python environment using \"toPandas\" conversion. \n",
    "This is done to then realize visualization on Python environment."
   ]
  },
  {
   "cell_type": "code",
   "execution_count": 58,
   "id": "ac0f4f31",
   "metadata": {},
   "outputs": [],
   "source": [
    "\n",
    "pandasDF=predictions.toPandas()"
   ]
  },
  {
   "cell_type": "markdown",
   "id": "4861e96b",
   "metadata": {},
   "source": [
    "## A graph based on the original dataset is created"
   ]
  },
  {
   "cell_type": "code",
   "execution_count": 59,
   "id": "5445b44c",
   "metadata": {},
   "outputs": [],
   "source": [
    "\n",
    "x = []\n",
    "y = []\n",
    "z = []\n",
    "for i, j, k in pandasDF[\"standardized\"].values:\n",
    "    x.append(i)\n",
    "    y.append(j)\n",
    "    z.append(k)"
   ]
  },
  {
   "cell_type": "code",
   "execution_count": 60,
   "id": "18ca11e6",
   "metadata": {},
   "outputs": [
    {
     "data": {
      "image/png": "[encoded data removed]",
      "text/plain": [
       "<Figure size 432x288 with 1 Axes>"
      ]
     },
     "metadata": {
      "needs_background": "light"
     },
     "output_type": "display_data"
    }
   ],
   "source": [
    "import matplotlib.pyplot as plt\n",
    "\n",
    "import numpy as np\n",
    "from matplotlib import pyplot\n",
    "from mpl_toolkits.mplot3d import Axes3D\n",
    "scatter_x = np.array(x) # scaled bitcoin transaction avg_value\n",
    "scatter_y = np.array(y) # scaled bitcoin transaction avg_fee\n",
    "scatter_z = np.array(z) # scaled bitcoin transaction count\n",
    "group = np.array(pandasDF['prediction'])\n",
    "\n",
    "cdict = {0: 'red', 1: 'blue', 2: 'green', 3: 'orange'}\n",
    "#fig, ax = plt.subplots()\n",
    "fig = pyplot.figure()\n",
    "ax = Axes3D(fig)\n",
    "for g in np.unique(group):\n",
    "    ix = np.where(group == g)\n",
    "    ax.scatter(scatter_x[ix], scatter_y[ix], scatter_z[ix], c = cdict[g], label = g+1)\n",
    "ax.legend()\n",
    "plt.xlabel(\"avg_value\")\n",
    "plt.ylabel(\"avg_fee\")\n",
    "ax.set_zlabel(\"count\")\n",
    "plt.show()\n"
   ]
  }
 ],
 "metadata": {
  "kernelspec": {
   "display_name": "Python 3",
   "language": "python",
   "name": "python3"
  },
  "language_info": {
   "codemirror_mode": {
    "name": "ipython",
    "version": 3
   },
   "file_extension": ".py",
   "mimetype": "text/x-python",
   "name": "python",
   "nbconvert_exporter": "python",
   "pygments_lexer": "ipython3",
   "version": "3.8.8"
  }
 },
 "nbformat": 4,
 "nbformat_minor": 5
}
