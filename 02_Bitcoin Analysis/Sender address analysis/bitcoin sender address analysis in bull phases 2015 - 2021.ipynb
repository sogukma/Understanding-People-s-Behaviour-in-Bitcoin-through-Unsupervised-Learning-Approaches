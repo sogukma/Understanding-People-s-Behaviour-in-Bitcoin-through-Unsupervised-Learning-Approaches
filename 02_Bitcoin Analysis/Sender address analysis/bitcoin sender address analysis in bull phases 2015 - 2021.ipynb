{
 "cells": [
  {
   "cell_type": "markdown",
   "id": "e826c408",
   "metadata": {},
   "source": [
    "# Bitcoin Sender Address Analysis - Bull Phases between 2015 - 2021\n",
    "- by Malik Sogukoglu"
   ]
  },
  {
   "cell_type": "markdown",
   "id": "be7c253f",
   "metadata": {},
   "source": [
    "## References\n",
    "- Inspiration for Workflow structure: \n",
    " - https://www.bmc.com/blogs/python-spark-k-means-example/\n",
    " - https://www.kaggle.com/statsfromarg/btc-data-exploratory-analysis-with-txn\n",
    "- K-means clustering in Spark\n",
    " - https://spark.apache.org/docs/latest/ml-clustering.html\n",
    " - https://towardsdatascience.com/k-means-clustering-using-pyspark-on-big-data-6214beacdc8b\n",
    "- Sampling:\n",
    " - https://stackoverflow.com/questions/24806084/sampling-a-large-distributed-data-set-using-pyspark-spark\n",
    "- Filter pushdown: \n",
    " - https://engineering.dynatrace.com/blog/optimizing-spark-queries-with-filter-pushdown/\n",
    " - https://towardsdatascience.com/predicate-vs-projection-pushdown-in-spark-3-ac24c4d11855\n",
    "- Read data: \n",
    " - Reading several files: https://stackoverflow.com/questions/49898742/pandas-reading-csv-files-with-partial-wildcard\n",
    " - Correct processing of the date value as part of filtering (1): https://stackoverflow.com/questions/19480028/attributeerror-datetime-module-has-no-attribute-strptime \n",
    " - Correct processing of the date value as part of filtering(2) :https://stackoverflow.com/questions/19801727/convert-datetime-to-unix-timestamp-and-convert-it-back-in-python\n",
    "- In-memory data processing:\n",
    " - https://phoenixnap.com/kb/hadoop-vs-spark \n",
    "- Disable infer schema\n",
    " - https://stackoverflow.com/questions/56927329/spark-option-inferschema-vs-header-true/56933052\n",
    "- PCA: \n",
    " - https://stackoverflow.com/questions/59883306/how-to-drop-a-column-from-a-spark-dataframe-by-index-where-column-names-can-be-d\n",
    " - pca plot variance explained https://datascience-enthusiast.com/Python/PCA_Spark_Python_R\n",
    "- Plots:\n",
    " - 3-D Plots: help received from https://stackoverflow.com/questions/37711538/matplotlib-3d-axes-ticks-labels-and-latex\n",
    "            \n"
   ]
  },
  {
   "cell_type": "markdown",
   "id": "9ac2e829",
   "metadata": {},
   "source": [
    "## Set up environment"
   ]
  },
  {
   "cell_type": "code",
   "execution_count": 1,
   "id": "5a90213b",
   "metadata": {},
   "outputs": [
    {
     "name": "stdout",
     "output_type": "stream",
     "text": [
      "Requirement already satisfied: pyspark in c:\\users\\enginesadmin\\anaconda3\\lib\\site-packages (3.1.2)\n",
      "Requirement already satisfied: py4j==0.10.9 in c:\\users\\enginesadmin\\anaconda3\\lib\\site-packages (from pyspark) (0.10.9)\n"
     ]
    }
   ],
   "source": [
    "!pip install pyspark"
   ]
  },
  {
   "cell_type": "code",
   "execution_count": 1,
   "id": "c7bc52d7",
   "metadata": {},
   "outputs": [],
   "source": [
    "from pyspark.sql import SparkSession\n"
   ]
  },
  {
   "cell_type": "code",
   "execution_count": 2,
   "id": "a28e4001",
   "metadata": {},
   "outputs": [],
   "source": [
    "import glob"
   ]
  },
  {
   "cell_type": "code",
   "execution_count": 4,
   "id": "59e03481",
   "metadata": {},
   "outputs": [],
   "source": [
    "from pyspark.sql.types import StructType,StructField, StringType, IntegerType, TimestampType"
   ]
  },
  {
   "cell_type": "code",
   "execution_count": 5,
   "id": "785d5da9",
   "metadata": {},
   "outputs": [],
   "source": [
    "from pyspark.sql import functions as F"
   ]
  },
  {
   "cell_type": "markdown",
   "id": "2060ee66",
   "metadata": {},
   "source": [
    "## Define data schema"
   ]
  },
  {
   "cell_type": "code",
   "execution_count": 6,
   "id": "714d69f4",
   "metadata": {},
   "outputs": [],
   "source": [
    "schema = StructType([ \\\n",
    "    StructField(\"sender\",StringType(),True), \\\n",
    "    StructField(\"value\",IntegerType(),True), \\\n",
    "    StructField(\"timestamp_in_unix_seconds\",IntegerType(),True), \\\n",
    "    StructField(\"fee\",IntegerType(),True), \\\n",
    "  ])"
   ]
  },
  {
   "cell_type": "markdown",
   "id": "a0609507",
   "metadata": {},
   "source": [
    "## Set configurations\n",
    "- Amount of **executors is set to 4**, enabling **parallel processing**\n",
    "- **Executors** are allocated with **8GB RAM**\n",
    "- **Spark driver** is allocated with **16GB RAM**\n",
    "- **Filter pushdown** is enabled, to prevent not requested data to be loaded into memory"
   ]
  },
  {
   "cell_type": "code",
   "execution_count": 7,
   "id": "55c75d96",
   "metadata": {},
   "outputs": [],
   "source": [
    "\n",
    "from pyspark.conf import SparkConf\n",
    "\n",
    "\n",
    "config = SparkConf().setAll([ \\\n",
    "    ('spark.executor.memory', '8g'), \\\n",
    "    (\"spark.executor.instances\", \"4\"), \\\n",
    "\n",
    "    ('spark.driver.memory','16g'), \\\n",
    "    (\"spark.sql.parquet.filterPushdown\", \"true\"), \\\n",
    "    (\"spark.hadoop.parquet.filter.stats.enabled\", \"true\"), \\\n",
    "    (\"spark.sql.optimizer.nestedSchemaPruning.enabled\", \"true\"), \\\n",
    "    (\"spark.sql.optimizer.dynamicPartitionPruning.enabled\", \"true\"), \\\n",
    "    (\"spark.sql.autoBroadcastJoinThreshold\", \"-1\"), \\\n",
    "    (\"spark.sql.parquet.binaryAsString\", \"true\") ]) \\\n",
    "#    (\"spark.executor.memoryOverhead\", \"16384\") \\"
   ]
  },
  {
   "cell_type": "markdown",
   "id": "aed31931",
   "metadata": {},
   "source": [
    "## Open Spark session"
   ]
  },
  {
   "cell_type": "code",
   "execution_count": 8,
   "id": "dee7dced",
   "metadata": {},
   "outputs": [
    {
     "name": "stdout",
     "output_type": "stream",
     "text": [
      "<pyspark.conf.SparkConf object at 0x000001EDAC1E54C0>\n",
      "local\n",
      "Clustering using K-Means\n"
     ]
    }
   ],
   "source": [
    "print(config.setMaster(\"local\").setAppName(\"Clustering using K-Means\"))\n",
    "\n",
    "print(config.get(\"spark.master\"))\n",
    "\n",
    "print(config.get(\"spark.app.name\"))\n"
   ]
  },
  {
   "cell_type": "code",
   "execution_count": 9,
   "id": "830a0d7e",
   "metadata": {},
   "outputs": [],
   "source": [
    "import time\n",
    "\n",
    "from datetime import datetime\n",
    "spark = SparkSession.builder.appName(\"Clustering using K-Means\") \\\n",
    "    .config(conf=config) \\\n",
    "    .getOrCreate() \\\n",
    "#    .option(\"failOnDataLoss\", False)\n",
    "#spark"
   ]
  },
  {
   "cell_type": "code",
   "execution_count": 10,
   "id": "b0a5cbed",
   "metadata": {},
   "outputs": [
    {
     "data": {
      "text/html": [
       "\n",
       "            <div>\n",
       "                <p><b>SparkSession - in-memory</b></p>\n",
       "                \n",
       "        <div>\n",
       "            <p><b>SparkContext</b></p>\n",
       "\n",
       "            <p><a href=\"http://10.0.7.40:4043\">Spark UI</a></p>\n",
       "\n",
       "            <dl>\n",
       "              <dt>Version</dt>\n",
       "                <dd><code>v3.1.2</code></dd>\n",
       "              <dt>Master</dt>\n",
       "                <dd><code>local</code></dd>\n",
       "              <dt>AppName</dt>\n",
       "                <dd><code>Clustering using K-Means</code></dd>\n",
       "            </dl>\n",
       "        </div>\n",
       "        \n",
       "            </div>\n",
       "        "
      ],
      "text/plain": [
       "<pyspark.sql.session.SparkSession at 0x1edac359a00>"
      ]
     },
     "execution_count": 10,
     "metadata": {},
     "output_type": "execute_result"
    }
   ],
   "source": [
    "spark"
   ]
  },
  {
   "cell_type": "markdown",
   "id": "53b83cee",
   "metadata": {},
   "source": [
    "### Check applied configurations"
   ]
  },
  {
   "cell_type": "code",
   "execution_count": 11,
   "id": "0bd9f22c",
   "metadata": {},
   "outputs": [
    {
     "data": {
      "text/plain": [
       "[('spark.master', 'local'),\n",
       " ('spark.executor.instances', '4'),\n",
       " ('spark.sql.parquet.binaryAsString', 'true'),\n",
       " ('spark.sql.parquet.filterPushdown', 'true'),\n",
       " ('spark.executor.id', 'driver'),\n",
       " ('spark.sql.optimizer.dynamicPartitionPruning.enabled', 'true'),\n",
       " ('spark.driver.memory', '16g'),\n",
       " ('spark.sql.optimizer.nestedSchemaPruning.enabled', 'true'),\n",
       " ('spark.rdd.compress', 'True'),\n",
       " ('spark.serializer.objectStreamReset', '100'),\n",
       " ('spark.sql.warehouse.dir',\n",
       "  'file:/D:/Bitcoin%20analysis%20-%20Copy/Address%20analysis/spark-warehouse'),\n",
       " ('spark.executor.memory', '8g'),\n",
       " ('spark.submit.pyFiles', ''),\n",
       " ('spark.submit.deployMode', 'client'),\n",
       " ('spark.driver.port', '56107'),\n",
       " ('spark.hadoop.parquet.filter.stats.enabled', 'true'),\n",
       " ('spark.sql.autoBroadcastJoinThreshold', '-1'),\n",
       " ('spark.app.startTime', '1637857873581'),\n",
       " ('spark.app.name', 'Clustering using K-Means'),\n",
       " ('spark.ui.showConsoleProgress', 'true'),\n",
       " ('spark.app.id', 'local-1637857876849'),\n",
       " ('spark.driver.host', '10.0.7.40')]"
      ]
     },
     "execution_count": 11,
     "metadata": {},
     "output_type": "execute_result"
    }
   ],
   "source": [
    "spark.sparkContext.getConf().getAll()"
   ]
  },
  {
   "cell_type": "markdown",
   "id": "a80787e5",
   "metadata": {},
   "source": [
    "## Indicate data to be read"
   ]
  },
  {
   "cell_type": "code",
   "execution_count": 12,
   "id": "3d953167",
   "metadata": {},
   "outputs": [
    {
     "data": {
      "text/plain": [
       "['D:\\\\Downloads\\\\bitcoin_addresses\\\\bitcoin000000000000.csv',\n",
       " 'D:\\\\Downloads\\\\bitcoin_addresses\\\\bitcoin000000000001.csv',\n",
       " 'D:\\\\Downloads\\\\bitcoin_addresses\\\\bitcoin000000000002.csv',\n",
       " 'D:\\\\Downloads\\\\bitcoin_addresses\\\\bitcoin000000000003.csv',\n",
       " 'D:\\\\Downloads\\\\bitcoin_addresses\\\\bitcoin000000000004.csv',\n",
       " 'D:\\\\Downloads\\\\bitcoin_addresses\\\\bitcoin000000000005.csv',\n",
       " 'D:\\\\Downloads\\\\bitcoin_addresses\\\\bitcoin000000000006.csv',\n",
       " 'D:\\\\Downloads\\\\bitcoin_addresses\\\\bitcoin000000000007.csv',\n",
       " 'D:\\\\Downloads\\\\bitcoin_addresses\\\\bitcoin000000000008.csv',\n",
       " 'D:\\\\Downloads\\\\bitcoin_addresses\\\\bitcoin000000000009.csv',\n",
       " 'D:\\\\Downloads\\\\bitcoin_addresses\\\\bitcoin000000000010.csv',\n",
       " 'D:\\\\Downloads\\\\bitcoin_addresses\\\\bitcoin000000000011.csv',\n",
       " 'D:\\\\Downloads\\\\bitcoin_addresses\\\\bitcoin000000000012.csv',\n",
       " 'D:\\\\Downloads\\\\bitcoin_addresses\\\\bitcoin000000000013.csv',\n",
       " 'D:\\\\Downloads\\\\bitcoin_addresses\\\\bitcoin000000000014.csv',\n",
       " 'D:\\\\Downloads\\\\bitcoin_addresses\\\\bitcoin000000000015.csv',\n",
       " 'D:\\\\Downloads\\\\bitcoin_addresses\\\\bitcoin000000000016.csv',\n",
       " 'D:\\\\Downloads\\\\bitcoin_addresses\\\\bitcoin000000000017.csv',\n",
       " 'D:\\\\Downloads\\\\bitcoin_addresses\\\\bitcoin000000000018.csv',\n",
       " 'D:\\\\Downloads\\\\bitcoin_addresses\\\\bitcoin000000000019.csv',\n",
       " 'D:\\\\Downloads\\\\bitcoin_addresses\\\\bitcoin000000000020.csv',\n",
       " 'D:\\\\Downloads\\\\bitcoin_addresses\\\\bitcoin000000000021.csv',\n",
       " 'D:\\\\Downloads\\\\bitcoin_addresses\\\\bitcoin000000000022.csv',\n",
       " 'D:\\\\Downloads\\\\bitcoin_addresses\\\\bitcoin000000000023.csv',\n",
       " 'D:\\\\Downloads\\\\bitcoin_addresses\\\\bitcoin000000000024.csv',\n",
       " 'D:\\\\Downloads\\\\bitcoin_addresses\\\\bitcoin000000000025.csv',\n",
       " 'D:\\\\Downloads\\\\bitcoin_addresses\\\\bitcoin000000000026.csv',\n",
       " 'D:\\\\Downloads\\\\bitcoin_addresses\\\\bitcoin000000000027.csv',\n",
       " 'D:\\\\Downloads\\\\bitcoin_addresses\\\\bitcoin000000000028.csv',\n",
       " 'D:\\\\Downloads\\\\bitcoin_addresses\\\\bitcoin000000000029.csv',\n",
       " 'D:\\\\Downloads\\\\bitcoin_addresses\\\\bitcoin000000000030.csv',\n",
       " 'D:\\\\Downloads\\\\bitcoin_addresses\\\\bitcoin000000000031.csv',\n",
       " 'D:\\\\Downloads\\\\bitcoin_addresses\\\\bitcoin000000000032.csv',\n",
       " 'D:\\\\Downloads\\\\bitcoin_addresses\\\\bitcoin000000000033.csv',\n",
       " 'D:\\\\Downloads\\\\bitcoin_addresses\\\\bitcoin000000000034.csv',\n",
       " 'D:\\\\Downloads\\\\bitcoin_addresses\\\\bitcoin000000000035.csv',\n",
       " 'D:\\\\Downloads\\\\bitcoin_addresses\\\\bitcoin000000000036.csv',\n",
       " 'D:\\\\Downloads\\\\bitcoin_addresses\\\\bitcoin000000000037.csv',\n",
       " 'D:\\\\Downloads\\\\bitcoin_addresses\\\\bitcoin000000000038.csv',\n",
       " 'D:\\\\Downloads\\\\bitcoin_addresses\\\\bitcoin000000000039.csv',\n",
       " 'D:\\\\Downloads\\\\bitcoin_addresses\\\\bitcoin000000000040.csv',\n",
       " 'D:\\\\Downloads\\\\bitcoin_addresses\\\\bitcoin000000000041.csv',\n",
       " 'D:\\\\Downloads\\\\bitcoin_addresses\\\\bitcoin000000000042.csv',\n",
       " 'D:\\\\Downloads\\\\bitcoin_addresses\\\\bitcoin000000000043.csv',\n",
       " 'D:\\\\Downloads\\\\bitcoin_addresses\\\\bitcoin000000000044.csv',\n",
       " 'D:\\\\Downloads\\\\bitcoin_addresses\\\\bitcoin000000000045.csv',\n",
       " 'D:\\\\Downloads\\\\bitcoin_addresses\\\\bitcoin000000000046.csv',\n",
       " 'D:\\\\Downloads\\\\bitcoin_addresses\\\\bitcoin000000000047.csv',\n",
       " 'D:\\\\Downloads\\\\bitcoin_addresses\\\\bitcoin000000000048.csv',\n",
       " 'D:\\\\Downloads\\\\bitcoin_addresses\\\\bitcoin000000000049.csv',\n",
       " 'D:\\\\Downloads\\\\bitcoin_addresses\\\\bitcoin000000000050.csv',\n",
       " 'D:\\\\Downloads\\\\bitcoin_addresses\\\\bitcoin000000000051.csv',\n",
       " 'D:\\\\Downloads\\\\bitcoin_addresses\\\\bitcoin000000000052.csv',\n",
       " 'D:\\\\Downloads\\\\bitcoin_addresses\\\\bitcoin000000000053.csv',\n",
       " 'D:\\\\Downloads\\\\bitcoin_addresses\\\\bitcoin000000000054.csv',\n",
       " 'D:\\\\Downloads\\\\bitcoin_addresses\\\\bitcoin000000000055.csv',\n",
       " 'D:\\\\Downloads\\\\bitcoin_addresses\\\\bitcoin000000000056.csv',\n",
       " 'D:\\\\Downloads\\\\bitcoin_addresses\\\\bitcoin000000000057.csv',\n",
       " 'D:\\\\Downloads\\\\bitcoin_addresses\\\\bitcoin000000000058.csv',\n",
       " 'D:\\\\Downloads\\\\bitcoin_addresses\\\\bitcoin000000000059.csv',\n",
       " 'D:\\\\Downloads\\\\bitcoin_addresses\\\\bitcoin000000000060.csv',\n",
       " 'D:\\\\Downloads\\\\bitcoin_addresses\\\\bitcoin000000000061.csv',\n",
       " 'D:\\\\Downloads\\\\bitcoin_addresses\\\\bitcoin000000000062.csv',\n",
       " 'D:\\\\Downloads\\\\bitcoin_addresses\\\\bitcoin000000000063.csv',\n",
       " 'D:\\\\Downloads\\\\bitcoin_addresses\\\\bitcoin000000000064.csv',\n",
       " 'D:\\\\Downloads\\\\bitcoin_addresses\\\\bitcoin000000000065.csv',\n",
       " 'D:\\\\Downloads\\\\bitcoin_addresses\\\\bitcoin000000000066.csv',\n",
       " 'D:\\\\Downloads\\\\bitcoin_addresses\\\\bitcoin000000000067.csv',\n",
       " 'D:\\\\Downloads\\\\bitcoin_addresses\\\\bitcoin000000000068.csv',\n",
       " 'D:\\\\Downloads\\\\bitcoin_addresses\\\\bitcoin000000000069.csv',\n",
       " 'D:\\\\Downloads\\\\bitcoin_addresses\\\\bitcoin000000000070.csv',\n",
       " 'D:\\\\Downloads\\\\bitcoin_addresses\\\\bitcoin000000000071.csv',\n",
       " 'D:\\\\Downloads\\\\bitcoin_addresses\\\\bitcoin000000000072.csv',\n",
       " 'D:\\\\Downloads\\\\bitcoin_addresses\\\\bitcoin000000000073.csv',\n",
       " 'D:\\\\Downloads\\\\bitcoin_addresses\\\\bitcoin000000000074.csv',\n",
       " 'D:\\\\Downloads\\\\bitcoin_addresses\\\\bitcoin000000000075.csv']"
      ]
     },
     "execution_count": 12,
     "metadata": {},
     "output_type": "execute_result"
    }
   ],
   "source": [
    "import glob\n",
    "import os\n",
    "BITCOIN_PATHS = sorted(glob.glob(os.path.join(\"D:\\\\Downloads\\\\bitcoin_addresses\\\\\", \"bitcoin*.csv\")))\n",
    "BITCOIN_PATHS"
   ]
  },
  {
   "cell_type": "markdown",
   "id": "1f700234",
   "metadata": {},
   "source": [
    "## Load Bitcoin data into Spark\n",
    "- Select the columns **Sender**, **Value** and **Fee**.\n",
    "- Filter by timestamp (**timestamp_in_unix_time**).\n",
    "- Reshuffle +  Sample data with **factor 0.001**\n",
    "- Discard NAs\n",
    "- Load data into cache (with persist()) to avoid having to reload data for different analyses"
   ]
  },
  {
   "cell_type": "code",
   "execution_count": 13,
   "id": "cc1c00ab",
   "metadata": {},
   "outputs": [
    {
     "name": "stdout",
     "output_type": "stream",
     "text": [
      "root\n",
      " |-- sender: string (nullable = true)\n",
      " |-- value: integer (nullable = true)\n",
      " |-- fee: integer (nullable = true)\n",
      "\n"
     ]
    }
   ],
   "source": [
    "data_customer=spark.read.csv(BITCOIN_PATHS, header=True, schema=schema) \\\n",
    "    .select(\"sender\",\"value\",\"fee\") \\\n",
    "    .filter( \\\n",
    "        ((F.col('timestamp_in_unix_seconds') >= int(time.mktime(datetime.strptime('2015-07-30', '%Y-%m-%d').timetuple()))) & (F.col('timestamp_in_unix_seconds') <= int(time.mktime(datetime.strptime('2017-12-18', '%Y-%m-%d').timetuple())))) |\\\n",
    "        ((F.col('timestamp_in_unix_seconds') >= int(time.mktime(datetime.strptime('2018-12-16', '%Y-%m-%d').timetuple()))) & (F.col('timestamp_in_unix_seconds') <= int(time.mktime(datetime.strptime('2021-04-13', '%Y-%m-%d').timetuple())))) \\\n",
    "            \n",
    "           ) \\\n",
    "    .sample(False,0.001,1234) \\\n",
    "    .na.drop() \\\n",
    "    .persist()\n",
    "data_customer.printSchema()"
   ]
  },
  {
   "cell_type": "markdown",
   "id": "8b8b8bd8",
   "metadata": {},
   "source": [
    "## Show explanation of data loading plan\n",
    "Here Spark shows how it will approach the data loading process, defined above"
   ]
  },
  {
   "cell_type": "code",
   "execution_count": 14,
   "id": "e444ee76",
   "metadata": {},
   "outputs": [
    {
     "name": "stdout",
     "output_type": "stream",
     "text": [
      "== Physical Plan ==\n",
      "InMemoryTableScan [sender#0, value#1, fee#3]\n",
      "   +- InMemoryRelation [sender#0, value#1, fee#3], StorageLevel(disk, memory, deserialized, 1 replicas)\n",
      "         +- *(1) Filter AtLeastNNulls(n, sender#0,value#1,fee#3)\n",
      "            +- *(1) Sample 0.0, 0.001, false, 1234\n",
      "               +- *(1) Project [sender#0, value#1, fee#3]\n",
      "                  +- *(1) Filter (((timestamp_in_unix_seconds#2 >= 1438207200) AND (timestamp_in_unix_seconds#2 <= 1513551600)) OR ((timestamp_in_unix_seconds#2 >= 1544914800) AND (timestamp_in_unix_seconds#2 <= 1618264800)))\n",
      "                     +- FileScan csv [sender#0,value#1,timestamp_in_unix_seconds#2,fee#3] Batched: false, DataFilters: [(((timestamp_in_unix_seconds#2 >= 1438207200) AND (timestamp_in_unix_seconds#2 <= 1513551600)) O..., Format: CSV, Location: InMemoryFileIndex[file:/D:/Downloads/bitcoin_addresses/bitcoin000000000000.csv, file:/D:/Download..., PartitionFilters: [], PushedFilters: [Or(And(GreaterThanOrEqual(timestamp_in_unix_seconds,1438207200),LessThanOrEqual(timestamp_in_uni..., ReadSchema: struct<sender:string,value:int,timestamp_in_unix_seconds:int,fee:int>\n",
      "\n",
      "\n"
     ]
    }
   ],
   "source": [
    "data_customer.explain()"
   ]
  },
  {
   "cell_type": "markdown",
   "id": "780f3da6",
   "metadata": {},
   "source": [
    "## Show two examples of data loaded into Spark."
   ]
  },
  {
   "cell_type": "code",
   "execution_count": 15,
   "id": "2451d49d",
   "metadata": {},
   "outputs": [
    {
     "name": "stdout",
     "output_type": "stream",
     "text": [
      "+--------------------+---------+-----+\n",
      "|              sender|    value|  fee|\n",
      "+--------------------+---------+-----+\n",
      "|1Kd9zuLiJ5mbz6YD7...|303863558|10000|\n",
      "|3HXLZZQXMB1GAfDBu...|  2500000|34279|\n",
      "+--------------------+---------+-----+\n",
      "only showing top 2 rows\n",
      "\n"
     ]
    }
   ],
   "source": [
    "data_customer.show(2)"
   ]
  },
  {
   "cell_type": "markdown",
   "id": "4cf7989a",
   "metadata": {},
   "source": [
    "## Add feature: amount of transactions performed per sender (\"c\") into dataset"
   ]
  },
  {
   "cell_type": "code",
   "execution_count": 16,
   "id": "ba25074c",
   "metadata": {},
   "outputs": [],
   "source": [
    "from pyspark.sql import SQLContext\n",
    "sqlContext = SQLContext(spark)\n",
    "sqlContext.registerDataFrameAsTable(data_customer, \"table1\")\n",
    "df2 = sqlContext.sql(\" \\\n",
    "                     with counted_sender as (SELECT sender, count(*) as c \\\n",
    "                     from table1 group by sender) \\\n",
    "                     select table1.sender, avg(value) as avg_value, avg(fee) as avg_fee, c \\\n",
    "                     from table1 join counted_sender on table1.sender=counted_sender.sender \\\n",
    "                     group by table1.sender, c order by c desc\"\n",
    "                    )"
   ]
  },
  {
   "cell_type": "code",
   "execution_count": 17,
   "id": "22db890d",
   "metadata": {},
   "outputs": [],
   "source": [
    "# sender are filtered out, since they are hash values --> do not contain any structure\n",
    "inputCols=['avg_value', 'avg_fee', 'c']\n"
   ]
  },
  {
   "cell_type": "markdown",
   "id": "324476c9",
   "metadata": {},
   "source": [
    "## Perform Vector Assembler to put the features into suitable format for subsequent K-Means clustering and PCA executions.\n",
    "Note: Senders are filtered out, since these are hash values, i.e., categorical values, that do not contain any structure to be determined by Clustering + PCA"
   ]
  },
  {
   "cell_type": "code",
   "execution_count": 18,
   "id": "4a39b1d6",
   "metadata": {},
   "outputs": [
    {
     "name": "stdout",
     "output_type": "stream",
     "text": [
      "+--------------------+-------------------+------------------+----+--------------------+\n",
      "|              sender|          avg_value|           avg_fee|   c|            features|\n",
      "+--------------------+-------------------+------------------+----+--------------------+\n",
      "|1HckjUpRGcrrRAtFa...|  650002.0980861244|21588.272727272728|2090|[650002.098086124...|\n",
      "|3CD1QW6fjgTwKq3Pj...|3.201271881409797E8| 36915.72401433692| 837|[3.20127188140979...|\n",
      "+--------------------+-------------------+------------------+----+--------------------+\n",
      "only showing top 2 rows\n",
      "\n"
     ]
    }
   ],
   "source": [
    "from pyspark.ml.feature import VectorAssembler\n",
    "df2.columns\n",
    "assemble=VectorAssembler(inputCols=inputCols, outputCol='features')\n",
    "assembled_data=assemble.transform(df2)\n",
    "assembled_data.show(2)"
   ]
  },
  {
   "cell_type": "markdown",
   "id": "cfb57c99",
   "metadata": {},
   "source": [
    "## Standardise data (including mean-centring and scaling)"
   ]
  },
  {
   "cell_type": "code",
   "execution_count": 19,
   "id": "d7c559ea",
   "metadata": {},
   "outputs": [
    {
     "name": "stdout",
     "output_type": "stream",
     "text": [
      "+--------------------+-------------------+------------------+----+--------------------+--------------------+\n",
      "|              sender|          avg_value|           avg_fee|   c|            features|        standardized|\n",
      "+--------------------+-------------------+------------------+----+--------------------+--------------------+\n",
      "|1HckjUpRGcrrRAtFa...|  650002.0980861244|21588.272727272728|2090|[650002.098086124...|[-0.3551279501459...|\n",
      "|3CD1QW6fjgTwKq3Pj...|3.201271881409797E8| 36915.72401433692| 837|[3.20127188140979...|[0.74648380831663...|\n",
      "+--------------------+-------------------+------------------+----+--------------------+--------------------+\n",
      "only showing top 2 rows\n",
      "\n"
     ]
    }
   ],
   "source": [
    "from pyspark.ml.feature import StandardScaler\n",
    "scale=StandardScaler(inputCol='features',outputCol='standardized', withMean=True, withStd=True)\n",
    "data_scale=scale.fit(assembled_data)\n",
    "data_scale_output=data_scale.transform(assembled_data)\n",
    "data_scale_output.show(2)"
   ]
  },
  {
   "cell_type": "markdown",
   "id": "9f4ad189",
   "metadata": {},
   "source": [
    "## Perform PCA\n",
    "- 3 PCs to be created"
   ]
  },
  {
   "cell_type": "code",
   "execution_count": 20,
   "id": "9a654f9d",
   "metadata": {},
   "outputs": [],
   "source": [
    "from pyspark.ml.feature import PCA\n",
    "pca = PCA(k=3, inputCol=\"standardized\")\n",
    "pca.setOutputCol(\"pca_features\")\n",
    "model = pca.fit(data_scale_output)\n",
    "data_scale_output = model.transform(data_scale_output)"
   ]
  },
  {
   "cell_type": "code",
   "execution_count": 21,
   "id": "268afaf1",
   "metadata": {},
   "outputs": [
    {
     "name": "stdout",
     "output_type": "stream",
     "text": [
      "+--------------------+-------------------+------------------+----+--------------------+--------------------+--------------------+\n",
      "|              sender|          avg_value|           avg_fee|   c|            features|        standardized|        pca_features|\n",
      "+--------------------+-------------------+------------------+----+--------------------+--------------------+--------------------+\n",
      "|1HckjUpRGcrrRAtFa...|  650002.0980861244|21588.272727272728|2090|[650002.098086124...|[-0.3551279501459...|[-30.768739619402...|\n",
      "|3CD1QW6fjgTwKq3Pj...|3.201271881409797E8| 36915.72401433692| 837|[3.20127188140979...|[0.74648380831663...|[-13.158980603540...|\n",
      "+--------------------+-------------------+------------------+----+--------------------+--------------------+--------------------+\n",
      "only showing top 2 rows\n",
      "\n"
     ]
    }
   ],
   "source": [
    "data_scale_output.show(2)"
   ]
  },
  {
   "cell_type": "markdown",
   "id": "f735ed30",
   "metadata": {},
   "source": [
    "## Variance explained by the 3 PCs\n",
    "Order: PC1, PC2, PC3"
   ]
  },
  {
   "cell_type": "code",
   "execution_count": 22,
   "id": "d918c195",
   "metadata": {},
   "outputs": [
    {
     "data": {
      "text/plain": [
       "DenseVector([0.366, 0.3332, 0.3008])"
      ]
     },
     "execution_count": 22,
     "metadata": {},
     "output_type": "execute_result"
    }
   ],
   "source": [
    "model.explainedVariance"
   ]
  },
  {
   "cell_type": "markdown",
   "id": "258815ed",
   "metadata": {},
   "source": [
    "## Features explaining the PCs"
   ]
  },
  {
   "cell_type": "code",
   "execution_count": 24,
   "id": "6b38f463",
   "metadata": {},
   "outputs": [
    {
     "data": {
      "text/html": [
       "<div>\n",
       "<style scoped>\n",
       "    .dataframe tbody tr th:only-of-type {\n",
       "        vertical-align: middle;\n",
       "    }\n",
       "\n",
       "    .dataframe tbody tr th {\n",
       "        vertical-align: top;\n",
       "    }\n",
       "\n",
       "    .dataframe thead th {\n",
       "        text-align: right;\n",
       "    }\n",
       "</style>\n",
       "<table border=\"1\" class=\"dataframe\">\n",
       "  <thead>\n",
       "    <tr style=\"text-align: right;\">\n",
       "      <th></th>\n",
       "      <th>PC1</th>\n",
       "      <th>PC2</th>\n",
       "      <th>PC3</th>\n",
       "    </tr>\n",
       "  </thead>\n",
       "  <tbody>\n",
       "    <tr>\n",
       "      <th>avg_value</th>\n",
       "      <td>-0.7062</td>\n",
       "      <td>0.0228</td>\n",
       "      <td>0.7077</td>\n",
       "    </tr>\n",
       "    <tr>\n",
       "      <th>avg_fee</th>\n",
       "      <td>-0.7034</td>\n",
       "      <td>0.0912</td>\n",
       "      <td>-0.7049</td>\n",
       "    </tr>\n",
       "    <tr>\n",
       "      <th>c</th>\n",
       "      <td>-0.0806</td>\n",
       "      <td>-0.9956</td>\n",
       "      <td>-0.0484</td>\n",
       "    </tr>\n",
       "  </tbody>\n",
       "</table>\n",
       "</div>"
      ],
      "text/plain": [
       "              PC1     PC2     PC3\n",
       "avg_value -0.7062  0.0228  0.7077\n",
       "avg_fee   -0.7034  0.0912 -0.7049\n",
       "c         -0.0806 -0.9956 -0.0484"
      ]
     },
     "execution_count": 24,
     "metadata": {},
     "output_type": "execute_result"
    }
   ],
   "source": [
    "# PCs: each PC represents a \"cluster\" of sender and its behaviour\n",
    "import numpy as np\n",
    "import pandas as pd\n",
    "pcs = np.round(model.pc.toArray(),4)\n",
    "df_pc = pd.DataFrame(pcs, columns = ['PC'+str(i) for i in range(1, 4)], index = inputCols)\n",
    "df_pc"
   ]
  },
  {
   "cell_type": "markdown",
   "id": "547c77b8",
   "metadata": {},
   "source": [
    "## Perform K-Means clusterings while evaluating each of them\n",
    "- In order to find the ideal clustering, k-means was performed several times by each time selecting a different number of clusters (k) to be formed, and by each timeperforming a respective evaluation based on silhouette score.\n",
    "\n",
    "- The process lasted 6h 55min 29s"
   ]
  },
  {
   "cell_type": "code",
   "execution_count": 26,
   "id": "f086b098",
   "metadata": {},
   "outputs": [
    {
     "name": "stdout",
     "output_type": "stream",
     "text": [
      "Silhouette Score: 0.9011231062444063\n",
      "Silhouette Score: 0.9070474947049308\n",
      "Silhouette Score: 0.8291467515978218\n",
      "Silhouette Score: 0.790741024468153\n",
      "Silhouette Score: 0.7967967919585136\n",
      "Silhouette Score: 0.8171879363988079\n",
      "Silhouette Score: 0.8054802003119619\n",
      "Silhouette Score: 0.7987175762487098\n",
      "Wall time: 6h 55min 29s\n"
     ]
    }
   ],
   "source": [
    "%%time\n",
    "from pyspark.ml.clustering import KMeans\n",
    "from pyspark.ml.evaluation import ClusteringEvaluator\n",
    "silhouette_score=[]\n",
    "evaluator = ClusteringEvaluator(predictionCol='prediction', featuresCol='standardized', \\\n",
    "                                metricName='silhouette', distanceMeasure='squaredEuclidean')\n",
    "for i in range(2,10):\n",
    "    \n",
    "    KMeans_algo=KMeans(featuresCol='standardized', k=i, seed=1) # set seed\n",
    "    \n",
    "    KMeans_fit=KMeans_algo.fit(data_scale_output)\n",
    "    \n",
    "    output=KMeans_fit.transform(data_scale_output)\n",
    "    \n",
    "    \n",
    "    \n",
    "    score=evaluator.evaluate(output)\n",
    "    \n",
    "    silhouette_score.append(score)\n",
    "    \n",
    "    print(\"Silhouette Score:\",score)"
   ]
  },
  {
   "cell_type": "markdown",
   "id": "62b7d9cf",
   "metadata": {},
   "source": [
    "## The diagram below shows the silhouette score achieved by the different clusterings, with a different k chosen each time."
   ]
  },
  {
   "cell_type": "code",
   "execution_count": 27,
   "id": "60a407f8",
   "metadata": {},
   "outputs": [
    {
     "data": {
      "text/plain": [
       "Text(0, 0.5, 'silhouette score')"
      ]
     },
     "execution_count": 27,
     "metadata": {},
     "output_type": "execute_result"
    },
    {
     "data": {
      "image/png": "[encoded data removed]",
      "text/plain": [
       "<Figure size 576x432 with 1 Axes>"
      ]
     },
     "metadata": {
      "needs_background": "light"
     },
     "output_type": "display_data"
    }
   ],
   "source": [
    "#Visualizing the silhouette scores in a plot\n",
    "import matplotlib.pyplot as plt\n",
    "fig, ax = plt.subplots(1,1, figsize =(8,6))\n",
    "ax.plot(range(2,10),silhouette_score)\n",
    "ax.set_xlabel(\"k\")\n",
    "ax.set_ylabel(\"silhouette score\")"
   ]
  },
  {
   "cell_type": "markdown",
   "id": "b63e1127",
   "metadata": {},
   "source": [
    "## The optimal number of clusters (K) was chosen to be 4, and on this basis the data points in the dataset were assigned to the clusters.¶"
   ]
  },
  {
   "cell_type": "code",
   "execution_count": 28,
   "id": "be8eb067",
   "metadata": {},
   "outputs": [],
   "source": [
    "from pyspark.ml.evaluation import ClusteringEvaluator\n",
    "from pyspark.ml.clustering import KMeans\n",
    "\n",
    "# Trains a k-means model.\n",
    "kmeans = KMeans(featuresCol='standardized').setK(4).setSeed(1)\n",
    "model = kmeans.fit(data_scale_output)\n",
    "\n",
    "# Make predictions\n",
    "predictions = model.transform(data_scale_output)"
   ]
  },
  {
   "cell_type": "markdown",
   "id": "984fd760",
   "metadata": {},
   "source": [
    "## The data in Spark is fetched back into the Python environment using \"toPandas\" conversion. \n",
    "This is done to then create visualization on Python environment."
   ]
  },
  {
   "cell_type": "code",
   "execution_count": 30,
   "id": "ac0f4f31",
   "metadata": {},
   "outputs": [],
   "source": [
    "pandasDF=predictions.toPandas()"
   ]
  },
  {
   "cell_type": "markdown",
   "id": "761cf8c6",
   "metadata": {},
   "source": [
    "## Clustering results are visualised in a plot\n",
    "- Cluster assignments: according to k-means\n",
    "- Dataset: scaled data from above"
   ]
  },
  {
   "cell_type": "code",
   "execution_count": 35,
   "id": "5445b44c",
   "metadata": {},
   "outputs": [],
   "source": [
    "\n",
    "x = []\n",
    "y = []\n",
    "z = []\n",
    "for i, j, k in pandasDF[\"standardized\"].values:\n",
    "    x.append(i)\n",
    "    y.append(j)\n",
    "    z.append(k)"
   ]
  },
  {
   "cell_type": "code",
   "execution_count": 1,
   "id": "18ca11e6",
   "metadata": {},
   "outputs": [
    {
     "ename": "NameError",
     "evalue": "name 'x' is not defined",
     "output_type": "error",
     "traceback": [
      "\u001b[1;31m---------------------------------------------------------------------------\u001b[0m",
      "\u001b[1;31mNameError\u001b[0m                                 Traceback (most recent call last)",
      "\u001b[1;32m<ipython-input-1-6fc99f9c8071>\u001b[0m in \u001b[0;36m<module>\u001b[1;34m\u001b[0m\n\u001b[0;32m      4\u001b[0m \u001b[1;32mfrom\u001b[0m \u001b[0mmatplotlib\u001b[0m \u001b[1;32mimport\u001b[0m \u001b[0mpyplot\u001b[0m\u001b[1;33m\u001b[0m\u001b[1;33m\u001b[0m\u001b[0m\n\u001b[0;32m      5\u001b[0m \u001b[1;32mfrom\u001b[0m \u001b[0mmpl_toolkits\u001b[0m\u001b[1;33m.\u001b[0m\u001b[0mmplot3d\u001b[0m \u001b[1;32mimport\u001b[0m \u001b[0mAxes3D\u001b[0m\u001b[1;33m\u001b[0m\u001b[1;33m\u001b[0m\u001b[0m\n\u001b[1;32m----> 6\u001b[1;33m \u001b[0mscatter_x\u001b[0m \u001b[1;33m=\u001b[0m \u001b[0mnp\u001b[0m\u001b[1;33m.\u001b[0m\u001b[0marray\u001b[0m\u001b[1;33m(\u001b[0m\u001b[0mx\u001b[0m\u001b[1;33m)\u001b[0m \u001b[1;31m# scaled feature data avg_value\u001b[0m\u001b[1;33m\u001b[0m\u001b[1;33m\u001b[0m\u001b[0m\n\u001b[0m\u001b[0;32m      7\u001b[0m \u001b[0mscatter_y\u001b[0m \u001b[1;33m=\u001b[0m \u001b[0mnp\u001b[0m\u001b[1;33m.\u001b[0m\u001b[0marray\u001b[0m\u001b[1;33m(\u001b[0m\u001b[0my\u001b[0m\u001b[1;33m)\u001b[0m \u001b[1;31m# scaled feature data avg_fee\u001b[0m\u001b[1;33m\u001b[0m\u001b[1;33m\u001b[0m\u001b[0m\n\u001b[0;32m      8\u001b[0m \u001b[0mscatter_z\u001b[0m \u001b[1;33m=\u001b[0m \u001b[0mnp\u001b[0m\u001b[1;33m.\u001b[0m\u001b[0marray\u001b[0m\u001b[1;33m(\u001b[0m\u001b[0mz\u001b[0m\u001b[1;33m)\u001b[0m \u001b[1;31m# scaled feature data count\u001b[0m\u001b[1;33m\u001b[0m\u001b[1;33m\u001b[0m\u001b[0m\n",
      "\u001b[1;31mNameError\u001b[0m: name 'x' is not defined"
     ]
    }
   ],
   "source": [
    "import matplotlib.pyplot as plt\n",
    "\n",
    "import numpy as np\n",
    "from matplotlib import pyplot\n",
    "from mpl_toolkits.mplot3d import Axes3D\n",
    "scatter_x = np.array(x) # scaled feature data avg_value\n",
    "scatter_y = np.array(y) # scaled feature data avg_fee\n",
    "scatter_z = np.array(z) # scaled feature data count\n",
    "group = np.array(pandasDF['prediction'])\n",
    "\n",
    "cdict = {0: 'red', 1: 'blue', 2: 'green', 3: 'orange'}\n",
    "fig = pyplot.figure()\n",
    "ax = Axes3D(fig)\n",
    "for g in np.unique(group):\n",
    "    ix = np.where(group == g)\n",
    "    ax.scatter(scatter_x[ix], scatter_y[ix], scatter_z[ix], c = cdict[g], label = g+1)\n",
    "ax.legend()\n",
    "plt.xlabel(\"avg_value\")\n",
    "plt.ylabel(\"avg_fee\")\n",
    "ax.set_zlabel(\"count\")\n",
    "plt.show()\n"
   ]
  },
  {
   "cell_type": "code",
   "execution_count": null,
   "id": "8fc0386b",
   "metadata": {},
   "outputs": [],
   "source": []
  }
 ],
 "metadata": {
  "kernelspec": {
   "display_name": "Python 3",
   "language": "python",
   "name": "python3"
  },
  "language_info": {
   "codemirror_mode": {
    "name": "ipython",
    "version": 3
   },
   "file_extension": ".py",
   "mimetype": "text/x-python",
   "name": "python",
   "nbconvert_exporter": "python",
   "pygments_lexer": "ipython3",
   "version": "3.8.8"
  }
 },
 "nbformat": 4,
 "nbformat_minor": 5
}
