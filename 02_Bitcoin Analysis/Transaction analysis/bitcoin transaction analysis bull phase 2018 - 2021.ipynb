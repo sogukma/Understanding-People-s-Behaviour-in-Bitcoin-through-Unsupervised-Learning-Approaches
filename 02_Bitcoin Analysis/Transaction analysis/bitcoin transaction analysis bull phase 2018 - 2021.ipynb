{
 "cells": [
  {
   "cell_type": "markdown",
   "id": "004fc1b7",
   "metadata": {},
   "source": [
    "# Bitcoin Transaction Analysis - Bull Phase in 2018 - 2021\n",
    "- by Malik Sogukoglu"
   ]
  },
  {
   "cell_type": "markdown",
   "id": "c401b49a",
   "metadata": {},
   "source": [
    "## References\n",
    "- Inspiration for Workflow structure: \n",
    " - https://www.bmc.com/blogs/python-spark-k-means-example/\n",
    " - https://www.kaggle.com/statsfromarg/btc-data-exploratory-analysis-with-txn\n",
    "- K-means clustering in Spark\n",
    " - https://spark.apache.org/docs/latest/ml-clustering.html\n",
    " - https://towardsdatascience.com/k-means-clustering-using-pyspark-on-big-data-6214beacdc8b\n",
    "- Sampling:\n",
    " - https://stackoverflow.com/questions/24806084/sampling-a-large-distributed-data-set-using-pyspark-spark\n",
    "- Filter pushdown: \n",
    " - https://engineering.dynatrace.com/blog/optimizing-spark-queries-with-filter-pushdown/\n",
    " - https://towardsdatascience.com/predicate-vs-projection-pushdown-in-spark-3-ac24c4d11855\n",
    "- Read data: \n",
    " - Reading several files: https://stackoverflow.com/questions/49898742/pandas-reading-csv-files-with-partial-wildcard\n",
    " - Correct processing of the date value as part of filtering (1): https://stackoverflow.com/questions/19480028/attributeerror-datetime-module-has-no-attribute-strptime \n",
    " - Correct processing of the date value as part of filtering(2) :https://stackoverflow.com/questions/19801727/convert-datetime-to-unix-timestamp-and-convert-it-back-in-python\n",
    "- In-memory data processing:\n",
    " - https://phoenixnap.com/kb/hadoop-vs-spark \n",
    "- Disable infer schema\n",
    " - https://stackoverflow.com/questions/56927329/spark-option-inferschema-vs-header-true/56933052"
   ]
  },
  {
   "cell_type": "markdown",
   "id": "25ff2082",
   "metadata": {},
   "source": [
    "## Set up environment"
   ]
  },
  {
   "cell_type": "code",
   "execution_count": 1,
   "id": "5a90213b",
   "metadata": {},
   "outputs": [
    {
     "name": "stdout",
     "output_type": "stream",
     "text": [
      "Requirement already satisfied: pyspark in c:\\users\\enginesadmin\\anaconda3\\lib\\site-packages (3.1.2)\n",
      "Requirement already satisfied: py4j==0.10.9 in c:\\users\\enginesadmin\\anaconda3\\lib\\site-packages (from pyspark) (0.10.9)\n"
     ]
    }
   ],
   "source": [
    "!pip install pyspark\n",
    "\n"
   ]
  },
  {
   "cell_type": "code",
   "execution_count": 1,
   "id": "c7bc52d7",
   "metadata": {},
   "outputs": [],
   "source": [
    "from pyspark.sql import SparkSession\n"
   ]
  },
  {
   "cell_type": "code",
   "execution_count": 2,
   "id": "a28e4001",
   "metadata": {},
   "outputs": [],
   "source": [
    "import glob"
   ]
  },
  {
   "cell_type": "code",
   "execution_count": 4,
   "id": "59e03481",
   "metadata": {},
   "outputs": [],
   "source": [
    "from pyspark.sql.types import StructType,StructField, StringType, IntegerType, TimestampType"
   ]
  },
  {
   "cell_type": "code",
   "execution_count": 5,
   "id": "785d5da9",
   "metadata": {},
   "outputs": [],
   "source": [
    "from pyspark.sql import functions as F"
   ]
  },
  {
   "cell_type": "markdown",
   "id": "1de24807",
   "metadata": {},
   "source": [
    "## Define data schema"
   ]
  },
  {
   "cell_type": "code",
   "execution_count": 6,
   "id": "714d69f4",
   "metadata": {},
   "outputs": [],
   "source": [
    "schema = StructType([ \\\n",
    "    StructField(\"value\",IntegerType(),True), \\\n",
    "    StructField(\"fee\",IntegerType(),True), \\\n",
    "    StructField(\"timestamp_in_unix_seconds\",IntegerType(),True), \\\n",
    "  ])"
   ]
  },
  {
   "cell_type": "markdown",
   "id": "6d546342",
   "metadata": {},
   "source": [
    "## Set configurations\n",
    "- Amount of **executors is set to 4**, enabling **parallel processing**\n",
    "- **Executors** are allocated with **8GB RAM**\n",
    "- **Spark driver** is allocated with **16GB RAM**\n",
    "- **Filter pushdown** is enabled, to prevent not requested data to be loaded into memory"
   ]
  },
  {
   "cell_type": "code",
   "execution_count": 7,
   "id": "55c75d96",
   "metadata": {},
   "outputs": [],
   "source": [
    "from pyspark.conf import SparkConf\n",
    "\n",
    "config = SparkConf().setAll([ \\\n",
    "    ('spark.executor.memory', '8g'), \\\n",
    "    ('spark.executor.instances', '4'), \\\n",
    "    ('spark.driver.memory','16g'), \\\n",
    "    (\"spark.sql.parquet.filterPushdown\", \"true\"), \\\n",
    "    (\"spark.hadoop.parquet.filter.stats.enabled\", \"true\"), \\\n",
    "    (\"spark.sql.optimizer.nestedSchemaPruning.enabled\", \"true\"), \\\n",
    "    (\"spark.sql.optimizer.dynamicPartitionPruning.enabled\", \"true\") ])"
   ]
  },
  {
   "cell_type": "markdown",
   "id": "483f4cfa",
   "metadata": {},
   "source": [
    "## Open Spark session"
   ]
  },
  {
   "cell_type": "code",
   "execution_count": 8,
   "id": "dee7dced",
   "metadata": {},
   "outputs": [
    {
     "name": "stdout",
     "output_type": "stream",
     "text": [
      "<pyspark.conf.SparkConf object at 0x0000023103DB6760>\n",
      "local\n",
      "Clustering using K-Means\n"
     ]
    }
   ],
   "source": [
    "print(config.setMaster(\"local\").setAppName(\"Clustering using K-Means\"))\n",
    "\n",
    "print(config.get(\"spark.master\"))\n",
    "\n",
    "print(config.get(\"spark.app.name\"))\n"
   ]
  },
  {
   "cell_type": "code",
   "execution_count": 9,
   "id": "830a0d7e",
   "metadata": {},
   "outputs": [],
   "source": [
    "import time\n",
    "\n",
    "from datetime import datetime\n",
    "spark = SparkSession.builder.appName(\"Clustering using K-Means\") \\\n",
    "    .config(conf=config) \\\n",
    "    .getOrCreate() \\\n",
    "#    .option(\"failOnDataLoss\", False)\n",
    "#spark"
   ]
  },
  {
   "cell_type": "code",
   "execution_count": 10,
   "id": "b0a5cbed",
   "metadata": {},
   "outputs": [
    {
     "data": {
      "text/html": [
       "\n",
       "            <div>\n",
       "                <p><b>SparkSession - in-memory</b></p>\n",
       "                \n",
       "        <div>\n",
       "            <p><b>SparkContext</b></p>\n",
       "\n",
       "            <p><a href=\"http://10.0.7.40:4045\">Spark UI</a></p>\n",
       "\n",
       "            <dl>\n",
       "              <dt>Version</dt>\n",
       "                <dd><code>v3.1.2</code></dd>\n",
       "              <dt>Master</dt>\n",
       "                <dd><code>local</code></dd>\n",
       "              <dt>AppName</dt>\n",
       "                <dd><code>Clustering using K-Means</code></dd>\n",
       "            </dl>\n",
       "        </div>\n",
       "        \n",
       "            </div>\n",
       "        "
      ],
      "text/plain": [
       "<pyspark.sql.session.SparkSession at 0x23103f29880>"
      ]
     },
     "execution_count": 10,
     "metadata": {},
     "output_type": "execute_result"
    }
   ],
   "source": [
    "spark"
   ]
  },
  {
   "cell_type": "markdown",
   "id": "a715fb32",
   "metadata": {},
   "source": [
    "### Check applied configurations"
   ]
  },
  {
   "cell_type": "code",
   "execution_count": 11,
   "id": "0bd9f22c",
   "metadata": {},
   "outputs": [
    {
     "data": {
      "text/plain": [
       "[('spark.master', 'local'),\n",
       " ('spark.executor.instances', '4'),\n",
       " ('spark.sql.parquet.filterPushdown', 'true'),\n",
       " ('spark.driver.port', '51693'),\n",
       " ('spark.executor.id', 'driver'),\n",
       " ('spark.sql.optimizer.dynamicPartitionPruning.enabled', 'true'),\n",
       " ('spark.driver.memory', '16g'),\n",
       " ('spark.app.id', 'local-1637776697631'),\n",
       " ('spark.sql.optimizer.nestedSchemaPruning.enabled', 'true'),\n",
       " ('spark.sql.warehouse.dir', 'file:/D:/Bitcoin%20analysis/spark-warehouse'),\n",
       " ('spark.rdd.compress', 'True'),\n",
       " ('spark.serializer.objectStreamReset', '100'),\n",
       " ('spark.executor.memory', '8g'),\n",
       " ('spark.submit.pyFiles', ''),\n",
       " ('spark.submit.deployMode', 'client'),\n",
       " ('spark.hadoop.parquet.filter.stats.enabled', 'true'),\n",
       " ('spark.app.startTime', '1637776694600'),\n",
       " ('spark.ui.showConsoleProgress', 'true'),\n",
       " ('spark.app.name', 'Clustering using K-Means'),\n",
       " ('spark.driver.host', '10.0.7.40')]"
      ]
     },
     "execution_count": 11,
     "metadata": {},
     "output_type": "execute_result"
    }
   ],
   "source": [
    "spark.sparkContext.getConf().getAll()"
   ]
  },
  {
   "cell_type": "markdown",
   "id": "7ed82d2e",
   "metadata": {},
   "source": [
    "## Indicate data to be read"
   ]
  },
  {
   "cell_type": "code",
   "execution_count": 12,
   "id": "3d953167",
   "metadata": {},
   "outputs": [
    {
     "data": {
      "text/plain": [
       "['D:\\\\Downloads\\\\bitcoin_data_filtered\\\\bitcoin000000000000',\n",
       " 'D:\\\\Downloads\\\\bitcoin_data_filtered\\\\bitcoin000000000001',\n",
       " 'D:\\\\Downloads\\\\bitcoin_data_filtered\\\\bitcoin000000000002',\n",
       " 'D:\\\\Downloads\\\\bitcoin_data_filtered\\\\bitcoin000000000003',\n",
       " 'D:\\\\Downloads\\\\bitcoin_data_filtered\\\\bitcoin000000000004',\n",
       " 'D:\\\\Downloads\\\\bitcoin_data_filtered\\\\bitcoin000000000005',\n",
       " 'D:\\\\Downloads\\\\bitcoin_data_filtered\\\\bitcoin000000000006',\n",
       " 'D:\\\\Downloads\\\\bitcoin_data_filtered\\\\bitcoin000000000007',\n",
       " 'D:\\\\Downloads\\\\bitcoin_data_filtered\\\\bitcoin000000000008',\n",
       " 'D:\\\\Downloads\\\\bitcoin_data_filtered\\\\bitcoin000000000009',\n",
       " 'D:\\\\Downloads\\\\bitcoin_data_filtered\\\\bitcoin000000000010',\n",
       " 'D:\\\\Downloads\\\\bitcoin_data_filtered\\\\bitcoin000000000011',\n",
       " 'D:\\\\Downloads\\\\bitcoin_data_filtered\\\\bitcoin000000000012',\n",
       " 'D:\\\\Downloads\\\\bitcoin_data_filtered\\\\bitcoin000000000013',\n",
       " 'D:\\\\Downloads\\\\bitcoin_data_filtered\\\\bitcoin000000000014',\n",
       " 'D:\\\\Downloads\\\\bitcoin_data_filtered\\\\bitcoin000000000015',\n",
       " 'D:\\\\Downloads\\\\bitcoin_data_filtered\\\\bitcoin000000000016',\n",
       " 'D:\\\\Downloads\\\\bitcoin_data_filtered\\\\bitcoin000000000017',\n",
       " 'D:\\\\Downloads\\\\bitcoin_data_filtered\\\\bitcoin000000000018',\n",
       " 'D:\\\\Downloads\\\\bitcoin_data_filtered\\\\bitcoin000000000019',\n",
       " 'D:\\\\Downloads\\\\bitcoin_data_filtered\\\\bitcoin000000000020',\n",
       " 'D:\\\\Downloads\\\\bitcoin_data_filtered\\\\bitcoin000000000021',\n",
       " 'D:\\\\Downloads\\\\bitcoin_data_filtered\\\\bitcoin000000000022',\n",
       " 'D:\\\\Downloads\\\\bitcoin_data_filtered\\\\bitcoin000000000023',\n",
       " 'D:\\\\Downloads\\\\bitcoin_data_filtered\\\\bitcoin000000000024',\n",
       " 'D:\\\\Downloads\\\\bitcoin_data_filtered\\\\bitcoin000000000025',\n",
       " 'D:\\\\Downloads\\\\bitcoin_data_filtered\\\\bitcoin000000000026',\n",
       " 'D:\\\\Downloads\\\\bitcoin_data_filtered\\\\bitcoin000000000027',\n",
       " 'D:\\\\Downloads\\\\bitcoin_data_filtered\\\\bitcoin000000000028',\n",
       " 'D:\\\\Downloads\\\\bitcoin_data_filtered\\\\bitcoin000000000029',\n",
       " 'D:\\\\Downloads\\\\bitcoin_data_filtered\\\\bitcoin000000000030',\n",
       " 'D:\\\\Downloads\\\\bitcoin_data_filtered\\\\bitcoin000000000031',\n",
       " 'D:\\\\Downloads\\\\bitcoin_data_filtered\\\\bitcoin000000000032',\n",
       " 'D:\\\\Downloads\\\\bitcoin_data_filtered\\\\bitcoin000000000033',\n",
       " 'D:\\\\Downloads\\\\bitcoin_data_filtered\\\\bitcoin000000000034',\n",
       " 'D:\\\\Downloads\\\\bitcoin_data_filtered\\\\bitcoin000000000035',\n",
       " 'D:\\\\Downloads\\\\bitcoin_data_filtered\\\\bitcoin000000000036',\n",
       " 'D:\\\\Downloads\\\\bitcoin_data_filtered\\\\bitcoin000000000037',\n",
       " 'D:\\\\Downloads\\\\bitcoin_data_filtered\\\\bitcoin000000000038',\n",
       " 'D:\\\\Downloads\\\\bitcoin_data_filtered\\\\bitcoin000000000039',\n",
       " 'D:\\\\Downloads\\\\bitcoin_data_filtered\\\\bitcoin000000000040',\n",
       " 'D:\\\\Downloads\\\\bitcoin_data_filtered\\\\bitcoin000000000041',\n",
       " 'D:\\\\Downloads\\\\bitcoin_data_filtered\\\\bitcoin000000000042',\n",
       " 'D:\\\\Downloads\\\\bitcoin_data_filtered\\\\bitcoin000000000043',\n",
       " 'D:\\\\Downloads\\\\bitcoin_data_filtered\\\\bitcoin000000000044',\n",
       " 'D:\\\\Downloads\\\\bitcoin_data_filtered\\\\bitcoin000000000045',\n",
       " 'D:\\\\Downloads\\\\bitcoin_data_filtered\\\\bitcoin000000000046',\n",
       " 'D:\\\\Downloads\\\\bitcoin_data_filtered\\\\bitcoin000000000047',\n",
       " 'D:\\\\Downloads\\\\bitcoin_data_filtered\\\\bitcoin000000000048',\n",
       " 'D:\\\\Downloads\\\\bitcoin_data_filtered\\\\bitcoin000000000049',\n",
       " 'D:\\\\Downloads\\\\bitcoin_data_filtered\\\\bitcoin000000000050',\n",
       " 'D:\\\\Downloads\\\\bitcoin_data_filtered\\\\bitcoin000000000051',\n",
       " 'D:\\\\Downloads\\\\bitcoin_data_filtered\\\\bitcoin000000000052',\n",
       " 'D:\\\\Downloads\\\\bitcoin_data_filtered\\\\bitcoin000000000053',\n",
       " 'D:\\\\Downloads\\\\bitcoin_data_filtered\\\\bitcoin000000000054',\n",
       " 'D:\\\\Downloads\\\\bitcoin_data_filtered\\\\bitcoin000000000055',\n",
       " 'D:\\\\Downloads\\\\bitcoin_data_filtered\\\\bitcoin000000000056',\n",
       " 'D:\\\\Downloads\\\\bitcoin_data_filtered\\\\bitcoin000000000057',\n",
       " 'D:\\\\Downloads\\\\bitcoin_data_filtered\\\\bitcoin000000000058',\n",
       " 'D:\\\\Downloads\\\\bitcoin_data_filtered\\\\bitcoin000000000059',\n",
       " 'D:\\\\Downloads\\\\bitcoin_data_filtered\\\\bitcoin000000000060',\n",
       " 'D:\\\\Downloads\\\\bitcoin_data_filtered\\\\bitcoin000000000061',\n",
       " 'D:\\\\Downloads\\\\bitcoin_data_filtered\\\\bitcoin000000000062',\n",
       " 'D:\\\\Downloads\\\\bitcoin_data_filtered\\\\bitcoin000000000063',\n",
       " 'D:\\\\Downloads\\\\bitcoin_data_filtered\\\\bitcoin000000000064',\n",
       " 'D:\\\\Downloads\\\\bitcoin_data_filtered\\\\bitcoin000000000065',\n",
       " 'D:\\\\Downloads\\\\bitcoin_data_filtered\\\\bitcoin000000000066',\n",
       " 'D:\\\\Downloads\\\\bitcoin_data_filtered\\\\bitcoin000000000067']"
      ]
     },
     "execution_count": 12,
     "metadata": {},
     "output_type": "execute_result"
    }
   ],
   "source": [
    "import glob\n",
    "import os\n",
    "BITCOIN_PATHS = sorted(glob.glob(os.path.join(\"D:\\\\Downloads\\\\bitcoin_data_filtered\\\\\", \"*\")))\n",
    "BITCOIN_PATHS"
   ]
  },
  {
   "cell_type": "markdown",
   "id": "e204508a",
   "metadata": {},
   "source": [
    "## Load Bitcoin data into Spark\n",
    "- Select the columns **Value** and **Fee**.\n",
    "- Filter by timestamp (**timestamp_in_unix_time**).\n",
    "- Load data into cache (with persist()) to avoid having to reload data for different analyses"
   ]
  },
  {
   "cell_type": "code",
   "execution_count": 13,
   "id": "cc1c00ab",
   "metadata": {},
   "outputs": [
    {
     "name": "stdout",
     "output_type": "stream",
     "text": [
      "root\n",
      " |-- value: integer (nullable = true)\n",
      " |-- fee: integer (nullable = true)\n",
      "\n"
     ]
    }
   ],
   "source": [
    "\n",
    "data_customer=spark.read.csv(BITCOIN_PATHS, header=True, schema=schema) \\\n",
    "    .select(\"value\",\"fee\") \\\n",
    "    .filter((F.col('timestamp_in_unix_seconds') >= int(time.mktime(datetime.strptime('2018-12-16', '%Y-%m-%d').timetuple()))) & (F.col('timestamp_in_unix_seconds') <= int(time.mktime(datetime.strptime('2021-04-13', '%Y-%m-%d').timetuple())))) \\\n",
    "    .persist()\n",
    "data_customer.printSchema()"
   ]
  },
  {
   "cell_type": "markdown",
   "id": "74bd48b4",
   "metadata": {},
   "source": [
    "## Show explanation of data loading plan\n",
    "Here, Spark shows how it will approach the data loading process, defined above"
   ]
  },
  {
   "cell_type": "code",
   "execution_count": 14,
   "id": "e444ee76",
   "metadata": {},
   "outputs": [
    {
     "name": "stdout",
     "output_type": "stream",
     "text": [
      "== Physical Plan ==\n",
      "*(1) ColumnarToRow\n",
      "+- InMemoryTableScan [value#0, fee#1]\n",
      "      +- InMemoryRelation [value#0, fee#1], StorageLevel(disk, memory, deserialized, 1 replicas)\n",
      "            +- *(1) Project [value#0, fee#1]\n",
      "               +- *(1) Filter ((isnotnull(timestamp_in_unix_seconds#2) AND (timestamp_in_unix_seconds#2 >= 1544914800)) AND (timestamp_in_unix_seconds#2 <= 1618264800))\n",
      "                  +- FileScan csv [value#0,fee#1,timestamp_in_unix_seconds#2] Batched: false, DataFilters: [isnotnull(timestamp_in_unix_seconds#2), (timestamp_in_unix_seconds#2 >= 1544914800), (timestamp_..., Format: CSV, Location: InMemoryFileIndex[file:/D:/Downloads/bitcoin_data_filtered/bitcoin000000000000, file:/D:/Download..., PartitionFilters: [], PushedFilters: [IsNotNull(timestamp_in_unix_seconds), GreaterThanOrEqual(timestamp_in_unix_seconds,1544914800), ..., ReadSchema: struct<value:int,fee:int,timestamp_in_unix_seconds:int>\n",
      "\n",
      "\n"
     ]
    }
   ],
   "source": [
    "data_customer.explain()"
   ]
  },
  {
   "cell_type": "markdown",
   "id": "90824abe",
   "metadata": {},
   "source": [
    "### Discard NAs"
   ]
  },
  {
   "cell_type": "code",
   "execution_count": 15,
   "id": "ad877c30",
   "metadata": {},
   "outputs": [],
   "source": [
    "data_customer=data_customer.na.drop()"
   ]
  },
  {
   "cell_type": "markdown",
   "id": "6a574043",
   "metadata": {},
   "source": [
    "### Reshuffle +  Sample data with **factor 0.0001**"
   ]
  },
  {
   "cell_type": "code",
   "execution_count": 17,
   "id": "051c4c66",
   "metadata": {},
   "outputs": [],
   "source": [
    "data_customer = data_customer.sample(False,0.0001,1234)"
   ]
  },
  {
   "cell_type": "markdown",
   "id": "e62c8a0d",
   "metadata": {},
   "source": [
    "## Perform Vector Assembler to put the features into suitable format for subsequent K-Means clustering"
   ]
  },
  {
   "cell_type": "code",
   "execution_count": 18,
   "id": "ced637ef",
   "metadata": {},
   "outputs": [],
   "source": [
    "inputCols=[ 'value', 'fee']"
   ]
  },
  {
   "cell_type": "code",
   "execution_count": 19,
   "id": "4a39b1d6",
   "metadata": {},
   "outputs": [
    {
     "name": "stdout",
     "output_type": "stream",
     "text": [
      "+--------+-----+--------------------+\n",
      "|   value|  fee|            features|\n",
      "+--------+-----+--------------------+\n",
      "| 5756560| 2350|  [5756560.0,2350.0]|\n",
      "|25624323|11234|[2.5624323E7,1123...|\n",
      "+--------+-----+--------------------+\n",
      "only showing top 2 rows\n",
      "\n"
     ]
    }
   ],
   "source": [
    "from pyspark.ml.feature import VectorAssembler\n",
    "data_customer.columns\n",
    "assemble=VectorAssembler(inputCols=[ 'value', 'fee'], outputCol='features')\n",
    "assembled_data=assemble.transform(data_customer)\n",
    "assembled_data.show(2)"
   ]
  },
  {
   "cell_type": "markdown",
   "id": "c6979652",
   "metadata": {},
   "source": [
    "## Standardise data (including mean-centring and scaling)"
   ]
  },
  {
   "cell_type": "code",
   "execution_count": 20,
   "id": "d7c559ea",
   "metadata": {},
   "outputs": [
    {
     "name": "stdout",
     "output_type": "stream",
     "text": [
      "+--------+-----+--------------------+--------------------+\n",
      "|   value|  fee|            features|        standardized|\n",
      "+--------+-----+--------------------+--------------------+\n",
      "| 5756560| 2350|  [5756560.0,2350.0]|[-0.2914582798450...|\n",
      "|25624323|11234|[2.5624323E7,1123...|[-0.2102908642003...|\n",
      "+--------+-----+--------------------+--------------------+\n",
      "only showing top 2 rows\n",
      "\n"
     ]
    }
   ],
   "source": [
    "from pyspark.ml.feature import StandardScaler\n",
    "scale=StandardScaler(inputCol='features',outputCol='standardized', withMean=True, withStd=True)\n",
    "data_scale=scale.fit(assembled_data)\n",
    "data_scale_output=data_scale.transform(assembled_data)\n",
    "data_scale_output.show(2)"
   ]
  },
  {
   "cell_type": "markdown",
   "id": "ed84dd86",
   "metadata": {},
   "source": [
    "## Perform K-Means clusterings while evaluating each of them\n",
    "- In order to find the ideal clustering, k-means was performed several times by each time selecting a different number of clusters (k) to be formed, and by each time performing a respective evaluation based on silhouette score.\n",
    "\n",
    "- The process lasted 19min 28s"
   ]
  },
  {
   "cell_type": "code",
   "execution_count": 24,
   "id": "f086b098",
   "metadata": {},
   "outputs": [
    {
     "name": "stdout",
     "output_type": "stream",
     "text": [
      "Silhouette Score: 0.9381982044640379\n",
      "Silhouette Score: 0.9598415138509937\n",
      "Silhouette Score: 0.9153493616493976\n",
      "Silhouette Score: 0.9317376734936202\n",
      "Silhouette Score: 0.926663078003905\n",
      "Silhouette Score: 0.9385952276011137\n",
      "Silhouette Score: 0.8972180998070991\n",
      "Silhouette Score: 0.8867098493963451\n",
      "Wall time: 19min 28s\n"
     ]
    }
   ],
   "source": [
    "%%time\n",
    "from pyspark.ml.clustering import KMeans\n",
    "from pyspark.ml.evaluation import ClusteringEvaluator\n",
    "silhouette_score=[]\n",
    "evaluator = ClusteringEvaluator(predictionCol='prediction', featuresCol='standardized', \\\n",
    "                                metricName='silhouette', distanceMeasure='squaredEuclidean')\n",
    "for i in range(2,10):\n",
    "    \n",
    "    KMeans_algo=KMeans(featuresCol='standardized', k=i, seed=1) # set seed\n",
    "    \n",
    "    KMeans_fit=KMeans_algo.fit(data_scale_output)\n",
    "    \n",
    "    output=KMeans_fit.transform(data_scale_output)\n",
    "    \n",
    "    \n",
    "    \n",
    "    score=evaluator.evaluate(output)\n",
    "    \n",
    "    silhouette_score.append(score)\n",
    "    \n",
    "    print(\"Silhouette Score:\",score)"
   ]
  },
  {
   "cell_type": "markdown",
   "id": "be810a8d",
   "metadata": {},
   "source": [
    "## The diagram below shows the silhouette score achieved by the different clusterings, with a different k chosen each time."
   ]
  },
  {
   "cell_type": "code",
   "execution_count": 26,
   "id": "60a407f8",
   "metadata": {},
   "outputs": [
    {
     "data": {
      "text/plain": [
       "Text(0, 0.5, 'silhouette score')"
      ]
     },
     "execution_count": 26,
     "metadata": {},
     "output_type": "execute_result"
    },
    {
     "data": {
      "image/png": "[encoded data removed]",
      "text/plain": [
       "<Figure size 576x432 with 1 Axes>"
      ]
     },
     "metadata": {
      "needs_background": "light"
     },
     "output_type": "display_data"
    }
   ],
   "source": [
    "#Visualizing the silhouette scores in a plot\n",
    "import matplotlib.pyplot as plt\n",
    "fig, ax = plt.subplots(1,1, figsize =(8,6))\n",
    "ax.plot(range(2,10),silhouette_score)\n",
    "ax.set_xlabel(\"k\")\n",
    "ax.set_ylabel(\"silhouette score\")"
   ]
  },
  {
   "cell_type": "markdown",
   "id": "02fdffc2",
   "metadata": {},
   "source": [
    "## The optimal number of clusters (K) was chosen to be 4, and on this basis the data points in the dataset were assigned to the clusters.¶"
   ]
  },
  {
   "cell_type": "code",
   "execution_count": 21,
   "id": "be8eb067",
   "metadata": {},
   "outputs": [
    {
     "name": "stdout",
     "output_type": "stream",
     "text": [
      "Silhouette with squared euclidean distance = 0.9436336572675199\n"
     ]
    }
   ],
   "source": [
    "from pyspark.ml.evaluation import ClusteringEvaluator\n",
    "from pyspark.ml.clustering import KMeans\n",
    "\n",
    "# Trains a k-means model.\n",
    "kmeans = KMeans(featuresCol='standardized').setK(4).setSeed(1)\n",
    "model = kmeans.fit(data_scale_output)\n",
    "\n",
    "# Make predictions\n",
    "predictions = model.transform(data_scale_output)\n"
   ]
  },
  {
   "cell_type": "markdown",
   "id": "3f3e8770",
   "metadata": {},
   "source": [
    "## The data in Spark is fetched back into the Python environment using \"toPandas\" conversion. \n",
    "This is done to then create visualisation on Python environment."
   ]
  },
  {
   "cell_type": "code",
   "execution_count": 22,
   "id": "ac0f4f31",
   "metadata": {},
   "outputs": [],
   "source": [
    "pandasDF=predictions.toPandas()"
   ]
  },
  {
   "cell_type": "markdown",
   "id": "97074c62",
   "metadata": {},
   "source": [
    "## Clustering results are visualised in a plot\n",
    "- Cluster assignments: according to k-means\n",
    "- Dataset: scaled data from above"
   ]
  },
  {
   "cell_type": "code",
   "execution_count": 23,
   "id": "5445b44c",
   "metadata": {},
   "outputs": [],
   "source": [
    "# bring scaled values(value, fee) into list\n",
    "x = [] # scaled feature: value\n",
    "y = [] # scaled feature: fee\n",
    "for i, j in pandasDF[\"standardized\"].values:\n",
    "    x.append(i)\n",
    "    y.append(j)"
   ]
  },
  {
   "cell_type": "code",
   "execution_count": 24,
   "id": "d3430dfd",
   "metadata": {},
   "outputs": [
    {
     "data": {
      "image/png": "[encoded data removed]",
      "text/plain": [
       "<Figure size 432x288 with 1 Axes>"
      ]
     },
     "metadata": {
      "needs_background": "light"
     },
     "output_type": "display_data"
    }
   ],
   "source": [
    "import matplotlib.pyplot as plt\n",
    "\n",
    "import numpy as np\n",
    "scatter_x = np.array(x) # scaled feature: value\n",
    "scatter_y = np.array(y) # scaled feature: fee\n",
    "group = np.array(pandasDF['prediction'])\n",
    "\n",
    "cdict = {0: 'red', 1: 'blue', 2: 'green', 3: 'orange'}\n",
    "fig, ax = plt.subplots()\n",
    "for g in np.unique(group):\n",
    "    ix = np.where(group == g)\n",
    "    ax.scatter(scatter_x[ix], scatter_y[ix], c = cdict[g], label = g+1)\n",
    "ax.legend()\n",
    "plt.xlabel(\"value\")\n",
    "plt.ylabel(\"fee\")\n",
    "plt.show()\n"
   ]
  },
  {
   "cell_type": "markdown",
   "id": "e3c8f610",
   "metadata": {},
   "source": [
    "## Boxplots are created\n",
    "In the following, the data discussed are presented in boxplots in order to reveal any new findings.\n",
    "- For both features \"value\" and \"fee\" a boxplot is generated.\n",
    "- Therein, for each of the 4 clusters a box is generated."
   ]
  },
  {
   "cell_type": "code",
   "execution_count": 25,
   "id": "7a135c69",
   "metadata": {},
   "outputs": [],
   "source": [
    "class1 = pandasDF.loc[pandasDF['prediction'] == 0]\n",
    "class2 = pandasDF.loc[pandasDF['prediction'] == 1]\n",
    "class3 = pandasDF.loc[pandasDF['prediction'] == 2]\n",
    "class4 = pandasDF.loc[pandasDF['prediction'] == 3]"
   ]
  },
  {
   "cell_type": "code",
   "execution_count": 26,
   "id": "f52c1871",
   "metadata": {},
   "outputs": [
    {
     "data": {
      "text/plain": [
       "{'whiskers': [<matplotlib.lines.Line2D at 0x26d4ea81bb0>,\n",
       "  <matplotlib.lines.Line2D at 0x26d4ea84190>,\n",
       "  <matplotlib.lines.Line2D at 0x26d4ea92790>,\n",
       "  <matplotlib.lines.Line2D at 0x26d4ea92760>,\n",
       "  <matplotlib.lines.Line2D at 0x26d4ea9ef70>,\n",
       "  <matplotlib.lines.Line2D at 0x26d4ea9ed30>,\n",
       "  <matplotlib.lines.Line2D at 0x26d4eaad0d0>,\n",
       "  <matplotlib.lines.Line2D at 0x26d4eab0430>],\n",
       " 'caps': [<matplotlib.lines.Line2D at 0x26d4ea875e0>,\n",
       "  <matplotlib.lines.Line2D at 0x26d4ea878e0>,\n",
       "  <matplotlib.lines.Line2D at 0x26d4ea95dc0>,\n",
       "  <matplotlib.lines.Line2D at 0x26d4ea95be0>,\n",
       "  <matplotlib.lines.Line2D at 0x26d4eaa1130>,\n",
       "  <matplotlib.lines.Line2D at 0x26d4eaa5790>,\n",
       "  <matplotlib.lines.Line2D at 0x26d4eab0700>,\n",
       "  <matplotlib.lines.Line2D at 0x26d4eab4dc0>],\n",
       " 'boxes': [<matplotlib.lines.Line2D at 0x26d4ea81c10>,\n",
       "  <matplotlib.lines.Line2D at 0x26d4ea8f190>,\n",
       "  <matplotlib.lines.Line2D at 0x26d4ea9b730>,\n",
       "  <matplotlib.lines.Line2D at 0x26d4eaa9bb0>],\n",
       " 'medians': [<matplotlib.lines.Line2D at 0x26d4ea8c1c0>,\n",
       "  <matplotlib.lines.Line2D at 0x26d4ea98280>,\n",
       "  <matplotlib.lines.Line2D at 0x26d4eaa57c0>,\n",
       "  <matplotlib.lines.Line2D at 0x26d4eab4d30>],\n",
       " 'fliers': [<matplotlib.lines.Line2D at 0x26d4ea8cd30>,\n",
       "  <matplotlib.lines.Line2D at 0x26d4ea9b430>,\n",
       "  <matplotlib.lines.Line2D at 0x26d4eaa9dc0>,\n",
       "  <matplotlib.lines.Line2D at 0x26d4eab7130>],\n",
       " 'means': []}"
      ]
     },
     "execution_count": 26,
     "metadata": {},
     "output_type": "execute_result"
    },
    {
     "data": {
      "image/png": "[encoded data removed]",
      "text/plain": [
       "<Figure size 432x288 with 1 Axes>"
      ]
     },
     "metadata": {
      "needs_background": "light"
     },
     "output_type": "display_data"
    }
   ],
   "source": [
    "plt.boxplot([class1[\"value\"], class2[\"value\"], class3[\"value\"], class4[\"value\"]])"
   ]
  },
  {
   "cell_type": "code",
   "execution_count": 27,
   "id": "0a563a9f",
   "metadata": {},
   "outputs": [
    {
     "data": {
      "text/plain": [
       "{'whiskers': [<matplotlib.lines.Line2D at 0x26d4eb2a220>,\n",
       "  <matplotlib.lines.Line2D at 0x26d4eb2e670>,\n",
       "  <matplotlib.lines.Line2D at 0x26d4eb387f0>,\n",
       "  <matplotlib.lines.Line2D at 0x26d4eb3b400>,\n",
       "  <matplotlib.lines.Line2D at 0x26d4eb46dc0>,\n",
       "  <matplotlib.lines.Line2D at 0x26d4eb4b190>,\n",
       "  <matplotlib.lines.Line2D at 0x26d4eb59310>,\n",
       "  <matplotlib.lines.Line2D at 0x26d4eb596a0>],\n",
       " 'caps': [<matplotlib.lines.Line2D at 0x26d4eb2e940>,\n",
       "  <matplotlib.lines.Line2D at 0x26d4eb315b0>,\n",
       "  <matplotlib.lines.Line2D at 0x26d4eb3be20>,\n",
       "  <matplotlib.lines.Line2D at 0x26d4eb3f220>,\n",
       "  <matplotlib.lines.Line2D at 0x26d4eb4f670>,\n",
       "  <matplotlib.lines.Line2D at 0x26d4eb4f7f0>,\n",
       "  <matplotlib.lines.Line2D at 0x26d4eb5c2b0>,\n",
       "  <matplotlib.lines.Line2D at 0x26d4eb5ce80>],\n",
       " 'boxes': [<matplotlib.lines.Line2D at 0x26d4eb26e20>,\n",
       "  <matplotlib.lines.Line2D at 0x26d4eb38670>,\n",
       "  <matplotlib.lines.Line2D at 0x26d4eb46250>,\n",
       "  <matplotlib.lines.Line2D at 0x26d4eb55070>],\n",
       " 'medians': [<matplotlib.lines.Line2D at 0x26d4eb31df0>,\n",
       "  <matplotlib.lines.Line2D at 0x26d4eb424c0>,\n",
       "  <matplotlib.lines.Line2D at 0x26d4eb52460>,\n",
       "  <matplotlib.lines.Line2D at 0x26d4eb60310>],\n",
       " 'fliers': [<matplotlib.lines.Line2D at 0x26d4eb351c0>,\n",
       "  <matplotlib.lines.Line2D at 0x26d4eb42790>,\n",
       "  <matplotlib.lines.Line2D at 0x26d4eb52c70>,\n",
       "  <matplotlib.lines.Line2D at 0x26d4eb639d0>],\n",
       " 'means': []}"
      ]
     },
     "execution_count": 27,
     "metadata": {},
     "output_type": "execute_result"
    },
    {
     "data": {
      "image/png": "[encoded data removed]",
      "text/plain": [
       "<Figure size 432x288 with 1 Axes>"
      ]
     },
     "metadata": {
      "needs_background": "light"
     },
     "output_type": "display_data"
    }
   ],
   "source": [
    "plt.boxplot([class1[\"fee\"], class2[\"fee\"], class3[\"fee\"], class4[\"fee\"]])"
   ]
  }
 ],
 "metadata": {
  "kernelspec": {
   "display_name": "Python 3",
   "language": "python",
   "name": "python3"
  },
  "language_info": {
   "codemirror_mode": {
    "name": "ipython",
    "version": 3
   },
   "file_extension": ".py",
   "mimetype": "text/x-python",
   "name": "python",
   "nbconvert_exporter": "python",
   "pygments_lexer": "ipython3",
   "version": "3.8.8"
  }
 },
 "nbformat": 4,
 "nbformat_minor": 5
}
