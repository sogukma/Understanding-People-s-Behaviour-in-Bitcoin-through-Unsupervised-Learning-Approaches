{
 "cells": [
  {
   "cell_type": "code",
   "execution_count": null,
   "id": "f06eeb32",
   "metadata": {},
   "outputs": [],
   "source": [
    "#credits\n",
    "https://towardsdatascience.com/predicate-vs-projection-pushdown-in-spark-3-ac24c4d11855\n",
    "    https://www.bmc.com/blogs/python-spark-k-means-example/\n",
    "- sampling: https://stackoverflow.com/questions/24806084/sampling-a-large-distributed-data-set-using-pyspark-spark\n",
    "- filter pushing:"
   ]
  },
  {
   "cell_type": "code",
   "execution_count": 1,
   "id": "5a90213b",
   "metadata": {},
   "outputs": [
    {
     "name": "stdout",
     "output_type": "stream",
     "text": [
      "Requirement already satisfied: pyspark in c:\\users\\enginesadmin\\anaconda3\\lib\\site-packages (3.1.2)\n",
      "Requirement already satisfied: py4j==0.10.9 in c:\\users\\enginesadmin\\anaconda3\\lib\\site-packages (from pyspark) (0.10.9)\n"
     ]
    }
   ],
   "source": [
    "!pip install pyspark\n",
    "\n"
   ]
  },
  {
   "cell_type": "code",
   "execution_count": 1,
   "id": "c7bc52d7",
   "metadata": {},
   "outputs": [],
   "source": [
    "from pyspark.sql import SparkSession\n"
   ]
  },
  {
   "cell_type": "code",
   "execution_count": 2,
   "id": "a28e4001",
   "metadata": {},
   "outputs": [],
   "source": [
    "import glob"
   ]
  },
  {
   "cell_type": "code",
   "execution_count": 3,
   "id": "e66d033f",
   "metadata": {},
   "outputs": [
    {
     "data": {
      "text/plain": [
       "'D:\\\\Bitcoin analysis'"
      ]
     },
     "execution_count": 3,
     "metadata": {},
     "output_type": "execute_result"
    }
   ],
   "source": [
    "pwd()"
   ]
  },
  {
   "cell_type": "code",
   "execution_count": 4,
   "id": "59e03481",
   "metadata": {},
   "outputs": [],
   "source": [
    "from pyspark.sql.types import StructType,StructField, StringType, IntegerType, TimestampType"
   ]
  },
  {
   "cell_type": "code",
   "execution_count": 5,
   "id": "785d5da9",
   "metadata": {},
   "outputs": [],
   "source": [
    "from pyspark.sql import functions as F\n",
    "#df.select(F.col(\"my_column\"))"
   ]
  },
  {
   "cell_type": "code",
   "execution_count": 6,
   "id": "714d69f4",
   "metadata": {},
   "outputs": [],
   "source": [
    "schema = StructType([ \\\n",
    "    StructField(\"value\",IntegerType(),True), \\\n",
    "    StructField(\"fee\",IntegerType(),True), \\\n",
    "    StructField(\"timestamp_in_unix_seconds\",IntegerType(),True), \\\n",
    "  ])"
   ]
  },
  {
   "cell_type": "code",
   "execution_count": 7,
   "id": "55c75d96",
   "metadata": {},
   "outputs": [],
   "source": [
    "\n",
    "# spark config\n",
    "from pyspark.conf import SparkConf\n",
    "\n",
    "\n",
    "config = SparkConf().setAll([ \\\n",
    "    ('spark.executor.memory', '8g'), \\\n",
    "\n",
    "    ('spark.executor.instances', '4'), \\\n",
    "\n",
    "    ('spark.driver.memory','16g'), \\\n",
    "    (\"spark.sql.parquet.filterPushdown\", \"true\"), \\\n",
    "    (\"spark.hadoop.parquet.filter.stats.enabled\", \"true\"), \\\n",
    "    (\"spark.sql.optimizer.nestedSchemaPruning.enabled\", \"true\"), \\\n",
    "    (\"spark.sql.optimizer.dynamicPartitionPruning.enabled\", \"true\") ])\\\n",
    "#    (\"spark.executor.memoryOverhead\", \"16384\") \\\n",
    "\n",
    "\n",
    "\n"
   ]
  },
  {
   "cell_type": "code",
   "execution_count": 8,
   "id": "dee7dced",
   "metadata": {},
   "outputs": [
    {
     "name": "stdout",
     "output_type": "stream",
     "text": [
      "<pyspark.conf.SparkConf object at 0x000001F93F4C5730>\n",
      "local\n",
      "Clustering using K-Means2\n"
     ]
    }
   ],
   "source": [
    "print(config.setMaster(\"local\").setAppName(\"Clustering using K-Means2\"))\n",
    "\n",
    "print(config.get(\"spark.master\"))\n",
    "\n",
    "print(config.get(\"spark.app.name\"))\n"
   ]
  },
  {
   "cell_type": "code",
   "execution_count": 9,
   "id": "830a0d7e",
   "metadata": {},
   "outputs": [],
   "source": [
    "import time\n",
    "\n",
    "from datetime import datetime\n",
    "spark = SparkSession.builder.appName(\"Clustering using K-Means2\") \\\n",
    "    .config(conf=config) \\\n",
    "    .getOrCreate() \\\n",
    "#    .option(\"failOnDataLoss\", False)\n",
    "#spark"
   ]
  },
  {
   "cell_type": "code",
   "execution_count": 10,
   "id": "b0a5cbed",
   "metadata": {},
   "outputs": [
    {
     "data": {
      "text/html": [
       "\n",
       "            <div>\n",
       "                <p><b>SparkSession - in-memory</b></p>\n",
       "                \n",
       "        <div>\n",
       "            <p><b>SparkContext</b></p>\n",
       "\n",
       "            <p><a href=\"http://10.0.7.40:4042\">Spark UI</a></p>\n",
       "\n",
       "            <dl>\n",
       "              <dt>Version</dt>\n",
       "                <dd><code>v3.1.2</code></dd>\n",
       "              <dt>Master</dt>\n",
       "                <dd><code>local</code></dd>\n",
       "              <dt>AppName</dt>\n",
       "                <dd><code>Clustering using K-Means2</code></dd>\n",
       "            </dl>\n",
       "        </div>\n",
       "        \n",
       "            </div>\n",
       "        "
      ],
      "text/plain": [
       "<pyspark.sql.session.SparkSession at 0x1f93f63b850>"
      ]
     },
     "execution_count": 10,
     "metadata": {},
     "output_type": "execute_result"
    }
   ],
   "source": [
    "spark"
   ]
  },
  {
   "cell_type": "code",
   "execution_count": 11,
   "id": "0bd9f22c",
   "metadata": {},
   "outputs": [
    {
     "data": {
      "text/plain": [
       "[('spark.master', 'local'),\n",
       " ('spark.sql.parquet.filterPushdown', 'true'),\n",
       " ('spark.driver.port', '51269'),\n",
       " ('spark.executor.id', 'driver'),\n",
       " ('spark.sql.optimizer.dynamicPartitionPruning.enabled', 'true'),\n",
       " ('spark.driver.memory', '16g'),\n",
       " ('spark.app.id', 'local-1637770604893'),\n",
       " ('spark.executor.memory', '16g'),\n",
       " ('spark.sql.optimizer.nestedSchemaPruning.enabled', 'true'),\n",
       " ('spark.sql.warehouse.dir', 'file:/D:/Bitcoin%20analysis/spark-warehouse'),\n",
       " ('spark.executor.instances', '5'),\n",
       " ('spark.app.startTime', '1637770598161'),\n",
       " ('spark.rdd.compress', 'True'),\n",
       " ('spark.app.name', 'Clustering using K-Means2'),\n",
       " ('spark.serializer.objectStreamReset', '100'),\n",
       " ('spark.submit.pyFiles', ''),\n",
       " ('spark.submit.deployMode', 'client'),\n",
       " ('spark.hadoop.parquet.filter.stats.enabled', 'true'),\n",
       " ('spark.ui.showConsoleProgress', 'true'),\n",
       " ('spark.driver.host', '10.0.7.40')]"
      ]
     },
     "execution_count": 11,
     "metadata": {},
     "output_type": "execute_result"
    }
   ],
   "source": [
    "spark.sparkContext.getConf().getAll()"
   ]
  },
  {
   "cell_type": "code",
   "execution_count": 12,
   "id": "3d953167",
   "metadata": {},
   "outputs": [
    {
     "data": {
      "text/plain": [
       "['D:\\\\Downloads\\\\bitcoin_data_filtered\\\\bitcoin000000000000',\n",
       " 'D:\\\\Downloads\\\\bitcoin_data_filtered\\\\bitcoin000000000001',\n",
       " 'D:\\\\Downloads\\\\bitcoin_data_filtered\\\\bitcoin000000000002',\n",
       " 'D:\\\\Downloads\\\\bitcoin_data_filtered\\\\bitcoin000000000003',\n",
       " 'D:\\\\Downloads\\\\bitcoin_data_filtered\\\\bitcoin000000000004',\n",
       " 'D:\\\\Downloads\\\\bitcoin_data_filtered\\\\bitcoin000000000005',\n",
       " 'D:\\\\Downloads\\\\bitcoin_data_filtered\\\\bitcoin000000000006',\n",
       " 'D:\\\\Downloads\\\\bitcoin_data_filtered\\\\bitcoin000000000007',\n",
       " 'D:\\\\Downloads\\\\bitcoin_data_filtered\\\\bitcoin000000000008',\n",
       " 'D:\\\\Downloads\\\\bitcoin_data_filtered\\\\bitcoin000000000009',\n",
       " 'D:\\\\Downloads\\\\bitcoin_data_filtered\\\\bitcoin000000000010',\n",
       " 'D:\\\\Downloads\\\\bitcoin_data_filtered\\\\bitcoin000000000011',\n",
       " 'D:\\\\Downloads\\\\bitcoin_data_filtered\\\\bitcoin000000000012',\n",
       " 'D:\\\\Downloads\\\\bitcoin_data_filtered\\\\bitcoin000000000013',\n",
       " 'D:\\\\Downloads\\\\bitcoin_data_filtered\\\\bitcoin000000000014',\n",
       " 'D:\\\\Downloads\\\\bitcoin_data_filtered\\\\bitcoin000000000015',\n",
       " 'D:\\\\Downloads\\\\bitcoin_data_filtered\\\\bitcoin000000000016',\n",
       " 'D:\\\\Downloads\\\\bitcoin_data_filtered\\\\bitcoin000000000017',\n",
       " 'D:\\\\Downloads\\\\bitcoin_data_filtered\\\\bitcoin000000000018',\n",
       " 'D:\\\\Downloads\\\\bitcoin_data_filtered\\\\bitcoin000000000019',\n",
       " 'D:\\\\Downloads\\\\bitcoin_data_filtered\\\\bitcoin000000000020',\n",
       " 'D:\\\\Downloads\\\\bitcoin_data_filtered\\\\bitcoin000000000021',\n",
       " 'D:\\\\Downloads\\\\bitcoin_data_filtered\\\\bitcoin000000000022',\n",
       " 'D:\\\\Downloads\\\\bitcoin_data_filtered\\\\bitcoin000000000023',\n",
       " 'D:\\\\Downloads\\\\bitcoin_data_filtered\\\\bitcoin000000000024',\n",
       " 'D:\\\\Downloads\\\\bitcoin_data_filtered\\\\bitcoin000000000025',\n",
       " 'D:\\\\Downloads\\\\bitcoin_data_filtered\\\\bitcoin000000000026',\n",
       " 'D:\\\\Downloads\\\\bitcoin_data_filtered\\\\bitcoin000000000027',\n",
       " 'D:\\\\Downloads\\\\bitcoin_data_filtered\\\\bitcoin000000000028',\n",
       " 'D:\\\\Downloads\\\\bitcoin_data_filtered\\\\bitcoin000000000029',\n",
       " 'D:\\\\Downloads\\\\bitcoin_data_filtered\\\\bitcoin000000000030',\n",
       " 'D:\\\\Downloads\\\\bitcoin_data_filtered\\\\bitcoin000000000031',\n",
       " 'D:\\\\Downloads\\\\bitcoin_data_filtered\\\\bitcoin000000000032',\n",
       " 'D:\\\\Downloads\\\\bitcoin_data_filtered\\\\bitcoin000000000033',\n",
       " 'D:\\\\Downloads\\\\bitcoin_data_filtered\\\\bitcoin000000000034',\n",
       " 'D:\\\\Downloads\\\\bitcoin_data_filtered\\\\bitcoin000000000035',\n",
       " 'D:\\\\Downloads\\\\bitcoin_data_filtered\\\\bitcoin000000000036',\n",
       " 'D:\\\\Downloads\\\\bitcoin_data_filtered\\\\bitcoin000000000037',\n",
       " 'D:\\\\Downloads\\\\bitcoin_data_filtered\\\\bitcoin000000000038',\n",
       " 'D:\\\\Downloads\\\\bitcoin_data_filtered\\\\bitcoin000000000039',\n",
       " 'D:\\\\Downloads\\\\bitcoin_data_filtered\\\\bitcoin000000000040',\n",
       " 'D:\\\\Downloads\\\\bitcoin_data_filtered\\\\bitcoin000000000041',\n",
       " 'D:\\\\Downloads\\\\bitcoin_data_filtered\\\\bitcoin000000000042',\n",
       " 'D:\\\\Downloads\\\\bitcoin_data_filtered\\\\bitcoin000000000043',\n",
       " 'D:\\\\Downloads\\\\bitcoin_data_filtered\\\\bitcoin000000000044',\n",
       " 'D:\\\\Downloads\\\\bitcoin_data_filtered\\\\bitcoin000000000045',\n",
       " 'D:\\\\Downloads\\\\bitcoin_data_filtered\\\\bitcoin000000000046',\n",
       " 'D:\\\\Downloads\\\\bitcoin_data_filtered\\\\bitcoin000000000047',\n",
       " 'D:\\\\Downloads\\\\bitcoin_data_filtered\\\\bitcoin000000000048',\n",
       " 'D:\\\\Downloads\\\\bitcoin_data_filtered\\\\bitcoin000000000049',\n",
       " 'D:\\\\Downloads\\\\bitcoin_data_filtered\\\\bitcoin000000000050',\n",
       " 'D:\\\\Downloads\\\\bitcoin_data_filtered\\\\bitcoin000000000051',\n",
       " 'D:\\\\Downloads\\\\bitcoin_data_filtered\\\\bitcoin000000000052',\n",
       " 'D:\\\\Downloads\\\\bitcoin_data_filtered\\\\bitcoin000000000053',\n",
       " 'D:\\\\Downloads\\\\bitcoin_data_filtered\\\\bitcoin000000000054',\n",
       " 'D:\\\\Downloads\\\\bitcoin_data_filtered\\\\bitcoin000000000055',\n",
       " 'D:\\\\Downloads\\\\bitcoin_data_filtered\\\\bitcoin000000000056',\n",
       " 'D:\\\\Downloads\\\\bitcoin_data_filtered\\\\bitcoin000000000057',\n",
       " 'D:\\\\Downloads\\\\bitcoin_data_filtered\\\\bitcoin000000000058',\n",
       " 'D:\\\\Downloads\\\\bitcoin_data_filtered\\\\bitcoin000000000059',\n",
       " 'D:\\\\Downloads\\\\bitcoin_data_filtered\\\\bitcoin000000000060',\n",
       " 'D:\\\\Downloads\\\\bitcoin_data_filtered\\\\bitcoin000000000061',\n",
       " 'D:\\\\Downloads\\\\bitcoin_data_filtered\\\\bitcoin000000000062',\n",
       " 'D:\\\\Downloads\\\\bitcoin_data_filtered\\\\bitcoin000000000063',\n",
       " 'D:\\\\Downloads\\\\bitcoin_data_filtered\\\\bitcoin000000000064',\n",
       " 'D:\\\\Downloads\\\\bitcoin_data_filtered\\\\bitcoin000000000065',\n",
       " 'D:\\\\Downloads\\\\bitcoin_data_filtered\\\\bitcoin000000000066',\n",
       " 'D:\\\\Downloads\\\\bitcoin_data_filtered\\\\bitcoin000000000067']"
      ]
     },
     "execution_count": 12,
     "metadata": {},
     "output_type": "execute_result"
    }
   ],
   "source": [
    "import glob\n",
    "import os\n",
    "BITCOIN_PATHS = sorted(glob.glob(os.path.join(\"D:\\\\Downloads\\\\bitcoin_data_filtered\\\\\", \"*\")))\n",
    "BITCOIN_PATHS"
   ]
  },
  {
   "cell_type": "code",
   "execution_count": 13,
   "id": "cc1c00ab",
   "metadata": {},
   "outputs": [
    {
     "name": "stdout",
     "output_type": "stream",
     "text": [
      "root\n",
      " |-- value: integer (nullable = true)\n",
      " |-- fee: integer (nullable = true)\n",
      "\n"
     ]
    }
   ],
   "source": [
    "# hier wird dataframe gelesen. versuche es mit rdd .rdd()\n",
    "data_customer=spark.read.csv(BITCOIN_PATHS, header=True, schema=schema) \\\n",
    "    .select(\"value\",\"fee\") \\\n",
    "     .filter((F.col('timestamp_in_unix_seconds') >= int(time.mktime(datetime.strptime('2013-04-10', '%Y-%m-%d').timetuple()))) & (F.col('timestamp_in_unix_seconds') <= int(time.mktime(datetime.strptime('2013-07-07', '%Y-%m-%d').timetuple())))) \\\n",
    "    .persist()\n",
    "data_customer.printSchema()"
   ]
  },
  {
   "cell_type": "code",
   "execution_count": 14,
   "id": "e444ee76",
   "metadata": {},
   "outputs": [
    {
     "name": "stdout",
     "output_type": "stream",
     "text": [
      "== Physical Plan ==\n",
      "*(1) ColumnarToRow\n",
      "+- InMemoryTableScan [value#0, fee#1]\n",
      "      +- InMemoryRelation [value#0, fee#1], StorageLevel(disk, memory, deserialized, 1 replicas)\n",
      "            +- *(1) Project [value#0, fee#1]\n",
      "               +- *(1) Filter ((isnotnull(timestamp_in_unix_seconds#2) AND (timestamp_in_unix_seconds#2 >= 1365544800)) AND (timestamp_in_unix_seconds#2 <= 1373148000))\n",
      "                  +- FileScan csv [value#0,fee#1,timestamp_in_unix_seconds#2] Batched: false, DataFilters: [isnotnull(timestamp_in_unix_seconds#2), (timestamp_in_unix_seconds#2 >= 1365544800), (timestamp_..., Format: CSV, Location: InMemoryFileIndex[file:/D:/Downloads/bitcoin_data_filtered/bitcoin000000000000, file:/D:/Download..., PartitionFilters: [], PushedFilters: [IsNotNull(timestamp_in_unix_seconds), GreaterThanOrEqual(timestamp_in_unix_seconds,1365544800), ..., ReadSchema: struct<value:int,fee:int,timestamp_in_unix_seconds:int>\n",
      "\n",
      "\n"
     ]
    }
   ],
   "source": [
    "data_customer.explain()"
   ]
  },
  {
   "cell_type": "code",
   "execution_count": 15,
   "id": "ad877c30",
   "metadata": {},
   "outputs": [],
   "source": [
    "data_customer=data_customer.na.drop()"
   ]
  },
  {
   "cell_type": "code",
   "execution_count": 16,
   "id": "2451d49d",
   "metadata": {},
   "outputs": [
    {
     "name": "stdout",
     "output_type": "stream",
     "text": [
      "+---------+-----+\n",
      "|    value|  fee|\n",
      "+---------+-----+\n",
      "|177633153|10000|\n",
      "| 19552420|50000|\n",
      "+---------+-----+\n",
      "only showing top 2 rows\n",
      "\n"
     ]
    }
   ],
   "source": [
    "data_customer.show(2)"
   ]
  },
  {
   "cell_type": "code",
   "execution_count": 17,
   "id": "051c4c66",
   "metadata": {},
   "outputs": [],
   "source": [
    "data_customer = data_customer.sample(False,0.0001,1234)"
   ]
  },
  {
   "cell_type": "code",
   "execution_count": 18,
   "id": "ced637ef",
   "metadata": {},
   "outputs": [],
   "source": [
    "inputCols=[ 'value', 'fee']"
   ]
  },
  {
   "cell_type": "code",
   "execution_count": 19,
   "id": "4a39b1d6",
   "metadata": {},
   "outputs": [
    {
     "name": "stdout",
     "output_type": "stream",
     "text": [
      "+----------+-----+--------------------+\n",
      "|     value|  fee|            features|\n",
      "+----------+-----+--------------------+\n",
      "|1980950419|50000|[1.980950419E9,50...|\n",
      "|  20000000|50000|     [2.0E7,50000.0]|\n",
      "+----------+-----+--------------------+\n",
      "only showing top 2 rows\n",
      "\n"
     ]
    }
   ],
   "source": [
    "# transformation task. genau wie filter, join, etc. --> bis hier wird das aber nur vorbereitet\n",
    "from pyspark.ml.feature import VectorAssembler\n",
    "data_customer.columns\n",
    "assemble=VectorAssembler(inputCols=[ 'value', 'fee'], outputCol='features')\n",
    "assembled_data=assemble.transform(data_customer)\n",
    "assembled_data.show(2)"
   ]
  },
  {
   "cell_type": "code",
   "execution_count": 20,
   "id": "d7c559ea",
   "metadata": {},
   "outputs": [
    {
     "name": "stdout",
     "output_type": "stream",
     "text": [
      "+----------+-----+--------------------+--------------------+\n",
      "|     value|  fee|            features|        standardized|\n",
      "+----------+-----+--------------------+--------------------+\n",
      "|1980950419|50000|[1.980950419E9,50...|[3.68025767016186...|\n",
      "|  20000000|50000|     [2.0E7,50000.0]|[-0.5182066972369...|\n",
      "+----------+-----+--------------------+--------------------+\n",
      "only showing top 2 rows\n",
      "\n"
     ]
    }
   ],
   "source": [
    "# an dieser stelle findet erstmals eine aktion statt. die vorbereiteten transformationen werden durchgeführt.\n",
    "#standarizer\n",
    "from pyspark.ml.feature import StandardScaler\n",
    "scale=StandardScaler(inputCol='features',outputCol='standardized', withMean=True, withStd=True)\n",
    "data_scale=scale.fit(assembled_data)\n",
    "data_scale_output=data_scale.transform(assembled_data)\n",
    "data_scale_output.show(2)"
   ]
  },
  {
   "cell_type": "code",
   "execution_count": 21,
   "id": "8e1a1207",
   "metadata": {},
   "outputs": [],
   "source": [
    "#data_customer = data_scale_output.toPandas()"
   ]
  },
  {
   "cell_type": "code",
   "execution_count": 22,
   "id": "f086b098",
   "metadata": {},
   "outputs": [
    {
     "name": "stdout",
     "output_type": "stream",
     "text": [
      "Silhouette Score: 0.9220075265461279\n",
      "Silhouette Score: 0.7969359780078791\n",
      "Silhouette Score: 0.6147028082549295\n",
      "Silhouette Score: 0.5713512344241735\n",
      "Silhouette Score: 0.7900178836663296\n",
      "Silhouette Score: 0.7510918718404443\n",
      "Silhouette Score: 0.7998823526297036\n",
      "Silhouette Score: 0.7787657321453461\n",
      "Wall time: 6min 47s\n"
     ]
    }
   ],
   "source": [
    "%%time\n",
    "from pyspark.ml.clustering import KMeans\n",
    "from pyspark.ml.evaluation import ClusteringEvaluator\n",
    "silhouette_score=[]\n",
    "evaluator = ClusteringEvaluator(predictionCol='prediction', featuresCol='standardized', \\\n",
    "                                metricName='silhouette', distanceMeasure='squaredEuclidean')\n",
    "for i in range(2,10):\n",
    "    \n",
    "    KMeans_algo=KMeans(featuresCol='standardized', k=i, seed=1) # set seed\n",
    "    \n",
    "    KMeans_fit=KMeans_algo.fit(data_scale_output)\n",
    "    \n",
    "    output=KMeans_fit.transform(data_scale_output)\n",
    "    \n",
    "    \n",
    "    \n",
    "    score=evaluator.evaluate(output)\n",
    "    \n",
    "    silhouette_score.append(score)\n",
    "    \n",
    "    print(\"Silhouette Score:\",score)"
   ]
  },
  {
   "cell_type": "code",
   "execution_count": 23,
   "id": "60a407f8",
   "metadata": {},
   "outputs": [
    {
     "data": {
      "text/plain": [
       "Text(0, 0.5, 'silhouette score')"
      ]
     },
     "execution_count": 23,
     "metadata": {},
     "output_type": "execute_result"
    },
    {
     "data": {
      "image/png": "[encoded data removed]",
      "text/plain": [
       "<Figure size 576x432 with 1 Axes>"
      ]
     },
     "metadata": {
      "needs_background": "light"
     },
     "output_type": "display_data"
    }
   ],
   "source": [
    "#Visualizing the silhouette scores in a plot\n",
    "import matplotlib.pyplot as plt\n",
    "fig, ax = plt.subplots(1,1, figsize =(8,6))\n",
    "ax.plot(range(2,10),silhouette_score) # passe range an grösse des k an\n",
    "ax.set_xlabel(\"k\")\n",
    "ax.set_ylabel(\"silhouette score\")"
   ]
  },
  {
   "cell_type": "code",
   "execution_count": 46,
   "id": "81bb6be2",
   "metadata": {},
   "outputs": [
    {
     "data": {
      "text/plain": [
       "pyspark.sql.dataframe.DataFrame"
      ]
     },
     "execution_count": 46,
     "metadata": {},
     "output_type": "execute_result"
    }
   ],
   "source": [
    "type(data_customer)"
   ]
  },
  {
   "cell_type": "code",
   "execution_count": 23,
   "id": "be8eb067",
   "metadata": {},
   "outputs": [
    {
     "name": "stdout",
     "output_type": "stream",
     "text": [
      "Silhouette with squared euclidean distance = 0.6064506685202035\n"
     ]
    }
   ],
   "source": [
    "\n",
    "\n",
    "\n",
    "from pyspark.ml.evaluation import ClusteringEvaluator\n",
    "from pyspark.ml.clustering import KMeans\n",
    "\n",
    "# Trains a k-means model.\n",
    "kmeans = KMeans(featuresCol='standardized').setK(4).setSeed(1)\n",
    "model = kmeans.fit(data_scale_output)\n",
    "\n",
    "# Make predictions\n",
    "predictions = model.transform(data_scale_output)\n",
    "\n",
    "# Evaluate clustering by computing Silhouette score\n",
    "evaluator = ClusteringEvaluator()\n",
    "\n",
    "\n",
    "silhouette = evaluator.evaluate(predictions)\n",
    "print(\"Silhouette with squared euclidean distance = \" + str(silhouette)) \n",
    "# evaluation mit silhouette; evaluation mit SSE ist depriciated\n",
    "\n"
   ]
  },
  {
   "cell_type": "code",
   "execution_count": 24,
   "id": "8580eb27",
   "metadata": {},
   "outputs": [
    {
     "name": "stdout",
     "output_type": "stream",
     "text": [
      "Cluster Centers: \n",
      "[-0.43119675  0.21511151]\n",
      "[-0.1198634   5.92699732]\n",
      "[ 2.64618607 -0.59090855]\n",
      "[ 0.25669655 -0.90879727]\n"
     ]
    }
   ],
   "source": [
    "# Shows the result.\n",
    "print(\"Cluster Centers: \")\n",
    "ctr=[]\n",
    "centers = model.clusterCenters()\n",
    "for center in centers:\n",
    "    ctr.append(center)\n",
    "    print(center)"
   ]
  },
  {
   "cell_type": "code",
   "execution_count": 25,
   "id": "ac0f4f31",
   "metadata": {},
   "outputs": [],
   "source": [
    "# output of transform \"output\" or \"predictions\"\n",
    "pandasDF=predictions.toPandas()"
   ]
  },
  {
   "cell_type": "code",
   "execution_count": 26,
   "id": "6f6ad9d7",
   "metadata": {},
   "outputs": [
    {
     "data": {
      "text/html": [
       "<div>\n",
       "<style scoped>\n",
       "    .dataframe tbody tr th:only-of-type {\n",
       "        vertical-align: middle;\n",
       "    }\n",
       "\n",
       "    .dataframe tbody tr th {\n",
       "        vertical-align: top;\n",
       "    }\n",
       "\n",
       "    .dataframe thead th {\n",
       "        text-align: right;\n",
       "    }\n",
       "</style>\n",
       "<table border=\"1\" class=\"dataframe\">\n",
       "  <thead>\n",
       "    <tr style=\"text-align: right;\">\n",
       "      <th></th>\n",
       "      <th>value</th>\n",
       "      <th>fee</th>\n",
       "    </tr>\n",
       "  </thead>\n",
       "  <tbody>\n",
       "    <tr>\n",
       "      <th>0</th>\n",
       "      <td>-0.431197</td>\n",
       "      <td>0.215112</td>\n",
       "    </tr>\n",
       "    <tr>\n",
       "      <th>1</th>\n",
       "      <td>-0.119863</td>\n",
       "      <td>5.926997</td>\n",
       "    </tr>\n",
       "    <tr>\n",
       "      <th>2</th>\n",
       "      <td>2.646186</td>\n",
       "      <td>-0.590909</td>\n",
       "    </tr>\n",
       "    <tr>\n",
       "      <th>3</th>\n",
       "      <td>0.256697</td>\n",
       "      <td>-0.908797</td>\n",
       "    </tr>\n",
       "  </tbody>\n",
       "</table>\n",
       "</div>"
      ],
      "text/plain": [
       "      value       fee\n",
       "0 -0.431197  0.215112\n",
       "1 -0.119863  5.926997\n",
       "2  2.646186 -0.590909\n",
       "3  0.256697 -0.908797"
      ]
     },
     "execution_count": 26,
     "metadata": {},
     "output_type": "execute_result"
    }
   ],
   "source": [
    "import pandas as pd\n",
    "centers = pd.DataFrame(ctr,columns=inputCols)\n",
    "centers # könnte man einzeichnen, wenn man plot mit skalierten daten (nicht pca -daten) macht"
   ]
  },
  {
   "cell_type": "code",
   "execution_count": 27,
   "id": "5445b44c",
   "metadata": {},
   "outputs": [],
   "source": [
    "# bring scaled values(value, fee) into list\n",
    "x = []\n",
    "y = []\n",
    "for i, j in pandasDF[\"standardized\"].values:\n",
    "    x.append(i)\n",
    "    y.append(j)"
   ]
  },
  {
   "cell_type": "code",
   "execution_count": 63,
   "id": "d3430dfd",
   "metadata": {},
   "outputs": [
    {
     "data": {
      "image/png": "[encoded data removed]",
      "text/plain": [
       "<Figure size 432x288 with 1 Axes>"
      ]
     },
     "metadata": {
      "needs_background": "light"
     },
     "output_type": "display_data"
    }
   ],
   "source": [
    "import matplotlib.pyplot as plt\n",
    "\n",
    "# plot mit scaled daten: value vs. fee\n",
    "#todo: outlier entfernen\n",
    "#todo: mean centers rein tun\n",
    "import numpy as np\n",
    "scatter_x = np.array(x) # scaled bitcoin transaction value\n",
    "scatter_y = np.array(y) # scaled bitcoin transaction fee\n",
    "group = np.array(pandasDF['prediction'])\n",
    "\n",
    "cdict = {0: 'red', 1: 'blue', 2: 'green', 3: 'orange'}\n",
    "fig, ax = plt.subplots()\n",
    "for g in np.unique(group):\n",
    "    ix = np.where(group == g)\n",
    "    ax.scatter(scatter_x[ix], scatter_y[ix], c = cdict[g], label = g+1)\n",
    "ax.legend()\n",
    "plt.xlabel(\"value\")\n",
    "plt.ylabel(\"fee\")\n",
    "plt.show()\n",
    "\n",
    "#plt.scatter(y=pandasDF[\"fee\"],x=pandasDF[\"value\"], c=pandasDF[\"prediction\"], cmap='brg')\n",
    "#plt.legend()\n",
    "\n",
    "#plt.scatter(y=y,x=x, c=pandasDF[\"prediction\"].values, cmap='brg')\n",
    "#plt.legend()\n",
    "\n",
    "\n"
   ]
  },
  {
   "cell_type": "code",
   "execution_count": 29,
   "id": "3301a93d",
   "metadata": {},
   "outputs": [
    {
     "ename": "SyntaxError",
     "evalue": "invalid syntax (<ipython-input-29-a0ef6d29c5d6>, line 2)",
     "output_type": "error",
     "traceback": [
      "\u001b[1;36m  File \u001b[1;32m\"<ipython-input-29-a0ef6d29c5d6>\"\u001b[1;36m, line \u001b[1;32m2\u001b[0m\n\u001b[1;33m    - 2010-2011 waren fees sehr günstig. zum teil waren transaktionen auch gratis. daher ist fee relativ weit unten\u001b[0m\n\u001b[1;37m                ^\u001b[0m\n\u001b[1;31mSyntaxError\u001b[0m\u001b[1;31m:\u001b[0m invalid syntax\n"
     ]
    }
   ],
   "source": [
    "# interpretation:\n",
    "- 2010-2011 waren fees sehr günstig. zum teil waren transaktionen auch gratis. daher ist fee relativ weit unten\n",
    "- fee plot ist auch etwas gezerrt wegen outlier oben\n",
    "- die drei cluster\n",
    "-- transaktionen mit wenig fee und wenig betrag\n",
    "-- transaktionen mit wenig fee und viel betrag\n",
    "-- transaktionen mit etwas höherem fees haben etwas höheren betrag"
   ]
  },
  {
   "cell_type": "code",
   "execution_count": null,
   "id": "a02ee52f",
   "metadata": {},
   "outputs": [],
   "source": [
    "# bezug zu orignaldaten machen: im folgenden wird nicht mit skalierten werten gearbeitet, damit mehr einblick in daten möglich wird"
   ]
  },
  {
   "cell_type": "code",
   "execution_count": 51,
   "id": "7a135c69",
   "metadata": {},
   "outputs": [],
   "source": [
    "class1 = pandasDF.loc[pandasDF['prediction'] == 0]\n",
    "class2 = pandasDF.loc[pandasDF['prediction'] == 1]\n",
    "class3 = pandasDF.loc[pandasDF['prediction'] == 2]\n",
    "class4 = pandasDF.loc[pandasDF['prediction'] == 3]"
   ]
  },
  {
   "cell_type": "code",
   "execution_count": 52,
   "id": "f52c1871",
   "metadata": {},
   "outputs": [
    {
     "data": {
      "text/plain": [
       "{'whiskers': [<matplotlib.lines.Line2D at 0x1fa5a742bb0>,\n",
       "  <matplotlib.lines.Line2D at 0x1fa5a742f10>,\n",
       "  <matplotlib.lines.Line2D at 0x1fa5a75e160>,\n",
       "  <matplotlib.lines.Line2D at 0x1fa5a75e490>,\n",
       "  <matplotlib.lines.Line2D at 0x1fa5a76b7f0>,\n",
       "  <matplotlib.lines.Line2D at 0x1fa5a76bb20>,\n",
       "  <matplotlib.lines.Line2D at 0x1fa5a777e80>,\n",
       "  <matplotlib.lines.Line2D at 0x1fa5a7841f0>],\n",
       " 'caps': [<matplotlib.lines.Line2D at 0x1fa5a751250>,\n",
       "  <matplotlib.lines.Line2D at 0x1fa5a751460>,\n",
       "  <matplotlib.lines.Line2D at 0x1fa5a75e7c0>,\n",
       "  <matplotlib.lines.Line2D at 0x1fa5a75eaf0>,\n",
       "  <matplotlib.lines.Line2D at 0x1fa5a76be50>,\n",
       "  <matplotlib.lines.Line2D at 0x1fa5a7771c0>,\n",
       "  <matplotlib.lines.Line2D at 0x1fa5a784520>,\n",
       "  <matplotlib.lines.Line2D at 0x1fa5a784850>],\n",
       " 'boxes': [<matplotlib.lines.Line2D at 0x1fa5a742850>,\n",
       "  <matplotlib.lines.Line2D at 0x1fa5a751df0>,\n",
       "  <matplotlib.lines.Line2D at 0x1fa5a76b4c0>,\n",
       "  <matplotlib.lines.Line2D at 0x1fa5a777b50>],\n",
       " 'medians': [<matplotlib.lines.Line2D at 0x1fa5a751790>,\n",
       "  <matplotlib.lines.Line2D at 0x1fa5a75ee20>,\n",
       "  <matplotlib.lines.Line2D at 0x1fa5a7774f0>,\n",
       "  <matplotlib.lines.Line2D at 0x1fa5a784b80>],\n",
       " 'fliers': [<matplotlib.lines.Line2D at 0x1fa5a751ac0>,\n",
       "  <matplotlib.lines.Line2D at 0x1fa5a76b190>,\n",
       "  <matplotlib.lines.Line2D at 0x1fa5a777820>,\n",
       "  <matplotlib.lines.Line2D at 0x1fa5a784eb0>],\n",
       " 'means': []}"
      ]
     },
     "execution_count": 52,
     "metadata": {},
     "output_type": "execute_result"
    },
    {
     "data": {
      "image/png": "[encoded data removed]",
      "text/plain": [
       "<Figure size 432x288 with 1 Axes>"
      ]
     },
     "metadata": {
      "needs_background": "light"
     },
     "output_type": "display_data"
    }
   ],
   "source": [
    "plt.boxplot([class1[\"value\"], class2[\"value\"], class3[\"value\"], class4[\"value\"]])"
   ]
  },
  {
   "cell_type": "code",
   "execution_count": 53,
   "id": "0a563a9f",
   "metadata": {},
   "outputs": [
    {
     "data": {
      "text/plain": [
       "{'whiskers': [<matplotlib.lines.Line2D at 0x1fa59279f10>,\n",
       "  <matplotlib.lines.Line2D at 0x1fa59280340>,\n",
       "  <matplotlib.lines.Line2D at 0x1fa592b2c10>,\n",
       "  <matplotlib.lines.Line2D at 0x1fa592b2fa0>,\n",
       "  <matplotlib.lines.Line2D at 0x1fa590fb4c0>,\n",
       "  <matplotlib.lines.Line2D at 0x1fa591468e0>,\n",
       "  <matplotlib.lines.Line2D at 0x1fa593a9670>,\n",
       "  <matplotlib.lines.Line2D at 0x1fa59339dc0>],\n",
       " 'caps': [<matplotlib.lines.Line2D at 0x1fa592807c0>,\n",
       "  <matplotlib.lines.Line2D at 0x1fa59280b50>,\n",
       "  <matplotlib.lines.Line2D at 0x1fa592e7190>,\n",
       "  <matplotlib.lines.Line2D at 0x1fa592e7730>,\n",
       "  <matplotlib.lines.Line2D at 0x1fa593bf070>,\n",
       "  <matplotlib.lines.Line2D at 0x1fa593bfb20>,\n",
       "  <matplotlib.lines.Line2D at 0x1fa5a3bf490>,\n",
       "  <matplotlib.lines.Line2D at 0x1fa5a3bfe20>],\n",
       " 'boxes': [<matplotlib.lines.Line2D at 0x1fa592792e0>,\n",
       "  <matplotlib.lines.Line2D at 0x1fa592b2730>,\n",
       "  <matplotlib.lines.Line2D at 0x1fa592e83d0>,\n",
       "  <matplotlib.lines.Line2D at 0x1fa593a9610>],\n",
       " 'medians': [<matplotlib.lines.Line2D at 0x1fa592a9760>,\n",
       "  <matplotlib.lines.Line2D at 0x1fa592e7fa0>,\n",
       "  <matplotlib.lines.Line2D at 0x1fa593bfe20>,\n",
       "  <matplotlib.lines.Line2D at 0x1fa5a3ec940>],\n",
       " 'fliers': [<matplotlib.lines.Line2D at 0x1fa592c0d90>,\n",
       "  <matplotlib.lines.Line2D at 0x1fa592e80a0>,\n",
       "  <matplotlib.lines.Line2D at 0x1fa5a3922e0>,\n",
       "  <matplotlib.lines.Line2D at 0x1fa5a3ecdf0>],\n",
       " 'means': []}"
      ]
     },
     "execution_count": 53,
     "metadata": {},
     "output_type": "execute_result"
    },
    {
     "data": {
      "image/png": "[encoded data removed]",
      "text/plain": [
       "<Figure size 432x288 with 1 Axes>"
      ]
     },
     "metadata": {
      "needs_background": "light"
     },
     "output_type": "display_data"
    }
   ],
   "source": [
    "plt.boxplot([class1[\"fee\"], class2[\"fee\"], class3[\"fee\"], class4[\"fee\"]])"
   ]
  },
  {
   "cell_type": "code",
   "execution_count": 33,
   "id": "f89d3b34",
   "metadata": {},
   "outputs": [
    {
     "data": {
      "text/plain": [
       "103055189.10101609"
      ]
     },
     "execution_count": 33,
     "metadata": {},
     "output_type": "execute_result"
    }
   ],
   "source": [
    "class1[\"value\"].std()"
   ]
  },
  {
   "cell_type": "code",
   "execution_count": 34,
   "id": "bf6cc88d",
   "metadata": {},
   "outputs": [
    {
     "data": {
      "text/plain": [
       "30116.08598518842"
      ]
     },
     "execution_count": 34,
     "metadata": {},
     "output_type": "execute_result"
    }
   ],
   "source": [
    "class1[\"fee\"].std()"
   ]
  },
  {
   "cell_type": "code",
   "execution_count": 35,
   "id": "e718537f",
   "metadata": {},
   "outputs": [
    {
     "data": {
      "text/plain": [
       "60639188.40070922"
      ]
     },
     "execution_count": 35,
     "metadata": {},
     "output_type": "execute_result"
    }
   ],
   "source": [
    "class1[\"value\"].mean()"
   ]
  },
  {
   "cell_type": "code",
   "execution_count": 36,
   "id": "9d228d31",
   "metadata": {},
   "outputs": [
    {
     "data": {
      "text/plain": [
       "336140350.4210253"
      ]
     },
     "execution_count": 36,
     "metadata": {},
     "output_type": "execute_result"
    }
   ],
   "source": [
    "class2[\"value\"].std()"
   ]
  },
  {
   "cell_type": "code",
   "execution_count": 37,
   "id": "4acdf8c9",
   "metadata": {},
   "outputs": [
    {
     "data": {
      "text/plain": [
       "90829.51062292475"
      ]
     },
     "execution_count": 37,
     "metadata": {},
     "output_type": "execute_result"
    }
   ],
   "source": [
    "class2[\"fee\"].std()"
   ]
  },
  {
   "cell_type": "code",
   "execution_count": 38,
   "id": "b704a77d",
   "metadata": {},
   "outputs": [
    {
     "data": {
      "text/plain": [
       "78336.87943262412"
      ]
     },
     "execution_count": 38,
     "metadata": {},
     "output_type": "execute_result"
    }
   ],
   "source": [
    "class1[\"fee\"].mean()"
   ]
  },
  {
   "cell_type": "code",
   "execution_count": 39,
   "id": "74d7e402",
   "metadata": {},
   "outputs": [
    {
     "data": {
      "text/plain": [
       "206051707.0"
      ]
     },
     "execution_count": 39,
     "metadata": {},
     "output_type": "execute_result"
    }
   ],
   "source": [
    "class2[\"value\"].mean()"
   ]
  },
  {
   "cell_type": "code",
   "execution_count": 40,
   "id": "f38c36d9",
   "metadata": {},
   "outputs": [
    {
     "data": {
      "text/plain": [
       "370000.0"
      ]
     },
     "execution_count": 40,
     "metadata": {},
     "output_type": "execute_result"
    }
   ],
   "source": [
    "class2[\"fee\"].mean()"
   ]
  },
  {
   "cell_type": "code",
   "execution_count": 41,
   "id": "96028541",
   "metadata": {},
   "outputs": [
    {
     "data": {
      "text/plain": [
       "360420830.9804927"
      ]
     },
     "execution_count": 41,
     "metadata": {},
     "output_type": "execute_result"
    }
   ],
   "source": [
    "class3[\"value\"].std()"
   ]
  },
  {
   "cell_type": "code",
   "execution_count": 42,
   "id": "c45a26bc",
   "metadata": {},
   "outputs": [
    {
     "data": {
      "text/plain": [
       "28741.013968554085"
      ]
     },
     "execution_count": 42,
     "metadata": {},
     "output_type": "execute_result"
    }
   ],
   "source": [
    "class3[\"fee\"].std()"
   ]
  },
  {
   "cell_type": "code",
   "execution_count": 43,
   "id": "0d473618",
   "metadata": {},
   "outputs": [
    {
     "data": {
      "text/plain": [
       "1497973082.0"
      ]
     },
     "execution_count": 43,
     "metadata": {},
     "output_type": "execute_result"
    }
   ],
   "source": [
    "class3[\"value\"].mean()"
   ]
  },
  {
   "cell_type": "code",
   "execution_count": 44,
   "id": "db0c13b2",
   "metadata": {},
   "outputs": [
    {
     "data": {
      "text/plain": [
       "1497973082.0"
      ]
     },
     "execution_count": 44,
     "metadata": {},
     "output_type": "execute_result"
    }
   ],
   "source": [
    "class3[\"value\"].mean()"
   ]
  },
  {
   "cell_type": "code",
   "execution_count": 45,
   "id": "8cbfedff",
   "metadata": {},
   "outputs": [
    {
     "data": {
      "text/plain": [
       "array([[<AxesSubplot:title={'center':'value'}>,\n",
       "        <AxesSubplot:title={'center':'fee'}>],\n",
       "       [<AxesSubplot:title={'center':'prediction'}>, <AxesSubplot:>]],\n",
       "      dtype=object)"
      ]
     },
     "execution_count": 45,
     "metadata": {},
     "output_type": "execute_result"
    },
    {
     "data": {
      "image/png": "[encoded data removed]",
      "text/plain": [
       "<Figure size 432x288 with 4 Axes>"
      ]
     },
     "metadata": {
      "needs_background": "light"
     },
     "output_type": "display_data"
    }
   ],
   "source": [
    "class1.hist()\n"
   ]
  },
  {
   "cell_type": "code",
   "execution_count": 46,
   "id": "fab889da",
   "metadata": {},
   "outputs": [
    {
     "data": {
      "text/plain": [
       "array([[<AxesSubplot:title={'center':'value'}>,\n",
       "        <AxesSubplot:title={'center':'fee'}>],\n",
       "       [<AxesSubplot:title={'center':'prediction'}>, <AxesSubplot:>]],\n",
       "      dtype=object)"
      ]
     },
     "execution_count": 46,
     "metadata": {},
     "output_type": "execute_result"
    },
    {
     "data": {
      "image/png": "[encoded data removed]",
      "text/plain": [
       "<Figure size 432x288 with 4 Axes>"
      ]
     },
     "metadata": {
      "needs_background": "light"
     },
     "output_type": "display_data"
    }
   ],
   "source": [
    "class2.hist()"
   ]
  },
  {
   "cell_type": "code",
   "execution_count": 47,
   "id": "a8096d34",
   "metadata": {},
   "outputs": [
    {
     "data": {
      "text/plain": [
       "array([[<AxesSubplot:title={'center':'value'}>,\n",
       "        <AxesSubplot:title={'center':'fee'}>],\n",
       "       [<AxesSubplot:title={'center':'prediction'}>, <AxesSubplot:>]],\n",
       "      dtype=object)"
      ]
     },
     "execution_count": 47,
     "metadata": {},
     "output_type": "execute_result"
    },
    {
     "data": {
      "image/png": "[encoded data removed]",
      "text/plain": [
       "<Figure size 432x288 with 4 Axes>"
      ]
     },
     "metadata": {
      "needs_background": "light"
     },
     "output_type": "display_data"
    }
   ],
   "source": [
    "class3.hist()"
   ]
  },
  {
   "cell_type": "code",
   "execution_count": null,
   "id": "93bb00dc",
   "metadata": {},
   "outputs": [],
   "source": []
  }
 ],
 "metadata": {
  "kernelspec": {
   "display_name": "Python 3",
   "language": "python",
   "name": "python3"
  },
  "language_info": {
   "codemirror_mode": {
    "name": "ipython",
    "version": 3
   },
   "file_extension": ".py",
   "mimetype": "text/x-python",
   "name": "python",
   "nbconvert_exporter": "python",
   "pygments_lexer": "ipython3",
   "version": "3.8.8"
  }
 },
 "nbformat": 4,
 "nbformat_minor": 5
}
