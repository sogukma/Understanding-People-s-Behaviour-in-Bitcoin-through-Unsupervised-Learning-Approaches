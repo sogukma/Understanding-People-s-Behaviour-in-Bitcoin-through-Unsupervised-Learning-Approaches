{
 "cells": [
  {
   "cell_type": "code",
   "execution_count": null,
   "id": "f06eeb32",
   "metadata": {},
   "outputs": [],
   "source": [
    "#credits\n",
    "https://towardsdatascience.com/predicate-vs-projection-pushdown-in-spark-3-ac24c4d11855\n",
    "    https://www.bmc.com/blogs/python-spark-k-means-example/\n",
    "- sampling: https://stackoverflow.com/questions/24806084/sampling-a-large-distributed-data-set-using-pyspark-spark\n",
    "- filter pushing:"
   ]
  },
  {
   "cell_type": "code",
   "execution_count": 1,
   "id": "5a90213b",
   "metadata": {},
   "outputs": [
    {
     "name": "stdout",
     "output_type": "stream",
     "text": [
      "Requirement already satisfied: pyspark in c:\\users\\enginesadmin\\anaconda3\\lib\\site-packages (3.1.2)\n",
      "Requirement already satisfied: py4j==0.10.9 in c:\\users\\enginesadmin\\anaconda3\\lib\\site-packages (from pyspark) (0.10.9)\n"
     ]
    }
   ],
   "source": [
    "!pip install pyspark\n",
    "\n"
   ]
  },
  {
   "cell_type": "code",
   "execution_count": 1,
   "id": "c7bc52d7",
   "metadata": {},
   "outputs": [],
   "source": [
    "from pyspark.sql import SparkSession\n"
   ]
  },
  {
   "cell_type": "code",
   "execution_count": 2,
   "id": "a28e4001",
   "metadata": {},
   "outputs": [],
   "source": [
    "import glob"
   ]
  },
  {
   "cell_type": "code",
   "execution_count": 3,
   "id": "e66d033f",
   "metadata": {},
   "outputs": [
    {
     "data": {
      "text/plain": [
       "'D:\\\\Bitcoin analysis'"
      ]
     },
     "execution_count": 3,
     "metadata": {},
     "output_type": "execute_result"
    }
   ],
   "source": [
    "pwd()"
   ]
  },
  {
   "cell_type": "code",
   "execution_count": 4,
   "id": "59e03481",
   "metadata": {},
   "outputs": [],
   "source": [
    "from pyspark.sql.types import StructType,StructField, StringType, IntegerType, TimestampType"
   ]
  },
  {
   "cell_type": "code",
   "execution_count": 5,
   "id": "785d5da9",
   "metadata": {},
   "outputs": [],
   "source": [
    "from pyspark.sql import functions as F\n",
    "#df.select(F.col(\"my_column\"))"
   ]
  },
  {
   "cell_type": "code",
   "execution_count": 6,
   "id": "714d69f4",
   "metadata": {},
   "outputs": [],
   "source": [
    "schema = StructType([ \\\n",
    "    StructField(\"value\",IntegerType(),True), \\\n",
    "    StructField(\"fee\",IntegerType(),True), \\\n",
    "    StructField(\"timestamp_in_unix_seconds\",IntegerType(),True), \\\n",
    "  ])"
   ]
  },
  {
   "cell_type": "code",
   "execution_count": 7,
   "id": "55c75d96",
   "metadata": {},
   "outputs": [],
   "source": [
    "\n",
    "# spark config\n",
    "from pyspark.conf import SparkConf\n",
    "\n",
    "\n",
    "config = SparkConf().setAll([ \\\n",
    "    ('spark.executor.memory', '8g'), \\\n",
    "    ('spark.executor.instances', '4'), \\\n",
    "    ('spark.driver.memory','16g'), \\\n",
    "    (\"spark.sql.parquet.filterPushdown\", \"true\"), \\\n",
    "    (\"spark.hadoop.parquet.filter.stats.enabled\", \"true\"), \\\n",
    "    (\"spark.sql.optimizer.nestedSchemaPruning.enabled\", \"true\"), \\\n",
    "    (\"spark.sql.optimizer.dynamicPartitionPruning.enabled\", \"true\") ])"
   ]
  },
  {
   "cell_type": "code",
   "execution_count": 8,
   "id": "dee7dced",
   "metadata": {},
   "outputs": [
    {
     "name": "stdout",
     "output_type": "stream",
     "text": [
      "<pyspark.conf.SparkConf object at 0x0000023103DB6760>\n",
      "local\n",
      "Clustering using K-Means\n"
     ]
    }
   ],
   "source": [
    "print(config.setMaster(\"local\").setAppName(\"Clustering using K-Means\"))\n",
    "\n",
    "print(config.get(\"spark.master\"))\n",
    "\n",
    "print(config.get(\"spark.app.name\"))\n"
   ]
  },
  {
   "cell_type": "code",
   "execution_count": 9,
   "id": "830a0d7e",
   "metadata": {},
   "outputs": [],
   "source": [
    "import time\n",
    "\n",
    "from datetime import datetime\n",
    "spark = SparkSession.builder.appName(\"Clustering using K-Means\") \\\n",
    "    .config(conf=config) \\\n",
    "    .getOrCreate() \\\n",
    "#    .option(\"failOnDataLoss\", False)\n",
    "#spark"
   ]
  },
  {
   "cell_type": "code",
   "execution_count": 10,
   "id": "b0a5cbed",
   "metadata": {},
   "outputs": [
    {
     "data": {
      "text/html": [
       "\n",
       "            <div>\n",
       "                <p><b>SparkSession - in-memory</b></p>\n",
       "                \n",
       "        <div>\n",
       "            <p><b>SparkContext</b></p>\n",
       "\n",
       "            <p><a href=\"http://10.0.7.40:4045\">Spark UI</a></p>\n",
       "\n",
       "            <dl>\n",
       "              <dt>Version</dt>\n",
       "                <dd><code>v3.1.2</code></dd>\n",
       "              <dt>Master</dt>\n",
       "                <dd><code>local</code></dd>\n",
       "              <dt>AppName</dt>\n",
       "                <dd><code>Clustering using K-Means</code></dd>\n",
       "            </dl>\n",
       "        </div>\n",
       "        \n",
       "            </div>\n",
       "        "
      ],
      "text/plain": [
       "<pyspark.sql.session.SparkSession at 0x23103f29880>"
      ]
     },
     "execution_count": 10,
     "metadata": {},
     "output_type": "execute_result"
    }
   ],
   "source": [
    "spark"
   ]
  },
  {
   "cell_type": "code",
   "execution_count": null,
   "id": "8e0fdfea",
   "metadata": {},
   "outputs": [],
   "source": []
  },
  {
   "cell_type": "code",
   "execution_count": 11,
   "id": "0bd9f22c",
   "metadata": {},
   "outputs": [
    {
     "data": {
      "text/plain": [
       "[('spark.master', 'local'),\n",
       " ('spark.executor.instances', '4'),\n",
       " ('spark.sql.parquet.filterPushdown', 'true'),\n",
       " ('spark.driver.port', '51693'),\n",
       " ('spark.executor.id', 'driver'),\n",
       " ('spark.sql.optimizer.dynamicPartitionPruning.enabled', 'true'),\n",
       " ('spark.driver.memory', '16g'),\n",
       " ('spark.app.id', 'local-1637776697631'),\n",
       " ('spark.sql.optimizer.nestedSchemaPruning.enabled', 'true'),\n",
       " ('spark.sql.warehouse.dir', 'file:/D:/Bitcoin%20analysis/spark-warehouse'),\n",
       " ('spark.rdd.compress', 'True'),\n",
       " ('spark.serializer.objectStreamReset', '100'),\n",
       " ('spark.executor.memory', '8g'),\n",
       " ('spark.submit.pyFiles', ''),\n",
       " ('spark.submit.deployMode', 'client'),\n",
       " ('spark.hadoop.parquet.filter.stats.enabled', 'true'),\n",
       " ('spark.app.startTime', '1637776694600'),\n",
       " ('spark.ui.showConsoleProgress', 'true'),\n",
       " ('spark.app.name', 'Clustering using K-Means'),\n",
       " ('spark.driver.host', '10.0.7.40')]"
      ]
     },
     "execution_count": 11,
     "metadata": {},
     "output_type": "execute_result"
    }
   ],
   "source": [
    "spark.sparkContext.getConf().getAll()"
   ]
  },
  {
   "cell_type": "code",
   "execution_count": 12,
   "id": "3d953167",
   "metadata": {},
   "outputs": [
    {
     "data": {
      "text/plain": [
       "['D:\\\\Downloads\\\\bitcoin_data_filtered\\\\bitcoin000000000000',\n",
       " 'D:\\\\Downloads\\\\bitcoin_data_filtered\\\\bitcoin000000000001',\n",
       " 'D:\\\\Downloads\\\\bitcoin_data_filtered\\\\bitcoin000000000002',\n",
       " 'D:\\\\Downloads\\\\bitcoin_data_filtered\\\\bitcoin000000000003',\n",
       " 'D:\\\\Downloads\\\\bitcoin_data_filtered\\\\bitcoin000000000004',\n",
       " 'D:\\\\Downloads\\\\bitcoin_data_filtered\\\\bitcoin000000000005',\n",
       " 'D:\\\\Downloads\\\\bitcoin_data_filtered\\\\bitcoin000000000006',\n",
       " 'D:\\\\Downloads\\\\bitcoin_data_filtered\\\\bitcoin000000000007',\n",
       " 'D:\\\\Downloads\\\\bitcoin_data_filtered\\\\bitcoin000000000008',\n",
       " 'D:\\\\Downloads\\\\bitcoin_data_filtered\\\\bitcoin000000000009',\n",
       " 'D:\\\\Downloads\\\\bitcoin_data_filtered\\\\bitcoin000000000010',\n",
       " 'D:\\\\Downloads\\\\bitcoin_data_filtered\\\\bitcoin000000000011',\n",
       " 'D:\\\\Downloads\\\\bitcoin_data_filtered\\\\bitcoin000000000012',\n",
       " 'D:\\\\Downloads\\\\bitcoin_data_filtered\\\\bitcoin000000000013',\n",
       " 'D:\\\\Downloads\\\\bitcoin_data_filtered\\\\bitcoin000000000014',\n",
       " 'D:\\\\Downloads\\\\bitcoin_data_filtered\\\\bitcoin000000000015',\n",
       " 'D:\\\\Downloads\\\\bitcoin_data_filtered\\\\bitcoin000000000016',\n",
       " 'D:\\\\Downloads\\\\bitcoin_data_filtered\\\\bitcoin000000000017',\n",
       " 'D:\\\\Downloads\\\\bitcoin_data_filtered\\\\bitcoin000000000018',\n",
       " 'D:\\\\Downloads\\\\bitcoin_data_filtered\\\\bitcoin000000000019',\n",
       " 'D:\\\\Downloads\\\\bitcoin_data_filtered\\\\bitcoin000000000020',\n",
       " 'D:\\\\Downloads\\\\bitcoin_data_filtered\\\\bitcoin000000000021',\n",
       " 'D:\\\\Downloads\\\\bitcoin_data_filtered\\\\bitcoin000000000022',\n",
       " 'D:\\\\Downloads\\\\bitcoin_data_filtered\\\\bitcoin000000000023',\n",
       " 'D:\\\\Downloads\\\\bitcoin_data_filtered\\\\bitcoin000000000024',\n",
       " 'D:\\\\Downloads\\\\bitcoin_data_filtered\\\\bitcoin000000000025',\n",
       " 'D:\\\\Downloads\\\\bitcoin_data_filtered\\\\bitcoin000000000026',\n",
       " 'D:\\\\Downloads\\\\bitcoin_data_filtered\\\\bitcoin000000000027',\n",
       " 'D:\\\\Downloads\\\\bitcoin_data_filtered\\\\bitcoin000000000028',\n",
       " 'D:\\\\Downloads\\\\bitcoin_data_filtered\\\\bitcoin000000000029',\n",
       " 'D:\\\\Downloads\\\\bitcoin_data_filtered\\\\bitcoin000000000030',\n",
       " 'D:\\\\Downloads\\\\bitcoin_data_filtered\\\\bitcoin000000000031',\n",
       " 'D:\\\\Downloads\\\\bitcoin_data_filtered\\\\bitcoin000000000032',\n",
       " 'D:\\\\Downloads\\\\bitcoin_data_filtered\\\\bitcoin000000000033',\n",
       " 'D:\\\\Downloads\\\\bitcoin_data_filtered\\\\bitcoin000000000034',\n",
       " 'D:\\\\Downloads\\\\bitcoin_data_filtered\\\\bitcoin000000000035',\n",
       " 'D:\\\\Downloads\\\\bitcoin_data_filtered\\\\bitcoin000000000036',\n",
       " 'D:\\\\Downloads\\\\bitcoin_data_filtered\\\\bitcoin000000000037',\n",
       " 'D:\\\\Downloads\\\\bitcoin_data_filtered\\\\bitcoin000000000038',\n",
       " 'D:\\\\Downloads\\\\bitcoin_data_filtered\\\\bitcoin000000000039',\n",
       " 'D:\\\\Downloads\\\\bitcoin_data_filtered\\\\bitcoin000000000040',\n",
       " 'D:\\\\Downloads\\\\bitcoin_data_filtered\\\\bitcoin000000000041',\n",
       " 'D:\\\\Downloads\\\\bitcoin_data_filtered\\\\bitcoin000000000042',\n",
       " 'D:\\\\Downloads\\\\bitcoin_data_filtered\\\\bitcoin000000000043',\n",
       " 'D:\\\\Downloads\\\\bitcoin_data_filtered\\\\bitcoin000000000044',\n",
       " 'D:\\\\Downloads\\\\bitcoin_data_filtered\\\\bitcoin000000000045',\n",
       " 'D:\\\\Downloads\\\\bitcoin_data_filtered\\\\bitcoin000000000046',\n",
       " 'D:\\\\Downloads\\\\bitcoin_data_filtered\\\\bitcoin000000000047',\n",
       " 'D:\\\\Downloads\\\\bitcoin_data_filtered\\\\bitcoin000000000048',\n",
       " 'D:\\\\Downloads\\\\bitcoin_data_filtered\\\\bitcoin000000000049',\n",
       " 'D:\\\\Downloads\\\\bitcoin_data_filtered\\\\bitcoin000000000050',\n",
       " 'D:\\\\Downloads\\\\bitcoin_data_filtered\\\\bitcoin000000000051',\n",
       " 'D:\\\\Downloads\\\\bitcoin_data_filtered\\\\bitcoin000000000052',\n",
       " 'D:\\\\Downloads\\\\bitcoin_data_filtered\\\\bitcoin000000000053',\n",
       " 'D:\\\\Downloads\\\\bitcoin_data_filtered\\\\bitcoin000000000054',\n",
       " 'D:\\\\Downloads\\\\bitcoin_data_filtered\\\\bitcoin000000000055',\n",
       " 'D:\\\\Downloads\\\\bitcoin_data_filtered\\\\bitcoin000000000056',\n",
       " 'D:\\\\Downloads\\\\bitcoin_data_filtered\\\\bitcoin000000000057',\n",
       " 'D:\\\\Downloads\\\\bitcoin_data_filtered\\\\bitcoin000000000058',\n",
       " 'D:\\\\Downloads\\\\bitcoin_data_filtered\\\\bitcoin000000000059',\n",
       " 'D:\\\\Downloads\\\\bitcoin_data_filtered\\\\bitcoin000000000060',\n",
       " 'D:\\\\Downloads\\\\bitcoin_data_filtered\\\\bitcoin000000000061',\n",
       " 'D:\\\\Downloads\\\\bitcoin_data_filtered\\\\bitcoin000000000062',\n",
       " 'D:\\\\Downloads\\\\bitcoin_data_filtered\\\\bitcoin000000000063',\n",
       " 'D:\\\\Downloads\\\\bitcoin_data_filtered\\\\bitcoin000000000064',\n",
       " 'D:\\\\Downloads\\\\bitcoin_data_filtered\\\\bitcoin000000000065',\n",
       " 'D:\\\\Downloads\\\\bitcoin_data_filtered\\\\bitcoin000000000066',\n",
       " 'D:\\\\Downloads\\\\bitcoin_data_filtered\\\\bitcoin000000000067']"
      ]
     },
     "execution_count": 12,
     "metadata": {},
     "output_type": "execute_result"
    }
   ],
   "source": [
    "import glob\n",
    "import os\n",
    "BITCOIN_PATHS = sorted(glob.glob(os.path.join(\"D:\\\\Downloads\\\\bitcoin_data_filtered\\\\\", \"*\")))\n",
    "BITCOIN_PATHS"
   ]
  },
  {
   "cell_type": "code",
   "execution_count": 13,
   "id": "cc1c00ab",
   "metadata": {},
   "outputs": [
    {
     "name": "stdout",
     "output_type": "stream",
     "text": [
      "root\n",
      " |-- value: integer (nullable = true)\n",
      " |-- fee: integer (nullable = true)\n",
      "\n"
     ]
    }
   ],
   "source": [
    "# hier wird dataframe gelesen. versuche es mit rdd .rdd()\n",
    "data_customer=spark.read.csv(BITCOIN_PATHS, header=True, schema=schema) \\\n",
    "    .select(\"value\",\"fee\") \\\n",
    "    .filter((F.col('timestamp_in_unix_seconds') >= int(time.mktime(datetime.strptime('2018-12-16', '%Y-%m-%d').timetuple()))) & (F.col('timestamp_in_unix_seconds') <= int(time.mktime(datetime.strptime('2021-04-13', '%Y-%m-%d').timetuple())))) \\\n",
    "    .persist()\n",
    "data_customer.printSchema()"
   ]
  },
  {
   "cell_type": "code",
   "execution_count": 14,
   "id": "e444ee76",
   "metadata": {},
   "outputs": [
    {
     "name": "stdout",
     "output_type": "stream",
     "text": [
      "== Physical Plan ==\n",
      "*(1) ColumnarToRow\n",
      "+- InMemoryTableScan [value#0, fee#1]\n",
      "      +- InMemoryRelation [value#0, fee#1], StorageLevel(disk, memory, deserialized, 1 replicas)\n",
      "            +- *(1) Project [value#0, fee#1]\n",
      "               +- *(1) Filter ((isnotnull(timestamp_in_unix_seconds#2) AND (timestamp_in_unix_seconds#2 >= 1544914800)) AND (timestamp_in_unix_seconds#2 <= 1618264800))\n",
      "                  +- FileScan csv [value#0,fee#1,timestamp_in_unix_seconds#2] Batched: false, DataFilters: [isnotnull(timestamp_in_unix_seconds#2), (timestamp_in_unix_seconds#2 >= 1544914800), (timestamp_..., Format: CSV, Location: InMemoryFileIndex[file:/D:/Downloads/bitcoin_data_filtered/bitcoin000000000000, file:/D:/Download..., PartitionFilters: [], PushedFilters: [IsNotNull(timestamp_in_unix_seconds), GreaterThanOrEqual(timestamp_in_unix_seconds,1544914800), ..., ReadSchema: struct<value:int,fee:int,timestamp_in_unix_seconds:int>\n",
      "\n",
      "\n"
     ]
    }
   ],
   "source": [
    "data_customer.explain()"
   ]
  },
  {
   "cell_type": "code",
   "execution_count": 15,
   "id": "ad877c30",
   "metadata": {},
   "outputs": [],
   "source": [
    "data_customer=data_customer.na.drop()"
   ]
  },
  {
   "cell_type": "code",
   "execution_count": 16,
   "id": "2451d49d",
   "metadata": {},
   "outputs": [
    {
     "name": "stdout",
     "output_type": "stream",
     "text": [
      "+------+-----+\n",
      "| value|  fee|\n",
      "+------+-----+\n",
      "|291584|36400|\n",
      "|202651| 4698|\n",
      "+------+-----+\n",
      "only showing top 2 rows\n",
      "\n"
     ]
    }
   ],
   "source": [
    "data_customer.show(2)"
   ]
  },
  {
   "cell_type": "code",
   "execution_count": 17,
   "id": "051c4c66",
   "metadata": {},
   "outputs": [],
   "source": [
    "data_customer = data_customer.sample(False,0.0001,1234)"
   ]
  },
  {
   "cell_type": "code",
   "execution_count": 18,
   "id": "ced637ef",
   "metadata": {},
   "outputs": [],
   "source": [
    "inputCols=[ 'value', 'fee']"
   ]
  },
  {
   "cell_type": "code",
   "execution_count": 19,
   "id": "4a39b1d6",
   "metadata": {},
   "outputs": [
    {
     "name": "stdout",
     "output_type": "stream",
     "text": [
      "+--------+-----+--------------------+\n",
      "|   value|  fee|            features|\n",
      "+--------+-----+--------------------+\n",
      "| 5756560| 2350|  [5756560.0,2350.0]|\n",
      "|25624323|11234|[2.5624323E7,1123...|\n",
      "+--------+-----+--------------------+\n",
      "only showing top 2 rows\n",
      "\n"
     ]
    }
   ],
   "source": [
    "# transformation task. genau wie filter, join, etc. --> bis hier wird das aber nur vorbereitet\n",
    "from pyspark.ml.feature import VectorAssembler\n",
    "data_customer.columns\n",
    "assemble=VectorAssembler(inputCols=[ 'value', 'fee'], outputCol='features')\n",
    "assembled_data=assemble.transform(data_customer)\n",
    "assembled_data.show(2)"
   ]
  },
  {
   "cell_type": "code",
   "execution_count": 20,
   "id": "d7c559ea",
   "metadata": {},
   "outputs": [
    {
     "name": "stdout",
     "output_type": "stream",
     "text": [
      "+--------+-----+--------------------+--------------------+\n",
      "|   value|  fee|            features|        standardized|\n",
      "+--------+-----+--------------------+--------------------+\n",
      "| 5756560| 2350|  [5756560.0,2350.0]|[-0.2914582798450...|\n",
      "|25624323|11234|[2.5624323E7,1123...|[-0.2102908642003...|\n",
      "+--------+-----+--------------------+--------------------+\n",
      "only showing top 2 rows\n",
      "\n"
     ]
    }
   ],
   "source": [
    "# an dieser stelle findet erstmals eine aktion statt. die vorbereiteten transformationen werden durchgeführt.\n",
    "#standarizer\n",
    "from pyspark.ml.feature import StandardScaler\n",
    "scale=StandardScaler(inputCol='features',outputCol='standardized', withMean=True, withStd=True)\n",
    "data_scale=scale.fit(assembled_data)\n",
    "data_scale_output=data_scale.transform(assembled_data)\n",
    "data_scale_output.show(2)"
   ]
  },
  {
   "cell_type": "code",
   "execution_count": 21,
   "id": "c8e3c88b",
   "metadata": {},
   "outputs": [
    {
     "name": "stdout",
     "output_type": "stream",
     "text": [
      "+--------+-----+--------------------+--------------------+--------------------+\n",
      "|   value|  fee|            features|        standardized|standardized_for_pca|\n",
      "+--------+-----+--------------------+--------------------+--------------------+\n",
      "| 5756560| 2350|  [5756560.0,2350.0]|[-0.2914582798450...|[-7.1341732176149...|\n",
      "|25624323|11234|[2.5624323E7,1123...|[-0.2102908642003...|[-5.1473969176149...|\n",
      "+--------+-----+--------------------+--------------------+--------------------+\n",
      "only showing top 2 rows\n",
      "\n"
     ]
    }
   ],
   "source": [
    "from pyspark.ml.feature import StandardScaler\n",
    "scale=StandardScaler(inputCol='features',outputCol='standardized_for_pca', withMean=True, withStd=False) # center it, but not scale it https://datascience-enthusiast.com/Python/PCA_Spark_Python_R.html\n",
    "data_scale=scale.fit(data_scale_output)\n",
    "data_scale_output=data_scale.transform(data_scale_output)\n",
    "#data_scale_output = data_scale_output.filter((F.col('standardized_for_pca') <300))\n",
    "data_scale_output.show(2)"
   ]
  },
  {
   "cell_type": "code",
   "execution_count": 22,
   "id": "9a654f9d",
   "metadata": {},
   "outputs": [],
   "source": [
    "#from pyspark.ml.linalg import Vectors\n",
    "from pyspark.ml.feature import PCA\n",
    "pca = PCA(k=2, inputCol=\"standardized_for_pca\")\n",
    "pca.setOutputCol(\"pca_features\")\n",
    "model = pca.fit(data_scale_output)\n",
    "data_scale_output = model.transform(data_scale_output)"
   ]
  },
  {
   "cell_type": "code",
   "execution_count": 23,
   "id": "268afaf1",
   "metadata": {},
   "outputs": [
    {
     "name": "stdout",
     "output_type": "stream",
     "text": [
      "+--------+-----+--------------------+--------------------+--------------------+--------------------+\n",
      "|   value|  fee|            features|        standardized|standardized_for_pca|        pca_features|\n",
      "+--------+-----+--------------------+--------------------+--------------------+--------------------+\n",
      "| 5756560| 2350|  [5756560.0,2350.0]|[-0.2914582798450...|[-7.1341732176149...|[7.13417325988974...|\n",
      "|25624323|11234|[2.5624323E7,1123...|[-0.2102908642003...|[-5.1473969176149...|[5.14739693701861...|\n",
      "+--------+-----+--------------------+--------------------+--------------------+--------------------+\n",
      "only showing top 2 rows\n",
      "\n"
     ]
    }
   ],
   "source": [
    "data_scale_output.show(2)"
   ]
  },
  {
   "cell_type": "code",
   "execution_count": 43,
   "id": "8e1a1207",
   "metadata": {},
   "outputs": [],
   "source": [
    "#data_customer = data_scale_output.toPandas()"
   ]
  },
  {
   "cell_type": "code",
   "execution_count": 24,
   "id": "f086b098",
   "metadata": {},
   "outputs": [
    {
     "name": "stdout",
     "output_type": "stream",
     "text": [
      "Silhouette Score: 0.9381982044640379\n",
      "Silhouette Score: 0.9598415138509937\n",
      "Silhouette Score: 0.9153493616493976\n",
      "Silhouette Score: 0.9317376734936202\n",
      "Silhouette Score: 0.926663078003905\n",
      "Silhouette Score: 0.9385952276011137\n",
      "Silhouette Score: 0.8972180998070991\n",
      "Silhouette Score: 0.8867098493963451\n",
      "Wall time: 19min 28s\n"
     ]
    }
   ],
   "source": [
    "%%time\n",
    "from pyspark.ml.clustering import KMeans\n",
    "from pyspark.ml.evaluation import ClusteringEvaluator\n",
    "silhouette_score=[]\n",
    "evaluator = ClusteringEvaluator(predictionCol='prediction', featuresCol='standardized', \\\n",
    "                                metricName='silhouette', distanceMeasure='squaredEuclidean')\n",
    "for i in range(2,10):\n",
    "    \n",
    "    KMeans_algo=KMeans(featuresCol='standardized', k=i, seed=1) # set seed\n",
    "    \n",
    "    KMeans_fit=KMeans_algo.fit(data_scale_output)\n",
    "    \n",
    "    output=KMeans_fit.transform(data_scale_output)\n",
    "    \n",
    "    \n",
    "    \n",
    "    score=evaluator.evaluate(output)\n",
    "    \n",
    "    silhouette_score.append(score)\n",
    "    \n",
    "    print(\"Silhouette Score:\",score)"
   ]
  },
  {
   "cell_type": "code",
   "execution_count": 26,
   "id": "60a407f8",
   "metadata": {},
   "outputs": [
    {
     "data": {
      "text/plain": [
       "Text(0, 0.5, 'silhouette score')"
      ]
     },
     "execution_count": 26,
     "metadata": {},
     "output_type": "execute_result"
    },
    {
     "data": {
      "image/png": "[encoded data removed]",
      "text/plain": [
       "<Figure size 576x432 with 1 Axes>"
      ]
     },
     "metadata": {
      "needs_background": "light"
     },
     "output_type": "display_data"
    }
   ],
   "source": [
    "#Visualizing the silhouette scores in a plot\n",
    "import matplotlib.pyplot as plt\n",
    "fig, ax = plt.subplots(1,1, figsize =(8,6))\n",
    "ax.plot(range(2,10),silhouette_score) # passe range an grösse des k an\n",
    "ax.set_xlabel(\"k\")\n",
    "ax.set_ylabel(\"silhouette score\")"
   ]
  },
  {
   "cell_type": "code",
   "execution_count": 46,
   "id": "81bb6be2",
   "metadata": {},
   "outputs": [
    {
     "data": {
      "text/plain": [
       "pyspark.sql.dataframe.DataFrame"
      ]
     },
     "execution_count": 46,
     "metadata": {},
     "output_type": "execute_result"
    }
   ],
   "source": [
    "type(data_customer)"
   ]
  },
  {
   "cell_type": "code",
   "execution_count": 21,
   "id": "be8eb067",
   "metadata": {},
   "outputs": [
    {
     "name": "stdout",
     "output_type": "stream",
     "text": [
      "Silhouette with squared euclidean distance = 0.9436336572675199\n"
     ]
    }
   ],
   "source": [
    "\n",
    "\n",
    "\n",
    "from pyspark.ml.evaluation import ClusteringEvaluator\n",
    "from pyspark.ml.clustering import KMeans\n",
    "\n",
    "# Trains a k-means model.\n",
    "kmeans = KMeans(featuresCol='standardized').setK(4).setSeed(1)\n",
    "model = kmeans.fit(data_scale_output)\n",
    "\n",
    "# Make predictions\n",
    "predictions = model.transform(data_scale_output)\n",
    "\n",
    "# Evaluate clustering by computing Silhouette score\n",
    "evaluator = ClusteringEvaluator()\n",
    "\n",
    "\n",
    "silhouette = evaluator.evaluate(predictions)\n",
    "print(\"Silhouette with squared euclidean distance = \" + str(silhouette)) \n",
    "# evaluation mit silhouette; evaluation mit SSE ist depriciated\n",
    "\n"
   ]
  },
  {
   "cell_type": "code",
   "execution_count": 48,
   "id": "f35e2f4b",
   "metadata": {},
   "outputs": [
    {
     "name": "stderr",
     "output_type": "stream",
     "text": [
      "UsageError: Cell magic `%%sql` not found.\n"
     ]
    }
   ],
   "source": [
    "%%sql\n",
    "display(predictions, data_scale_output)"
   ]
  },
  {
   "cell_type": "code",
   "execution_count": 30,
   "id": "8580eb27",
   "metadata": {},
   "outputs": [
    {
     "name": "stdout",
     "output_type": "stream",
     "text": [
      "Cluster Centers: \n",
      "[-0.23615234 -0.05044032]\n",
      "[5.32334921 0.08243789]\n",
      "[1.75994037 0.45316096]\n",
      "[ 1.08377486 25.28391804]\n"
     ]
    }
   ],
   "source": [
    "# Shows the result.\n",
    "print(\"Cluster Centers: \")\n",
    "ctr=[]\n",
    "centers = model.clusterCenters()\n",
    "for center in centers:\n",
    "    ctr.append(center)\n",
    "    print(center)"
   ]
  },
  {
   "cell_type": "code",
   "execution_count": 22,
   "id": "ac0f4f31",
   "metadata": {},
   "outputs": [],
   "source": [
    "# output of transform \"output\" or \"predictions\"\n",
    "pandasDF=predictions.toPandas()"
   ]
  },
  {
   "cell_type": "code",
   "execution_count": 33,
   "id": "23927e56",
   "metadata": {},
   "outputs": [
    {
     "data": {
      "text/html": [
       "<div>\n",
       "<style scoped>\n",
       "    .dataframe tbody tr th:only-of-type {\n",
       "        vertical-align: middle;\n",
       "    }\n",
       "\n",
       "    .dataframe tbody tr th {\n",
       "        vertical-align: top;\n",
       "    }\n",
       "\n",
       "    .dataframe thead th {\n",
       "        text-align: right;\n",
       "    }\n",
       "</style>\n",
       "<table border=\"1\" class=\"dataframe\">\n",
       "  <thead>\n",
       "    <tr style=\"text-align: right;\">\n",
       "      <th></th>\n",
       "      <th>value</th>\n",
       "      <th>fee</th>\n",
       "      <th>features</th>\n",
       "      <th>standardized</th>\n",
       "      <th>standardized_for_pca</th>\n",
       "      <th>pca_features</th>\n",
       "      <th>prediction</th>\n",
       "    </tr>\n",
       "  </thead>\n",
       "  <tbody>\n",
       "    <tr>\n",
       "      <th>0</th>\n",
       "      <td>5756560</td>\n",
       "      <td>2350</td>\n",
       "      <td>[5756560.0, 2350.0]</td>\n",
       "      <td>[-0.2914582798450074, -0.19171781671300592]</td>\n",
       "      <td>[-71341732.17614995, -16880.32121900434]</td>\n",
       "      <td>[71341732.59889749, -14987.533661821673]</td>\n",
       "      <td>0</td>\n",
       "    </tr>\n",
       "    <tr>\n",
       "      <th>1</th>\n",
       "      <td>25624323</td>\n",
       "      <td>11234</td>\n",
       "      <td>[25624323.0, 11234.0]</td>\n",
       "      <td>[-0.21029086420039356, -0.09081801382532093]</td>\n",
       "      <td>[-51473969.17614995, -7996.321219004341]</td>\n",
       "      <td>[51473969.37018612, -6630.650870128793]</td>\n",
       "      <td>0</td>\n",
       "    </tr>\n",
       "    <tr>\n",
       "      <th>2</th>\n",
       "      <td>17204912</td>\n",
       "      <td>6999</td>\n",
       "      <td>[17204912.0, 6999.0]</td>\n",
       "      <td>[-0.24468738041209961, -0.13891691806095194]</td>\n",
       "      <td>[-59893380.17614995, -12231.321219004341]</td>\n",
       "      <td>[59893380.47958285, -10642.273108616428]</td>\n",
       "      <td>0</td>\n",
       "    </tr>\n",
       "    <tr>\n",
       "      <th>3</th>\n",
       "      <td>97600</td>\n",
       "      <td>7347</td>\n",
       "      <td>[97600.0, 7347.0]</td>\n",
       "      <td>[-0.31457729724199585, -0.13496451695729206]</td>\n",
       "      <td>[-77000692.17614995, -11883.321219004341]</td>\n",
       "      <td>[77000692.46432899, -9840.394205030001]</td>\n",
       "      <td>0</td>\n",
       "    </tr>\n",
       "    <tr>\n",
       "      <th>4</th>\n",
       "      <td>3547909</td>\n",
       "      <td>573</td>\n",
       "      <td>[3547909.0, 573.0]</td>\n",
       "      <td>[-0.3004814644748468, -0.2119000487854301]</td>\n",
       "      <td>[-73550383.17614995, -18657.32121900434]</td>\n",
       "      <td>[73550383.64526622, -16705.93532064131]</td>\n",
       "      <td>0</td>\n",
       "    </tr>\n",
       "    <tr>\n",
       "      <th>...</th>\n",
       "      <td>...</td>\n",
       "      <td>...</td>\n",
       "      <td>...</td>\n",
       "      <td>...</td>\n",
       "      <td>...</td>\n",
       "      <td>...</td>\n",
       "      <td>...</td>\n",
       "    </tr>\n",
       "    <tr>\n",
       "      <th>26410</th>\n",
       "      <td>1859098</td>\n",
       "      <td>23039</td>\n",
       "      <td>[1859098.0, 23039.0]</td>\n",
       "      <td>[-0.30738090375153815, 0.04325697188934831]</td>\n",
       "      <td>[-75239194.17614995, 3808.6787809956586]</td>\n",
       "      <td>[75239194.04862009, 5804.870990834383]</td>\n",
       "      <td>0</td>\n",
       "    </tr>\n",
       "    <tr>\n",
       "      <th>26411</th>\n",
       "      <td>7236504</td>\n",
       "      <td>2712</td>\n",
       "      <td>[7236504.0, 2712.0]</td>\n",
       "      <td>[-0.2854121422008875, -0.18760641096724479]</td>\n",
       "      <td>[-69861788.17614995, -16518.32121900434]</td>\n",
       "      <td>[69861788.58981404, -14664.798472240174]</td>\n",
       "      <td>0</td>\n",
       "    </tr>\n",
       "    <tr>\n",
       "      <th>26412</th>\n",
       "      <td>9618009</td>\n",
       "      <td>6249</td>\n",
       "      <td>[9618009.0, 6249.0]</td>\n",
       "      <td>[-0.27568278282637076, -0.14743502388780513]</td>\n",
       "      <td>[-67480283.17614995, -12981.321219004341]</td>\n",
       "      <td>[67480283.49681106, -11190.98285210497]</td>\n",
       "      <td>0</td>\n",
       "    </tr>\n",
       "    <tr>\n",
       "      <th>26413</th>\n",
       "      <td>3044236</td>\n",
       "      <td>9126</td>\n",
       "      <td>[3044236.0, 9126.0]</td>\n",
       "      <td>[-0.3025391614455611, -0.1147595699359963]</td>\n",
       "      <td>[-74054056.17614995, -10104.321219004341]</td>\n",
       "      <td>[74054056.41816692, -8139.572233701048]</td>\n",
       "      <td>0</td>\n",
       "    </tr>\n",
       "    <tr>\n",
       "      <th>26414</th>\n",
       "      <td>512623</td>\n",
       "      <td>17866</td>\n",
       "      <td>[512623.0, 17866.0]</td>\n",
       "      <td>[-0.3128817694494067, -0.015495243367067106]</td>\n",
       "      <td>[-76585669.17614995, -1364.3212190043414]</td>\n",
       "      <td>[76585669.1853925, 667.5946993876641]</td>\n",
       "      <td>0</td>\n",
       "    </tr>\n",
       "  </tbody>\n",
       "</table>\n",
       "<p>26415 rows × 7 columns</p>\n",
       "</div>"
      ],
      "text/plain": [
       "          value    fee               features  \\\n",
       "0       5756560   2350    [5756560.0, 2350.0]   \n",
       "1      25624323  11234  [25624323.0, 11234.0]   \n",
       "2      17204912   6999   [17204912.0, 6999.0]   \n",
       "3         97600   7347      [97600.0, 7347.0]   \n",
       "4       3547909    573     [3547909.0, 573.0]   \n",
       "...         ...    ...                    ...   \n",
       "26410   1859098  23039   [1859098.0, 23039.0]   \n",
       "26411   7236504   2712    [7236504.0, 2712.0]   \n",
       "26412   9618009   6249    [9618009.0, 6249.0]   \n",
       "26413   3044236   9126    [3044236.0, 9126.0]   \n",
       "26414    512623  17866    [512623.0, 17866.0]   \n",
       "\n",
       "                                       standardized  \\\n",
       "0       [-0.2914582798450074, -0.19171781671300592]   \n",
       "1      [-0.21029086420039356, -0.09081801382532093]   \n",
       "2      [-0.24468738041209961, -0.13891691806095194]   \n",
       "3      [-0.31457729724199585, -0.13496451695729206]   \n",
       "4        [-0.3004814644748468, -0.2119000487854301]   \n",
       "...                                             ...   \n",
       "26410   [-0.30738090375153815, 0.04325697188934831]   \n",
       "26411   [-0.2854121422008875, -0.18760641096724479]   \n",
       "26412  [-0.27568278282637076, -0.14743502388780513]   \n",
       "26413    [-0.3025391614455611, -0.1147595699359963]   \n",
       "26414  [-0.3128817694494067, -0.015495243367067106]   \n",
       "\n",
       "                            standardized_for_pca  \\\n",
       "0       [-71341732.17614995, -16880.32121900434]   \n",
       "1       [-51473969.17614995, -7996.321219004341]   \n",
       "2      [-59893380.17614995, -12231.321219004341]   \n",
       "3      [-77000692.17614995, -11883.321219004341]   \n",
       "4       [-73550383.17614995, -18657.32121900434]   \n",
       "...                                          ...   \n",
       "26410   [-75239194.17614995, 3808.6787809956586]   \n",
       "26411   [-69861788.17614995, -16518.32121900434]   \n",
       "26412  [-67480283.17614995, -12981.321219004341]   \n",
       "26413  [-74054056.17614995, -10104.321219004341]   \n",
       "26414  [-76585669.17614995, -1364.3212190043414]   \n",
       "\n",
       "                                   pca_features  prediction  \n",
       "0      [71341732.59889749, -14987.533661821673]           0  \n",
       "1       [51473969.37018612, -6630.650870128793]           0  \n",
       "2      [59893380.47958285, -10642.273108616428]           0  \n",
       "3       [77000692.46432899, -9840.394205030001]           0  \n",
       "4       [73550383.64526622, -16705.93532064131]           0  \n",
       "...                                         ...         ...  \n",
       "26410    [75239194.04862009, 5804.870990834383]           0  \n",
       "26411  [69861788.58981404, -14664.798472240174]           0  \n",
       "26412   [67480283.49681106, -11190.98285210497]           0  \n",
       "26413   [74054056.41816692, -8139.572233701048]           0  \n",
       "26414     [76585669.1853925, 667.5946993876641]           0  \n",
       "\n",
       "[26415 rows x 7 columns]"
      ]
     },
     "execution_count": 33,
     "metadata": {},
     "output_type": "execute_result"
    }
   ],
   "source": [
    "pandasDF\n",
    "#wieso wurden orignaldaten in model gegeben? wieso nicht einfach nur standardized? \n",
    "# -- tatsächlich wurden nur standardized /features bearbeitet"
   ]
  },
  {
   "cell_type": "code",
   "execution_count": 34,
   "id": "6f6ad9d7",
   "metadata": {},
   "outputs": [
    {
     "data": {
      "text/html": [
       "<div>\n",
       "<style scoped>\n",
       "    .dataframe tbody tr th:only-of-type {\n",
       "        vertical-align: middle;\n",
       "    }\n",
       "\n",
       "    .dataframe tbody tr th {\n",
       "        vertical-align: top;\n",
       "    }\n",
       "\n",
       "    .dataframe thead th {\n",
       "        text-align: right;\n",
       "    }\n",
       "</style>\n",
       "<table border=\"1\" class=\"dataframe\">\n",
       "  <thead>\n",
       "    <tr style=\"text-align: right;\">\n",
       "      <th></th>\n",
       "      <th>value</th>\n",
       "      <th>fee</th>\n",
       "    </tr>\n",
       "  </thead>\n",
       "  <tbody>\n",
       "    <tr>\n",
       "      <th>0</th>\n",
       "      <td>-0.236152</td>\n",
       "      <td>-0.050440</td>\n",
       "    </tr>\n",
       "    <tr>\n",
       "      <th>1</th>\n",
       "      <td>5.323349</td>\n",
       "      <td>0.082438</td>\n",
       "    </tr>\n",
       "    <tr>\n",
       "      <th>2</th>\n",
       "      <td>1.759940</td>\n",
       "      <td>0.453161</td>\n",
       "    </tr>\n",
       "    <tr>\n",
       "      <th>3</th>\n",
       "      <td>1.083775</td>\n",
       "      <td>25.283918</td>\n",
       "    </tr>\n",
       "  </tbody>\n",
       "</table>\n",
       "</div>"
      ],
      "text/plain": [
       "      value        fee\n",
       "0 -0.236152  -0.050440\n",
       "1  5.323349   0.082438\n",
       "2  1.759940   0.453161\n",
       "3  1.083775  25.283918"
      ]
     },
     "execution_count": 34,
     "metadata": {},
     "output_type": "execute_result"
    }
   ],
   "source": [
    "import pandas as pd\n",
    "centers = pd.DataFrame(ctr,columns=inputCols)\n",
    "centers # könnte man einzeichnen, wenn man plot mit skalierten daten (nicht pca -daten) macht"
   ]
  },
  {
   "cell_type": "code",
   "execution_count": 35,
   "id": "239b6bfe",
   "metadata": {},
   "outputs": [
    {
     "ename": "NameError",
     "evalue": "name 'data_pca' is not defined",
     "output_type": "error",
     "traceback": [
      "\u001b[1;31m---------------------------------------------------------------------------\u001b[0m",
      "\u001b[1;31mNameError\u001b[0m                                 Traceback (most recent call last)",
      "\u001b[1;32m<ipython-input-35-4c74042d8eab>\u001b[0m in \u001b[0;36m<module>\u001b[1;34m\u001b[0m\n\u001b[1;32m----> 1\u001b[1;33m \u001b[0mdata_pca\u001b[0m\u001b[1;33m.\u001b[0m\u001b[0mdtypes\u001b[0m\u001b[1;33m\u001b[0m\u001b[1;33m\u001b[0m\u001b[0m\n\u001b[0m",
      "\u001b[1;31mNameError\u001b[0m: name 'data_pca' is not defined"
     ]
    }
   ],
   "source": [
    "data_pca.dtypes"
   ]
  },
  {
   "cell_type": "code",
   "execution_count": 36,
   "id": "93cf14c7",
   "metadata": {},
   "outputs": [],
   "source": [
    "# plot pca\n",
    "#pca_pandas = pandasDF.toPandas()\n",
    "x = []\n",
    "y = []\n",
    "for i, j in pandasDF[\"pca_features\"].values:\n",
    "    x.append(i)\n",
    "    y.append(j)"
   ]
  },
  {
   "cell_type": "code",
   "execution_count": 37,
   "id": "338774f1",
   "metadata": {},
   "outputs": [
    {
     "name": "stderr",
     "output_type": "stream",
     "text": [
      "No handles with labels found to put in legend.\n"
     ]
    },
    {
     "data": {
      "text/plain": [
       "<matplotlib.legend.Legend at 0x1e8dcd78a00>"
      ]
     },
     "execution_count": 37,
     "metadata": {},
     "output_type": "execute_result"
    },
    {
     "data": {
      "image/png": "[encoded data removed]",
      "text/plain": [
       "<Figure size 432x288 with 1 Axes>"
      ]
     },
     "metadata": {
      "needs_background": "light"
     },
     "output_type": "display_data"
    }
   ],
   "source": [
    "import matplotlib.pyplot as plt\n",
    "plt.scatter(y=y,x=x, c=pandasDF[\"prediction\"].values, cmap='brg')\n",
    "plt.legend()"
   ]
  },
  {
   "cell_type": "code",
   "execution_count": 23,
   "id": "5445b44c",
   "metadata": {},
   "outputs": [],
   "source": [
    "# bring scaled values(value, fee) into list\n",
    "x = []\n",
    "y = []\n",
    "for i, j in pandasDF[\"standardized\"].values:\n",
    "    x.append(i)\n",
    "    y.append(j)"
   ]
  },
  {
   "cell_type": "code",
   "execution_count": 24,
   "id": "d3430dfd",
   "metadata": {},
   "outputs": [
    {
     "data": {
      "image/png": "[encoded data removed]",
      "text/plain": [
       "<Figure size 432x288 with 1 Axes>"
      ]
     },
     "metadata": {
      "needs_background": "light"
     },
     "output_type": "display_data"
    }
   ],
   "source": [
    "import matplotlib.pyplot as plt\n",
    "\n",
    "# plot mit scaled daten: value vs. fee\n",
    "#todo: outlier entfernen\n",
    "#todo: mean centers rein tun\n",
    "import numpy as np\n",
    "scatter_x = np.array(x) # scaled bitcoin transaction value\n",
    "scatter_y = np.array(y) # scaled bitcoin transaction fee\n",
    "group = np.array(pandasDF['prediction'])\n",
    "\n",
    "cdict = {0: 'red', 1: 'blue', 2: 'green', 3: 'orange'}\n",
    "fig, ax = plt.subplots()\n",
    "for g in np.unique(group):\n",
    "    ix = np.where(group == g)\n",
    "    ax.scatter(scatter_x[ix], scatter_y[ix], c = cdict[g], label = g+1)\n",
    "ax.legend()\n",
    "plt.xlabel(\"value\")\n",
    "plt.ylabel(\"fee\")\n",
    "plt.show()\n",
    "\n",
    "#plt.scatter(y=pandasDF[\"fee\"],x=pandasDF[\"value\"], c=pandasDF[\"prediction\"], cmap='brg')\n",
    "#plt.legend()\n",
    "\n",
    "#plt.scatter(y=y,x=x, c=pandasDF[\"prediction\"].values, cmap='brg')\n",
    "#plt.legend()\n",
    "\n",
    "\n",
    "\n"
   ]
  },
  {
   "cell_type": "code",
   "execution_count": null,
   "id": "3301a93d",
   "metadata": {},
   "outputs": [],
   "source": [
    "# interpretation:\n",
    "- 2010-2011 waren fees sehr günstig. zum teil waren transaktionen auch gratis. daher ist fee relativ weit unten\n",
    "- fee plot ist auch etwas gezerrt wegen outlier oben\n",
    "- die drei cluster\n",
    "-- transaktionen mit wenig fee und wenig betrag\n",
    "-- transaktionen mit wenig fee und viel betrag\n",
    "-- transaktionen mit etwas höherem fees haben etwas höheren betrag"
   ]
  },
  {
   "cell_type": "code",
   "execution_count": null,
   "id": "a02ee52f",
   "metadata": {},
   "outputs": [],
   "source": [
    "# bezug zu orignaldaten machen: im folgenden wird nicht mit skalierten werten gearbeitet, damit mehr einblick in daten möglich wird"
   ]
  },
  {
   "cell_type": "code",
   "execution_count": 25,
   "id": "7a135c69",
   "metadata": {},
   "outputs": [],
   "source": [
    "class1 = pandasDF.loc[pandasDF['prediction'] == 0]\n",
    "class2 = pandasDF.loc[pandasDF['prediction'] == 1]\n",
    "class3 = pandasDF.loc[pandasDF['prediction'] == 2]\n",
    "class4 = pandasDF.loc[pandasDF['prediction'] == 3]"
   ]
  },
  {
   "cell_type": "code",
   "execution_count": 26,
   "id": "f52c1871",
   "metadata": {},
   "outputs": [
    {
     "data": {
      "text/plain": [
       "{'whiskers': [<matplotlib.lines.Line2D at 0x26d4ea81bb0>,\n",
       "  <matplotlib.lines.Line2D at 0x26d4ea84190>,\n",
       "  <matplotlib.lines.Line2D at 0x26d4ea92790>,\n",
       "  <matplotlib.lines.Line2D at 0x26d4ea92760>,\n",
       "  <matplotlib.lines.Line2D at 0x26d4ea9ef70>,\n",
       "  <matplotlib.lines.Line2D at 0x26d4ea9ed30>,\n",
       "  <matplotlib.lines.Line2D at 0x26d4eaad0d0>,\n",
       "  <matplotlib.lines.Line2D at 0x26d4eab0430>],\n",
       " 'caps': [<matplotlib.lines.Line2D at 0x26d4ea875e0>,\n",
       "  <matplotlib.lines.Line2D at 0x26d4ea878e0>,\n",
       "  <matplotlib.lines.Line2D at 0x26d4ea95dc0>,\n",
       "  <matplotlib.lines.Line2D at 0x26d4ea95be0>,\n",
       "  <matplotlib.lines.Line2D at 0x26d4eaa1130>,\n",
       "  <matplotlib.lines.Line2D at 0x26d4eaa5790>,\n",
       "  <matplotlib.lines.Line2D at 0x26d4eab0700>,\n",
       "  <matplotlib.lines.Line2D at 0x26d4eab4dc0>],\n",
       " 'boxes': [<matplotlib.lines.Line2D at 0x26d4ea81c10>,\n",
       "  <matplotlib.lines.Line2D at 0x26d4ea8f190>,\n",
       "  <matplotlib.lines.Line2D at 0x26d4ea9b730>,\n",
       "  <matplotlib.lines.Line2D at 0x26d4eaa9bb0>],\n",
       " 'medians': [<matplotlib.lines.Line2D at 0x26d4ea8c1c0>,\n",
       "  <matplotlib.lines.Line2D at 0x26d4ea98280>,\n",
       "  <matplotlib.lines.Line2D at 0x26d4eaa57c0>,\n",
       "  <matplotlib.lines.Line2D at 0x26d4eab4d30>],\n",
       " 'fliers': [<matplotlib.lines.Line2D at 0x26d4ea8cd30>,\n",
       "  <matplotlib.lines.Line2D at 0x26d4ea9b430>,\n",
       "  <matplotlib.lines.Line2D at 0x26d4eaa9dc0>,\n",
       "  <matplotlib.lines.Line2D at 0x26d4eab7130>],\n",
       " 'means': []}"
      ]
     },
     "execution_count": 26,
     "metadata": {},
     "output_type": "execute_result"
    },
    {
     "data": {
      "image/png": "[encoded data removed]",
      "text/plain": [
       "<Figure size 432x288 with 1 Axes>"
      ]
     },
     "metadata": {
      "needs_background": "light"
     },
     "output_type": "display_data"
    }
   ],
   "source": [
    "plt.boxplot([class1[\"value\"], class2[\"value\"], class3[\"value\"], class4[\"value\"]])"
   ]
  },
  {
   "cell_type": "code",
   "execution_count": 27,
   "id": "0a563a9f",
   "metadata": {},
   "outputs": [
    {
     "data": {
      "text/plain": [
       "{'whiskers': [<matplotlib.lines.Line2D at 0x26d4eb2a220>,\n",
       "  <matplotlib.lines.Line2D at 0x26d4eb2e670>,\n",
       "  <matplotlib.lines.Line2D at 0x26d4eb387f0>,\n",
       "  <matplotlib.lines.Line2D at 0x26d4eb3b400>,\n",
       "  <matplotlib.lines.Line2D at 0x26d4eb46dc0>,\n",
       "  <matplotlib.lines.Line2D at 0x26d4eb4b190>,\n",
       "  <matplotlib.lines.Line2D at 0x26d4eb59310>,\n",
       "  <matplotlib.lines.Line2D at 0x26d4eb596a0>],\n",
       " 'caps': [<matplotlib.lines.Line2D at 0x26d4eb2e940>,\n",
       "  <matplotlib.lines.Line2D at 0x26d4eb315b0>,\n",
       "  <matplotlib.lines.Line2D at 0x26d4eb3be20>,\n",
       "  <matplotlib.lines.Line2D at 0x26d4eb3f220>,\n",
       "  <matplotlib.lines.Line2D at 0x26d4eb4f670>,\n",
       "  <matplotlib.lines.Line2D at 0x26d4eb4f7f0>,\n",
       "  <matplotlib.lines.Line2D at 0x26d4eb5c2b0>,\n",
       "  <matplotlib.lines.Line2D at 0x26d4eb5ce80>],\n",
       " 'boxes': [<matplotlib.lines.Line2D at 0x26d4eb26e20>,\n",
       "  <matplotlib.lines.Line2D at 0x26d4eb38670>,\n",
       "  <matplotlib.lines.Line2D at 0x26d4eb46250>,\n",
       "  <matplotlib.lines.Line2D at 0x26d4eb55070>],\n",
       " 'medians': [<matplotlib.lines.Line2D at 0x26d4eb31df0>,\n",
       "  <matplotlib.lines.Line2D at 0x26d4eb424c0>,\n",
       "  <matplotlib.lines.Line2D at 0x26d4eb52460>,\n",
       "  <matplotlib.lines.Line2D at 0x26d4eb60310>],\n",
       " 'fliers': [<matplotlib.lines.Line2D at 0x26d4eb351c0>,\n",
       "  <matplotlib.lines.Line2D at 0x26d4eb42790>,\n",
       "  <matplotlib.lines.Line2D at 0x26d4eb52c70>,\n",
       "  <matplotlib.lines.Line2D at 0x26d4eb639d0>],\n",
       " 'means': []}"
      ]
     },
     "execution_count": 27,
     "metadata": {},
     "output_type": "execute_result"
    },
    {
     "data": {
      "image/png": "[encoded data removed]",
      "text/plain": [
       "<Figure size 432x288 with 1 Axes>"
      ]
     },
     "metadata": {
      "needs_background": "light"
     },
     "output_type": "display_data"
    }
   ],
   "source": [
    "plt.boxplot([class1[\"fee\"], class2[\"fee\"], class3[\"fee\"], class4[\"fee\"]])"
   ]
  },
  {
   "cell_type": "code",
   "execution_count": 196,
   "id": "2b54b6e7",
   "metadata": {},
   "outputs": [
    {
     "data": {
      "text/plain": [
       "(0.0, 10.0)"
      ]
     },
     "execution_count": 196,
     "metadata": {},
     "output_type": "execute_result"
    },
    {
     "data": {
      "image/png": "[encoded data removed]",
      "text/plain": [
       "<Figure size 432x288 with 1 Axes>"
      ]
     },
     "metadata": {
      "needs_background": "light"
     },
     "output_type": "display_data"
    }
   ],
   "source": [
    "import matplotlib.pyplot as plt\n",
    "\n",
    "# An \"interface\" to matplotlib.axes.Axes.hist() method\n",
    "n, bins, patches = plt.hist(x=class3[\"value\"], bins='auto', color='#0504aa',\n",
    "                            alpha=0.7, rwidth=0.85)\n",
    "plt.grid(axis='y', alpha=0.75)\n",
    "plt.xlabel('Value')\n",
    "plt.ylabel('Frequency')\n",
    "plt.title('My Very Own Histogram')\n",
    "plt.text(23, 45, r'$\\mu=15, b=3$')\n",
    "maxfreq = n.max()\n",
    "# Set a clean upper y-axis limit.\n",
    "plt.ylim(ymax=np.ceil(maxfreq / 10) * 10 if maxfreq % 10 else maxfreq + 10)\n"
   ]
  },
  {
   "cell_type": "code",
   "execution_count": 110,
   "id": "ef8f97bb",
   "metadata": {},
   "outputs": [
    {
     "data": {
      "image/png": "[encoded data removed]",
      "text/plain": [
       "<Figure size 432x288 with 1 Axes>"
      ]
     },
     "metadata": {
      "needs_background": "light"
     },
     "output_type": "display_data"
    }
   ],
   "source": [
    "import pandas as pd\n",
    "\n",
    "# Generate data on commute times.\n",
    "size, scale = 1000, 10\n",
    "commutes = pd.Series(np.random.gamma(scale, size=size) ** 1.5)\n",
    "\n",
    "commutes.plot.hist(grid=True, bins=20, rwidth=0.9,\n",
    "                   color='#607c8e')\n",
    "plt.title('Commute Times for 1,000 Commuters')\n",
    "plt.xlabel('Counts')\n",
    "plt.ylabel('Commute Time')\n",
    "plt.grid(axis='y', alpha=0.75)"
   ]
  },
  {
   "cell_type": "code",
   "execution_count": 106,
   "id": "e64dbfb9",
   "metadata": {},
   "outputs": [],
   "source": [
    "hist, bin_edges = np.histogram(class1[\"value\"])"
   ]
  },
  {
   "cell_type": "code",
   "execution_count": 108,
   "id": "0944e796",
   "metadata": {},
   "outputs": [
    {
     "data": {
      "text/plain": [
       "(array([3.03000000e+08, 4.87424541e+08, 6.71849081e+08, 8.56273622e+08,\n",
       "        1.04069816e+09, 1.22512270e+09, 1.40954724e+09, 1.59397178e+09,\n",
       "        1.77839632e+09, 1.96282087e+09, 2.14724541e+09]),\n",
       " array([    6,    20,  5921, 14805,  8915,  7686,  8019,  7191,  7198,\n",
       "         8992], dtype=int64))"
      ]
     },
     "execution_count": 108,
     "metadata": {},
     "output_type": "execute_result"
    }
   ],
   "source": [
    "bin_edges, hist"
   ]
  },
  {
   "cell_type": "code",
   "execution_count": 92,
   "id": "b721c3ca",
   "metadata": {},
   "outputs": [
    {
     "ename": "NameError",
     "evalue": "name 'a' is not defined",
     "output_type": "error",
     "traceback": [
      "\u001b[1;31m---------------------------------------------------------------------------\u001b[0m",
      "\u001b[1;31mNameError\u001b[0m                                 Traceback (most recent call last)",
      "\u001b[1;32m<ipython-input-92-3f786850e387>\u001b[0m in \u001b[0;36m<module>\u001b[1;34m\u001b[0m\n\u001b[1;32m----> 1\u001b[1;33m \u001b[0ma\u001b[0m\u001b[1;33m\u001b[0m\u001b[1;33m\u001b[0m\u001b[0m\n\u001b[0m",
      "\u001b[1;31mNameError\u001b[0m: name 'a' is not defined"
     ]
    }
   ],
   "source": [
    "a"
   ]
  },
  {
   "cell_type": "code",
   "execution_count": 70,
   "id": "814ec078",
   "metadata": {},
   "outputs": [
    {
     "data": {
      "text/plain": [
       "value         int32\n",
       "fee           int32\n",
       "prediction    int32\n",
       "dtype: object"
      ]
     },
     "execution_count": 70,
     "metadata": {},
     "output_type": "execute_result"
    }
   ],
   "source": [
    "class1.dtypes"
   ]
  },
  {
   "cell_type": "code",
   "execution_count": 53,
   "id": "f89d3b34",
   "metadata": {},
   "outputs": [
    {
     "data": {
      "text/plain": [
       "412539632.952635"
      ]
     },
     "execution_count": 53,
     "metadata": {},
     "output_type": "execute_result"
    }
   ],
   "source": [
    "class1[\"value\"].std()"
   ]
  },
  {
   "cell_type": "code",
   "execution_count": 54,
   "id": "bf6cc88d",
   "metadata": {},
   "outputs": [
    {
     "data": {
      "text/plain": [
       "816439.9690566078"
      ]
     },
     "execution_count": 54,
     "metadata": {},
     "output_type": "execute_result"
    }
   ],
   "source": [
    "class1[\"fee\"].std()"
   ]
  },
  {
   "cell_type": "code",
   "execution_count": 55,
   "id": "e718537f",
   "metadata": {},
   "outputs": [
    {
     "data": {
      "text/plain": [
       "1385349791.0699751"
      ]
     },
     "execution_count": 55,
     "metadata": {},
     "output_type": "execute_result"
    }
   ],
   "source": [
    "class1[\"value\"].mean()"
   ]
  },
  {
   "cell_type": "code",
   "execution_count": 56,
   "id": "9d228d31",
   "metadata": {},
   "outputs": [
    {
     "data": {
      "text/plain": [
       "192527991.7040208"
      ]
     },
     "execution_count": 56,
     "metadata": {},
     "output_type": "execute_result"
    }
   ],
   "source": [
    "class2[\"value\"].std()"
   ]
  },
  {
   "cell_type": "code",
   "execution_count": 57,
   "id": "4acdf8c9",
   "metadata": {},
   "outputs": [
    {
     "data": {
      "text/plain": [
       "494607.6801251146"
      ]
     },
     "execution_count": 57,
     "metadata": {},
     "output_type": "execute_result"
    }
   ],
   "source": [
    "class2[\"fee\"].std()"
   ]
  },
  {
   "cell_type": "code",
   "execution_count": 58,
   "id": "b704a77d",
   "metadata": {},
   "outputs": [
    {
     "data": {
      "text/plain": [
       "307382.71877590794"
      ]
     },
     "execution_count": 58,
     "metadata": {},
     "output_type": "execute_result"
    }
   ],
   "source": [
    "class1[\"fee\"].mean()"
   ]
  },
  {
   "cell_type": "code",
   "execution_count": 59,
   "id": "74d7e402",
   "metadata": {},
   "outputs": [
    {
     "data": {
      "text/plain": [
       "138226635.02230284"
      ]
     },
     "execution_count": 59,
     "metadata": {},
     "output_type": "execute_result"
    }
   ],
   "source": [
    "class2[\"value\"].mean()"
   ]
  },
  {
   "cell_type": "code",
   "execution_count": 60,
   "id": "f38c36d9",
   "metadata": {},
   "outputs": [
    {
     "data": {
      "text/plain": [
       "219192.35550517545"
      ]
     },
     "execution_count": 60,
     "metadata": {},
     "output_type": "execute_result"
    }
   ],
   "source": [
    "class2[\"fee\"].mean()"
   ]
  },
  {
   "cell_type": "code",
   "execution_count": 61,
   "id": "96028541",
   "metadata": {},
   "outputs": [
    {
     "data": {
      "text/plain": [
       "513883523.4715998"
      ]
     },
     "execution_count": 61,
     "metadata": {},
     "output_type": "execute_result"
    }
   ],
   "source": [
    "class3[\"value\"].std()"
   ]
  },
  {
   "cell_type": "code",
   "execution_count": 62,
   "id": "c45a26bc",
   "metadata": {},
   "outputs": [
    {
     "data": {
      "text/plain": [
       "46099294.37783969"
      ]
     },
     "execution_count": 62,
     "metadata": {},
     "output_type": "execute_result"
    }
   ],
   "source": [
    "class3[\"fee\"].std()"
   ]
  },
  {
   "cell_type": "code",
   "execution_count": 63,
   "id": "0d473618",
   "metadata": {},
   "outputs": [
    {
     "data": {
      "text/plain": [
       "1215000002.3666666"
      ]
     },
     "execution_count": 63,
     "metadata": {},
     "output_type": "execute_result"
    }
   ],
   "source": [
    "class3[\"value\"].mean()"
   ]
  },
  {
   "cell_type": "code",
   "execution_count": 64,
   "id": "db0c13b2",
   "metadata": {},
   "outputs": [
    {
     "data": {
      "text/plain": [
       "1215000002.3666666"
      ]
     },
     "execution_count": 64,
     "metadata": {},
     "output_type": "execute_result"
    }
   ],
   "source": [
    "class3[\"value\"].mean()"
   ]
  },
  {
   "cell_type": "code",
   "execution_count": 18,
   "id": "8cbfedff",
   "metadata": {},
   "outputs": [],
   "source": [
    "  \n"
   ]
  }
 ],
 "metadata": {
  "kernelspec": {
   "display_name": "Python 3",
   "language": "python",
   "name": "python3"
  },
  "language_info": {
   "codemirror_mode": {
    "name": "ipython",
    "version": 3
   },
   "file_extension": ".py",
   "mimetype": "text/x-python",
   "name": "python",
   "nbconvert_exporter": "python",
   "pygments_lexer": "ipython3",
   "version": "3.8.8"
  }
 },
 "nbformat": 4,
 "nbformat_minor": 5
}
