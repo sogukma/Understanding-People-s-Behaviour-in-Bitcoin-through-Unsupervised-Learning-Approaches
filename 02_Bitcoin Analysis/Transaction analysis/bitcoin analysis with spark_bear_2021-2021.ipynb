{
 "cells": [
  {
   "cell_type": "code",
   "execution_count": null,
   "id": "f06eeb32",
   "metadata": {},
   "outputs": [],
   "source": [
    "#credits\n",
    "https://towardsdatascience.com/predicate-vs-projection-pushdown-in-spark-3-ac24c4d11855\n",
    "    https://www.bmc.com/blogs/python-spark-k-means-example/\n",
    "- sampling: https://stackoverflow.com/questions/24806084/sampling-a-large-distributed-data-set-using-pyspark-spark\n",
    "- filter pushing:"
   ]
  },
  {
   "cell_type": "code",
   "execution_count": 1,
   "id": "5a90213b",
   "metadata": {},
   "outputs": [
    {
     "name": "stdout",
     "output_type": "stream",
     "text": [
      "Requirement already satisfied: pyspark in c:\\users\\enginesadmin\\anaconda3\\lib\\site-packages (3.1.2)\n",
      "Requirement already satisfied: py4j==0.10.9 in c:\\users\\enginesadmin\\anaconda3\\lib\\site-packages (from pyspark) (0.10.9)\n"
     ]
    }
   ],
   "source": [
    "!pip install pyspark\n",
    "\n"
   ]
  },
  {
   "cell_type": "code",
   "execution_count": 1,
   "id": "c7bc52d7",
   "metadata": {},
   "outputs": [],
   "source": [
    "from pyspark.sql import SparkSession\n"
   ]
  },
  {
   "cell_type": "code",
   "execution_count": 2,
   "id": "a28e4001",
   "metadata": {},
   "outputs": [],
   "source": [
    "import glob"
   ]
  },
  {
   "cell_type": "code",
   "execution_count": 3,
   "id": "e66d033f",
   "metadata": {},
   "outputs": [
    {
     "data": {
      "text/plain": [
       "'D:\\\\Bitcoin analysis'"
      ]
     },
     "execution_count": 3,
     "metadata": {},
     "output_type": "execute_result"
    }
   ],
   "source": [
    "pwd()"
   ]
  },
  {
   "cell_type": "code",
   "execution_count": 4,
   "id": "59e03481",
   "metadata": {},
   "outputs": [],
   "source": [
    "from pyspark.sql.types import StructType,StructField, StringType, IntegerType, TimestampType"
   ]
  },
  {
   "cell_type": "code",
   "execution_count": 5,
   "id": "785d5da9",
   "metadata": {},
   "outputs": [],
   "source": [
    "from pyspark.sql import functions as F\n",
    "#df.select(F.col(\"my_column\"))"
   ]
  },
  {
   "cell_type": "code",
   "execution_count": 6,
   "id": "714d69f4",
   "metadata": {},
   "outputs": [],
   "source": [
    "schema = StructType([ \\\n",
    "    StructField(\"value\",IntegerType(),True), \\\n",
    "    StructField(\"fee\",IntegerType(),True), \\\n",
    "    StructField(\"timestamp_in_unix_seconds\",IntegerType(),True), \\\n",
    "  ])"
   ]
  },
  {
   "cell_type": "code",
   "execution_count": 7,
   "id": "55c75d96",
   "metadata": {},
   "outputs": [],
   "source": [
    "\n",
    "# spark config\n",
    "from pyspark.conf import SparkConf\n",
    "\n",
    "config = SparkConf().setAll([ \\\n",
    "    ('spark.executor.memory', '8g'), \\\n",
    "    ('spark.executor.instances', '4'), \\\n",
    "    ('spark.driver.memory','16g'), \\\n",
    "    (\"spark.sql.parquet.filterPushdown\", \"true\"), \\\n",
    "    (\"spark.hadoop.parquet.filter.stats.enabled\", \"true\"), \\\n",
    "    (\"spark.sql.optimizer.nestedSchemaPruning.enabled\", \"true\"), \\\n",
    "    (\"spark.sql.optimizer.dynamicPartitionPruning.enabled\", \"true\") ])\\\n",
    "#    (\"spark.executor.memoryOverhead\", \"16384\") \\\n",
    "\n",
    "\n",
    "\n"
   ]
  },
  {
   "cell_type": "code",
   "execution_count": 8,
   "id": "dee7dced",
   "metadata": {},
   "outputs": [
    {
     "name": "stdout",
     "output_type": "stream",
     "text": [
      "<pyspark.conf.SparkConf object at 0x00000241272276D0>\n",
      "local\n",
      "Clustering using K-Means\n"
     ]
    }
   ],
   "source": [
    "print(config.setMaster(\"local\").setAppName(\"Clustering using K-Means\"))\n",
    "\n",
    "print(config.get(\"spark.master\"))\n",
    "\n",
    "print(config.get(\"spark.app.name\"))\n"
   ]
  },
  {
   "cell_type": "code",
   "execution_count": 9,
   "id": "830a0d7e",
   "metadata": {},
   "outputs": [],
   "source": [
    "import time\n",
    "\n",
    "from datetime import datetime\n",
    "spark = SparkSession.builder.appName(\"Clustering using K-Means\") \\\n",
    "    .config(conf=config) \\\n",
    "    .getOrCreate() \\\n",
    "#    .option(\"failOnDataLoss\", False)\n",
    "#spark"
   ]
  },
  {
   "cell_type": "code",
   "execution_count": 10,
   "id": "b0a5cbed",
   "metadata": {},
   "outputs": [
    {
     "data": {
      "text/html": [
       "\n",
       "            <div>\n",
       "                <p><b>SparkSession - in-memory</b></p>\n",
       "                \n",
       "        <div>\n",
       "            <p><b>SparkContext</b></p>\n",
       "\n",
       "            <p><a href=\"http://10.0.7.40:4043\">Spark UI</a></p>\n",
       "\n",
       "            <dl>\n",
       "              <dt>Version</dt>\n",
       "                <dd><code>v3.1.2</code></dd>\n",
       "              <dt>Master</dt>\n",
       "                <dd><code>local</code></dd>\n",
       "              <dt>AppName</dt>\n",
       "                <dd><code>Clustering using K-Means</code></dd>\n",
       "            </dl>\n",
       "        </div>\n",
       "        \n",
       "            </div>\n",
       "        "
      ],
      "text/plain": [
       "<pyspark.sql.session.SparkSession at 0x24127399850>"
      ]
     },
     "execution_count": 10,
     "metadata": {},
     "output_type": "execute_result"
    }
   ],
   "source": [
    "spark"
   ]
  },
  {
   "cell_type": "code",
   "execution_count": null,
   "id": "8e0fdfea",
   "metadata": {},
   "outputs": [],
   "source": []
  },
  {
   "cell_type": "code",
   "execution_count": 11,
   "id": "0bd9f22c",
   "metadata": {},
   "outputs": [
    {
     "data": {
      "text/plain": [
       "[('spark.master', 'local'),\n",
       " ('spark.executor.instances', '4'),\n",
       " ('spark.app.startTime', '1637775695621'),\n",
       " ('spark.sql.parquet.filterPushdown', 'true'),\n",
       " ('spark.app.id', 'local-1637775699221'),\n",
       " ('spark.driver.port', '51553'),\n",
       " ('spark.executor.id', 'driver'),\n",
       " ('spark.sql.optimizer.dynamicPartitionPruning.enabled', 'true'),\n",
       " ('spark.driver.memory', '16g'),\n",
       " ('spark.sql.optimizer.nestedSchemaPruning.enabled', 'true'),\n",
       " ('spark.sql.warehouse.dir', 'file:/D:/Bitcoin%20analysis/spark-warehouse'),\n",
       " ('spark.rdd.compress', 'True'),\n",
       " ('spark.serializer.objectStreamReset', '100'),\n",
       " ('spark.executor.memory', '8g'),\n",
       " ('spark.submit.pyFiles', ''),\n",
       " ('spark.submit.deployMode', 'client'),\n",
       " ('spark.hadoop.parquet.filter.stats.enabled', 'true'),\n",
       " ('spark.ui.showConsoleProgress', 'true'),\n",
       " ('spark.app.name', 'Clustering using K-Means'),\n",
       " ('spark.driver.host', '10.0.7.40')]"
      ]
     },
     "execution_count": 11,
     "metadata": {},
     "output_type": "execute_result"
    }
   ],
   "source": [
    "spark.sparkContext.getConf().getAll()"
   ]
  },
  {
   "cell_type": "code",
   "execution_count": 12,
   "id": "3d953167",
   "metadata": {},
   "outputs": [
    {
     "data": {
      "text/plain": [
       "['D:\\\\Downloads\\\\bitcoin_data_filtered\\\\bitcoin000000000000',\n",
       " 'D:\\\\Downloads\\\\bitcoin_data_filtered\\\\bitcoin000000000001',\n",
       " 'D:\\\\Downloads\\\\bitcoin_data_filtered\\\\bitcoin000000000002',\n",
       " 'D:\\\\Downloads\\\\bitcoin_data_filtered\\\\bitcoin000000000003',\n",
       " 'D:\\\\Downloads\\\\bitcoin_data_filtered\\\\bitcoin000000000004',\n",
       " 'D:\\\\Downloads\\\\bitcoin_data_filtered\\\\bitcoin000000000005',\n",
       " 'D:\\\\Downloads\\\\bitcoin_data_filtered\\\\bitcoin000000000006',\n",
       " 'D:\\\\Downloads\\\\bitcoin_data_filtered\\\\bitcoin000000000007',\n",
       " 'D:\\\\Downloads\\\\bitcoin_data_filtered\\\\bitcoin000000000008',\n",
       " 'D:\\\\Downloads\\\\bitcoin_data_filtered\\\\bitcoin000000000009',\n",
       " 'D:\\\\Downloads\\\\bitcoin_data_filtered\\\\bitcoin000000000010',\n",
       " 'D:\\\\Downloads\\\\bitcoin_data_filtered\\\\bitcoin000000000011',\n",
       " 'D:\\\\Downloads\\\\bitcoin_data_filtered\\\\bitcoin000000000012',\n",
       " 'D:\\\\Downloads\\\\bitcoin_data_filtered\\\\bitcoin000000000013',\n",
       " 'D:\\\\Downloads\\\\bitcoin_data_filtered\\\\bitcoin000000000014',\n",
       " 'D:\\\\Downloads\\\\bitcoin_data_filtered\\\\bitcoin000000000015',\n",
       " 'D:\\\\Downloads\\\\bitcoin_data_filtered\\\\bitcoin000000000016',\n",
       " 'D:\\\\Downloads\\\\bitcoin_data_filtered\\\\bitcoin000000000017',\n",
       " 'D:\\\\Downloads\\\\bitcoin_data_filtered\\\\bitcoin000000000018',\n",
       " 'D:\\\\Downloads\\\\bitcoin_data_filtered\\\\bitcoin000000000019',\n",
       " 'D:\\\\Downloads\\\\bitcoin_data_filtered\\\\bitcoin000000000020',\n",
       " 'D:\\\\Downloads\\\\bitcoin_data_filtered\\\\bitcoin000000000021',\n",
       " 'D:\\\\Downloads\\\\bitcoin_data_filtered\\\\bitcoin000000000022',\n",
       " 'D:\\\\Downloads\\\\bitcoin_data_filtered\\\\bitcoin000000000023',\n",
       " 'D:\\\\Downloads\\\\bitcoin_data_filtered\\\\bitcoin000000000024',\n",
       " 'D:\\\\Downloads\\\\bitcoin_data_filtered\\\\bitcoin000000000025',\n",
       " 'D:\\\\Downloads\\\\bitcoin_data_filtered\\\\bitcoin000000000026',\n",
       " 'D:\\\\Downloads\\\\bitcoin_data_filtered\\\\bitcoin000000000027',\n",
       " 'D:\\\\Downloads\\\\bitcoin_data_filtered\\\\bitcoin000000000028',\n",
       " 'D:\\\\Downloads\\\\bitcoin_data_filtered\\\\bitcoin000000000029',\n",
       " 'D:\\\\Downloads\\\\bitcoin_data_filtered\\\\bitcoin000000000030',\n",
       " 'D:\\\\Downloads\\\\bitcoin_data_filtered\\\\bitcoin000000000031',\n",
       " 'D:\\\\Downloads\\\\bitcoin_data_filtered\\\\bitcoin000000000032',\n",
       " 'D:\\\\Downloads\\\\bitcoin_data_filtered\\\\bitcoin000000000033',\n",
       " 'D:\\\\Downloads\\\\bitcoin_data_filtered\\\\bitcoin000000000034',\n",
       " 'D:\\\\Downloads\\\\bitcoin_data_filtered\\\\bitcoin000000000035',\n",
       " 'D:\\\\Downloads\\\\bitcoin_data_filtered\\\\bitcoin000000000036',\n",
       " 'D:\\\\Downloads\\\\bitcoin_data_filtered\\\\bitcoin000000000037',\n",
       " 'D:\\\\Downloads\\\\bitcoin_data_filtered\\\\bitcoin000000000038',\n",
       " 'D:\\\\Downloads\\\\bitcoin_data_filtered\\\\bitcoin000000000039',\n",
       " 'D:\\\\Downloads\\\\bitcoin_data_filtered\\\\bitcoin000000000040',\n",
       " 'D:\\\\Downloads\\\\bitcoin_data_filtered\\\\bitcoin000000000041',\n",
       " 'D:\\\\Downloads\\\\bitcoin_data_filtered\\\\bitcoin000000000042',\n",
       " 'D:\\\\Downloads\\\\bitcoin_data_filtered\\\\bitcoin000000000043',\n",
       " 'D:\\\\Downloads\\\\bitcoin_data_filtered\\\\bitcoin000000000044',\n",
       " 'D:\\\\Downloads\\\\bitcoin_data_filtered\\\\bitcoin000000000045',\n",
       " 'D:\\\\Downloads\\\\bitcoin_data_filtered\\\\bitcoin000000000046',\n",
       " 'D:\\\\Downloads\\\\bitcoin_data_filtered\\\\bitcoin000000000047',\n",
       " 'D:\\\\Downloads\\\\bitcoin_data_filtered\\\\bitcoin000000000048',\n",
       " 'D:\\\\Downloads\\\\bitcoin_data_filtered\\\\bitcoin000000000049',\n",
       " 'D:\\\\Downloads\\\\bitcoin_data_filtered\\\\bitcoin000000000050',\n",
       " 'D:\\\\Downloads\\\\bitcoin_data_filtered\\\\bitcoin000000000051',\n",
       " 'D:\\\\Downloads\\\\bitcoin_data_filtered\\\\bitcoin000000000052',\n",
       " 'D:\\\\Downloads\\\\bitcoin_data_filtered\\\\bitcoin000000000053',\n",
       " 'D:\\\\Downloads\\\\bitcoin_data_filtered\\\\bitcoin000000000054',\n",
       " 'D:\\\\Downloads\\\\bitcoin_data_filtered\\\\bitcoin000000000055',\n",
       " 'D:\\\\Downloads\\\\bitcoin_data_filtered\\\\bitcoin000000000056',\n",
       " 'D:\\\\Downloads\\\\bitcoin_data_filtered\\\\bitcoin000000000057',\n",
       " 'D:\\\\Downloads\\\\bitcoin_data_filtered\\\\bitcoin000000000058',\n",
       " 'D:\\\\Downloads\\\\bitcoin_data_filtered\\\\bitcoin000000000059',\n",
       " 'D:\\\\Downloads\\\\bitcoin_data_filtered\\\\bitcoin000000000060',\n",
       " 'D:\\\\Downloads\\\\bitcoin_data_filtered\\\\bitcoin000000000061',\n",
       " 'D:\\\\Downloads\\\\bitcoin_data_filtered\\\\bitcoin000000000062',\n",
       " 'D:\\\\Downloads\\\\bitcoin_data_filtered\\\\bitcoin000000000063',\n",
       " 'D:\\\\Downloads\\\\bitcoin_data_filtered\\\\bitcoin000000000064',\n",
       " 'D:\\\\Downloads\\\\bitcoin_data_filtered\\\\bitcoin000000000065',\n",
       " 'D:\\\\Downloads\\\\bitcoin_data_filtered\\\\bitcoin000000000066',\n",
       " 'D:\\\\Downloads\\\\bitcoin_data_filtered\\\\bitcoin000000000067']"
      ]
     },
     "execution_count": 12,
     "metadata": {},
     "output_type": "execute_result"
    }
   ],
   "source": [
    "import glob\n",
    "import os\n",
    "BITCOIN_PATHS = sorted(glob.glob(os.path.join(\"D:\\\\Downloads\\\\bitcoin_data_filtered\\\\\", \"*\")))\n",
    "BITCOIN_PATHS"
   ]
  },
  {
   "cell_type": "code",
   "execution_count": 13,
   "id": "cc1c00ab",
   "metadata": {},
   "outputs": [
    {
     "name": "stdout",
     "output_type": "stream",
     "text": [
      "root\n",
      " |-- value: integer (nullable = true)\n",
      " |-- fee: integer (nullable = true)\n",
      "\n"
     ]
    }
   ],
   "source": [
    "# hier wird dataframe gelesen. versuche es mit rdd .rdd()\n",
    "data_customer=spark.read.csv(BITCOIN_PATHS, header=True, schema=schema) \\\n",
    "    .select(\"value\",\"fee\") \\\n",
    "     .filter((F.col('timestamp_in_unix_seconds') >= int(time.mktime(datetime.strptime('2021-04-13', '%Y-%m-%d').timetuple()))) & (F.col('timestamp_in_unix_seconds') <= int(time.mktime(datetime.strptime('2021-07-21', '%Y-%m-%d').timetuple())))) \\\n",
    "    .persist()\n",
    "data_customer.printSchema()"
   ]
  },
  {
   "cell_type": "code",
   "execution_count": 14,
   "id": "e444ee76",
   "metadata": {},
   "outputs": [
    {
     "name": "stdout",
     "output_type": "stream",
     "text": [
      "== Physical Plan ==\n",
      "*(1) ColumnarToRow\n",
      "+- InMemoryTableScan [value#0, fee#1]\n",
      "      +- InMemoryRelation [value#0, fee#1], StorageLevel(disk, memory, deserialized, 1 replicas)\n",
      "            +- *(1) Project [value#0, fee#1]\n",
      "               +- *(1) Filter ((isnotnull(timestamp_in_unix_seconds#2) AND (timestamp_in_unix_seconds#2 >= 1618264800)) AND (timestamp_in_unix_seconds#2 <= 1626818400))\n",
      "                  +- FileScan csv [value#0,fee#1,timestamp_in_unix_seconds#2] Batched: false, DataFilters: [isnotnull(timestamp_in_unix_seconds#2), (timestamp_in_unix_seconds#2 >= 1618264800), (timestamp_..., Format: CSV, Location: InMemoryFileIndex[file:/D:/Downloads/bitcoin_data_filtered/bitcoin000000000000, file:/D:/Download..., PartitionFilters: [], PushedFilters: [IsNotNull(timestamp_in_unix_seconds), GreaterThanOrEqual(timestamp_in_unix_seconds,1618264800), ..., ReadSchema: struct<value:int,fee:int,timestamp_in_unix_seconds:int>\n",
      "\n",
      "\n"
     ]
    }
   ],
   "source": [
    "data_customer.explain()"
   ]
  },
  {
   "cell_type": "code",
   "execution_count": 15,
   "id": "ad877c30",
   "metadata": {},
   "outputs": [],
   "source": [
    "data_customer=data_customer.na.drop()"
   ]
  },
  {
   "cell_type": "code",
   "execution_count": 16,
   "id": "2451d49d",
   "metadata": {},
   "outputs": [
    {
     "name": "stdout",
     "output_type": "stream",
     "text": [
      "+--------+-----+\n",
      "|   value|  fee|\n",
      "+--------+-----+\n",
      "|39858391|57109|\n",
      "| 4605511|46462|\n",
      "+--------+-----+\n",
      "only showing top 2 rows\n",
      "\n"
     ]
    }
   ],
   "source": [
    "data_customer.show(2)"
   ]
  },
  {
   "cell_type": "code",
   "execution_count": 17,
   "id": "051c4c66",
   "metadata": {},
   "outputs": [],
   "source": [
    "data_customer = data_customer.sample(False,0.0001,1234)"
   ]
  },
  {
   "cell_type": "code",
   "execution_count": 18,
   "id": "ced637ef",
   "metadata": {},
   "outputs": [],
   "source": [
    "inputCols=[ 'value', 'fee']"
   ]
  },
  {
   "cell_type": "code",
   "execution_count": 19,
   "id": "4a39b1d6",
   "metadata": {},
   "outputs": [
    {
     "name": "stdout",
     "output_type": "stream",
     "text": [
      "+-------+----+------------------+\n",
      "|  value| fee|          features|\n",
      "+-------+----+------------------+\n",
      "| 624825|6016| [624825.0,6016.0]|\n",
      "|2851450|7810|[2851450.0,7810.0]|\n",
      "+-------+----+------------------+\n",
      "only showing top 2 rows\n",
      "\n"
     ]
    }
   ],
   "source": [
    "# transformation task. genau wie filter, join, etc. --> bis hier wird das aber nur vorbereitet\n",
    "from pyspark.ml.feature import VectorAssembler\n",
    "data_customer.columns\n",
    "assemble=VectorAssembler(inputCols=[ 'value', 'fee'], outputCol='features')\n",
    "assembled_data=assemble.transform(data_customer)\n",
    "assembled_data.show(2)"
   ]
  },
  {
   "cell_type": "code",
   "execution_count": 20,
   "id": "d7c559ea",
   "metadata": {},
   "outputs": [
    {
     "name": "stdout",
     "output_type": "stream",
     "text": [
      "+-------+----+------------------+--------------------+\n",
      "|  value| fee|          features|        standardized|\n",
      "+-------+----+------------------+--------------------+\n",
      "| 624825|6016| [624825.0,6016.0]|[-0.2942127824004...|\n",
      "|2851450|7810|[2851450.0,7810.0]|[-0.2828374556354...|\n",
      "+-------+----+------------------+--------------------+\n",
      "only showing top 2 rows\n",
      "\n"
     ]
    }
   ],
   "source": [
    "# an dieser stelle findet erstmals eine aktion statt. die vorbereiteten transformationen werden durchgeführt.\n",
    "#standarizer\n",
    "from pyspark.ml.feature import StandardScaler\n",
    "scale=StandardScaler(inputCol='features',outputCol='standardized', withMean=True, withStd=True)\n",
    "data_scale=scale.fit(assembled_data)\n",
    "data_scale_output=data_scale.transform(assembled_data)\n",
    "data_scale_output.show(2)"
   ]
  },
  {
   "cell_type": "code",
   "execution_count": 21,
   "id": "8e1a1207",
   "metadata": {},
   "outputs": [],
   "source": [
    "#data_customer = data_scale_output.toPandas()"
   ]
  },
  {
   "cell_type": "code",
   "execution_count": 22,
   "id": "f086b098",
   "metadata": {},
   "outputs": [
    {
     "name": "stdout",
     "output_type": "stream",
     "text": [
      "Silhouette Score: 0.947831148074283\n",
      "Silhouette Score: 0.9638051619369279\n",
      "Silhouette Score: 0.9213237542834212\n",
      "Silhouette Score: 0.9502520786896353\n",
      "Silhouette Score: 0.9124334492122876\n",
      "Silhouette Score: 0.8744301817171122\n",
      "Silhouette Score: 0.9132884094423092\n",
      "Silhouette Score: 0.8476193349404975\n",
      "Wall time: 9min 48s\n"
     ]
    }
   ],
   "source": [
    "%%time\n",
    "from pyspark.ml.clustering import KMeans\n",
    "from pyspark.ml.evaluation import ClusteringEvaluator\n",
    "silhouette_score=[]\n",
    "evaluator = ClusteringEvaluator(predictionCol='prediction', featuresCol='standardized', \\\n",
    "                                metricName='silhouette', distanceMeasure='squaredEuclidean')\n",
    "for i in range(2,10):\n",
    "    \n",
    "    KMeans_algo=KMeans(featuresCol='standardized', k=i, seed=1) # set seed\n",
    "    \n",
    "    KMeans_fit=KMeans_algo.fit(data_scale_output)\n",
    "    \n",
    "    output=KMeans_fit.transform(data_scale_output)\n",
    "    \n",
    "    \n",
    "    \n",
    "    score=evaluator.evaluate(output)\n",
    "    \n",
    "    silhouette_score.append(score)\n",
    "    \n",
    "    print(\"Silhouette Score:\",score)"
   ]
  },
  {
   "cell_type": "code",
   "execution_count": 23,
   "id": "60a407f8",
   "metadata": {},
   "outputs": [
    {
     "data": {
      "text/plain": [
       "Text(0, 0.5, 'silhouette score')"
      ]
     },
     "execution_count": 23,
     "metadata": {},
     "output_type": "execute_result"
    },
    {
     "data": {
      "image/png": "[encoded data removed]",
      "text/plain": [
       "<Figure size 576x432 with 1 Axes>"
      ]
     },
     "metadata": {
      "needs_background": "light"
     },
     "output_type": "display_data"
    }
   ],
   "source": [
    "#Visualizing the silhouette scores in a plot\n",
    "import matplotlib.pyplot as plt\n",
    "fig, ax = plt.subplots(1,1, figsize =(8,6))\n",
    "ax.plot(range(2,10),silhouette_score) # passe range an grösse des k an\n",
    "ax.set_xlabel(\"k\")\n",
    "ax.set_ylabel(\"silhouette score\")"
   ]
  },
  {
   "cell_type": "code",
   "execution_count": 24,
   "id": "81bb6be2",
   "metadata": {},
   "outputs": [
    {
     "data": {
      "text/plain": [
       "pyspark.sql.dataframe.DataFrame"
      ]
     },
     "execution_count": 24,
     "metadata": {},
     "output_type": "execute_result"
    }
   ],
   "source": [
    "type(data_customer)"
   ]
  },
  {
   "cell_type": "code",
   "execution_count": 22,
   "id": "be8eb067",
   "metadata": {},
   "outputs": [
    {
     "name": "stdout",
     "output_type": "stream",
     "text": [
      "Silhouette with squared euclidean distance = 0.9309220518283086\n"
     ]
    }
   ],
   "source": [
    "\n",
    "\n",
    "\n",
    "from pyspark.ml.evaluation import ClusteringEvaluator\n",
    "from pyspark.ml.clustering import KMeans\n",
    "\n",
    "# Trains a k-means model.\n",
    "kmeans = KMeans(featuresCol='standardized').setK(4).setSeed(1)\n",
    "model = kmeans.fit(data_scale_output)\n",
    "\n",
    "# Make predictions\n",
    "predictions = model.transform(data_scale_output)\n",
    "\n",
    "# Evaluate clustering by computing Silhouette score\n",
    "evaluator = ClusteringEvaluator()\n",
    "\n",
    "\n",
    "silhouette = evaluator.evaluate(predictions)\n",
    "print(\"Silhouette with squared euclidean distance = \" + str(silhouette)) \n",
    "# evaluation mit silhouette; evaluation mit SSE ist depriciated\n",
    "\n"
   ]
  },
  {
   "cell_type": "code",
   "execution_count": 23,
   "id": "8580eb27",
   "metadata": {},
   "outputs": [
    {
     "name": "stdout",
     "output_type": "stream",
     "text": [
      "Cluster Centers: \n",
      "[-0.21412001 -0.08271716]\n",
      "[5.66902478 0.2016853 ]\n",
      "[ 2.06258003 17.97238902]\n",
      "[1.61858308 0.7302794 ]\n"
     ]
    }
   ],
   "source": [
    "# Shows the result.\n",
    "print(\"Cluster Centers: \")\n",
    "ctr=[]\n",
    "centers = model.clusterCenters()\n",
    "for center in centers:\n",
    "    ctr.append(center)\n",
    "    print(center)"
   ]
  },
  {
   "cell_type": "code",
   "execution_count": 24,
   "id": "ac0f4f31",
   "metadata": {},
   "outputs": [],
   "source": [
    "# output of transform \"output\" or \"predictions\"\n",
    "pandasDF=predictions.toPandas()"
   ]
  },
  {
   "cell_type": "code",
   "execution_count": 34,
   "id": "6f6ad9d7",
   "metadata": {},
   "outputs": [
    {
     "data": {
      "text/html": [
       "<div>\n",
       "<style scoped>\n",
       "    .dataframe tbody tr th:only-of-type {\n",
       "        vertical-align: middle;\n",
       "    }\n",
       "\n",
       "    .dataframe tbody tr th {\n",
       "        vertical-align: top;\n",
       "    }\n",
       "\n",
       "    .dataframe thead th {\n",
       "        text-align: right;\n",
       "    }\n",
       "</style>\n",
       "<table border=\"1\" class=\"dataframe\">\n",
       "  <thead>\n",
       "    <tr style=\"text-align: right;\">\n",
       "      <th></th>\n",
       "      <th>value</th>\n",
       "      <th>fee</th>\n",
       "    </tr>\n",
       "  </thead>\n",
       "  <tbody>\n",
       "    <tr>\n",
       "      <th>0</th>\n",
       "      <td>-0.236152</td>\n",
       "      <td>-0.050440</td>\n",
       "    </tr>\n",
       "    <tr>\n",
       "      <th>1</th>\n",
       "      <td>5.323349</td>\n",
       "      <td>0.082438</td>\n",
       "    </tr>\n",
       "    <tr>\n",
       "      <th>2</th>\n",
       "      <td>1.759940</td>\n",
       "      <td>0.453161</td>\n",
       "    </tr>\n",
       "    <tr>\n",
       "      <th>3</th>\n",
       "      <td>1.083775</td>\n",
       "      <td>25.283918</td>\n",
       "    </tr>\n",
       "  </tbody>\n",
       "</table>\n",
       "</div>"
      ],
      "text/plain": [
       "      value        fee\n",
       "0 -0.236152  -0.050440\n",
       "1  5.323349   0.082438\n",
       "2  1.759940   0.453161\n",
       "3  1.083775  25.283918"
      ]
     },
     "execution_count": 34,
     "metadata": {},
     "output_type": "execute_result"
    }
   ],
   "source": [
    "import pandas as pd\n",
    "centers = pd.DataFrame(ctr,columns=inputCols)\n",
    "centers # könnte man einzeichnen, wenn man plot mit skalierten daten (nicht pca -daten) macht"
   ]
  },
  {
   "cell_type": "code",
   "execution_count": 25,
   "id": "5445b44c",
   "metadata": {},
   "outputs": [],
   "source": [
    "# bring scaled values(value, fee) into list\n",
    "x = []\n",
    "y = []\n",
    "for i, j in pandasDF[\"standardized\"].values:\n",
    "    x.append(i)\n",
    "    y.append(j)"
   ]
  },
  {
   "cell_type": "code",
   "execution_count": 53,
   "id": "d3430dfd",
   "metadata": {},
   "outputs": [
    {
     "data": {
      "image/png": "[encoded data removed]",
      "text/plain": [
       "<Figure size 432x288 with 1 Axes>"
      ]
     },
     "metadata": {
      "needs_background": "light"
     },
     "output_type": "display_data"
    }
   ],
   "source": [
    "import matplotlib.pyplot as plt\n",
    "\n",
    "# plot mit scaled daten: value vs. fee\n",
    "#todo: outlier entfernen\n",
    "#todo: mean centers rein tun\n",
    "import numpy as np\n",
    "scatter_x = np.array(x) # scaled bitcoin transaction value\n",
    "scatter_y = np.array(y) # scaled bitcoin transaction fee\n",
    "group = np.array(pandasDF['prediction'])\n",
    "\n",
    "cdict = {0: 'red', 1: 'blue', 2: 'green', 3: 'orange'}\n",
    "fig, ax = plt.subplots()\n",
    "for g in np.unique(group):\n",
    "    ix = np.where(group == g)\n",
    "    ax.scatter(scatter_x[ix], scatter_y[ix], c = cdict[g], label = g+1)\n",
    "ax.legend()\n",
    "plt.xlabel(\"value\")\n",
    "plt.ylabel(\"fee\")\n",
    "plt.show()\n",
    "\n",
    "#plt.scatter(y=pandasDF[\"fee\"],x=pandasDF[\"value\"], c=pandasDF[\"prediction\"], cmap='brg')\n",
    "#plt.legend()\n",
    "\n",
    "#plt.scatter(y=y,x=x, c=pandasDF[\"prediction\"].values, cmap='brg')\n",
    "#plt.legend()\n",
    "\n",
    "\n"
   ]
  },
  {
   "cell_type": "code",
   "execution_count": 30,
   "id": "3301a93d",
   "metadata": {},
   "outputs": [
    {
     "ename": "SyntaxError",
     "evalue": "invalid syntax (<ipython-input-30-a0ef6d29c5d6>, line 2)",
     "output_type": "error",
     "traceback": [
      "\u001b[1;36m  File \u001b[1;32m\"<ipython-input-30-a0ef6d29c5d6>\"\u001b[1;36m, line \u001b[1;32m2\u001b[0m\n\u001b[1;33m    - 2010-2011 waren fees sehr günstig. zum teil waren transaktionen auch gratis. daher ist fee relativ weit unten\u001b[0m\n\u001b[1;37m                ^\u001b[0m\n\u001b[1;31mSyntaxError\u001b[0m\u001b[1;31m:\u001b[0m invalid syntax\n"
     ]
    }
   ],
   "source": [
    "# interpretation:\n",
    "- 2010-2011 waren fees sehr günstig. zum teil waren transaktionen auch gratis. daher ist fee relativ weit unten\n",
    "- fee plot ist auch etwas gezerrt wegen outlier oben\n",
    "- die drei cluster\n",
    "-- transaktionen mit wenig fee und wenig betrag\n",
    "-- transaktionen mit wenig fee und viel betrag\n",
    "-- transaktionen mit etwas höherem fees haben etwas höheren betrag"
   ]
  },
  {
   "cell_type": "code",
   "execution_count": 31,
   "id": "a02ee52f",
   "metadata": {},
   "outputs": [],
   "source": [
    "# bezug zu orignaldaten machen: im folgenden wird nicht mit skalierten werten gearbeitet, damit mehr einblick in daten möglich wird"
   ]
  },
  {
   "cell_type": "code",
   "execution_count": 55,
   "id": "7a135c69",
   "metadata": {},
   "outputs": [],
   "source": [
    "class1 = pandasDF.loc[pandasDF['prediction'] == 0]\n",
    "class2 = pandasDF.loc[pandasDF['prediction'] == 1]\n",
    "class3 = pandasDF.loc[pandasDF['prediction'] == 2]\n",
    "class4 = pandasDF.loc[pandasDF['prediction'] == 3]"
   ]
  },
  {
   "cell_type": "code",
   "execution_count": 56,
   "id": "f52c1871",
   "metadata": {},
   "outputs": [
    {
     "data": {
      "text/plain": [
       "{'whiskers': [<matplotlib.lines.Line2D at 0x1f2104c5220>,\n",
       "  <matplotlib.lines.Line2D at 0x1f2104c5b20>,\n",
       "  <matplotlib.lines.Line2D at 0x1f210623f40>,\n",
       "  <matplotlib.lines.Line2D at 0x1f210623190>,\n",
       "  <matplotlib.lines.Line2D at 0x1f21062fc10>,\n",
       "  <matplotlib.lines.Line2D at 0x1f21062ff70>,\n",
       "  <matplotlib.lines.Line2D at 0x1f210701430>,\n",
       "  <matplotlib.lines.Line2D at 0x1f210701790>],\n",
       " 'caps': [<matplotlib.lines.Line2D at 0x1f21061e1f0>,\n",
       "  <matplotlib.lines.Line2D at 0x1f21061ebb0>,\n",
       "  <matplotlib.lines.Line2D at 0x1f2105d14f0>,\n",
       "  <matplotlib.lines.Line2D at 0x1f20dbdf340>,\n",
       "  <matplotlib.lines.Line2D at 0x1f2106f6310>,\n",
       "  <matplotlib.lines.Line2D at 0x1f2106f6670>,\n",
       "  <matplotlib.lines.Line2D at 0x1f210701af0>,\n",
       "  <matplotlib.lines.Line2D at 0x1f210701e50>],\n",
       " 'boxes': [<matplotlib.lines.Line2D at 0x1f2104a2550>,\n",
       "  <matplotlib.lines.Line2D at 0x1f210618e80>,\n",
       "  <matplotlib.lines.Line2D at 0x1f21062f8b0>,\n",
       "  <matplotlib.lines.Line2D at 0x1f2107010d0>],\n",
       " 'medians': [<matplotlib.lines.Line2D at 0x1f210618910>,\n",
       "  <matplotlib.lines.Line2D at 0x1f20e8edac0>,\n",
       "  <matplotlib.lines.Line2D at 0x1f2106f69d0>,\n",
       "  <matplotlib.lines.Line2D at 0x1f21070f1f0>],\n",
       " 'fliers': [<matplotlib.lines.Line2D at 0x1f210618b80>,\n",
       "  <matplotlib.lines.Line2D at 0x1f21062f550>,\n",
       "  <matplotlib.lines.Line2D at 0x1f2106f6d30>,\n",
       "  <matplotlib.lines.Line2D at 0x1f21070f550>],\n",
       " 'means': []}"
      ]
     },
     "execution_count": 56,
     "metadata": {},
     "output_type": "execute_result"
    },
    {
     "data": {
      "image/png": "[encoded data removed]",
      "text/plain": [
       "<Figure size 432x288 with 1 Axes>"
      ]
     },
     "metadata": {
      "needs_background": "light"
     },
     "output_type": "display_data"
    }
   ],
   "source": [
    "plt.boxplot([class1[\"value\"], class2[\"value\"], class3[\"value\"],  class4[\"value\"]])"
   ]
  },
  {
   "cell_type": "code",
   "execution_count": 57,
   "id": "0a563a9f",
   "metadata": {},
   "outputs": [
    {
     "data": {
      "text/plain": [
       "{'whiskers': [<matplotlib.lines.Line2D at 0x1f21076eca0>,\n",
       "  <matplotlib.lines.Line2D at 0x1f21077c040>,\n",
       "  <matplotlib.lines.Line2D at 0x1f21078a460>,\n",
       "  <matplotlib.lines.Line2D at 0x1f21078a7c0>,\n",
       "  <matplotlib.lines.Line2D at 0x1f210793c40>,\n",
       "  <matplotlib.lines.Line2D at 0x1f210793fa0>,\n",
       "  <matplotlib.lines.Line2D at 0x1f2107aa460>,\n",
       "  <matplotlib.lines.Line2D at 0x1f2107aa7c0>],\n",
       " 'caps': [<matplotlib.lines.Line2D at 0x1f21077c3a0>,\n",
       "  <matplotlib.lines.Line2D at 0x1f21077c700>,\n",
       "  <matplotlib.lines.Line2D at 0x1f21078ab20>,\n",
       "  <matplotlib.lines.Line2D at 0x1f21078ae80>,\n",
       "  <matplotlib.lines.Line2D at 0x1f2107a0340>,\n",
       "  <matplotlib.lines.Line2D at 0x1f2107a06a0>,\n",
       "  <matplotlib.lines.Line2D at 0x1f2107aab20>,\n",
       "  <matplotlib.lines.Line2D at 0x1f2107aae80>],\n",
       " 'boxes': [<matplotlib.lines.Line2D at 0x1f21076e940>,\n",
       "  <matplotlib.lines.Line2D at 0x1f21078a100>,\n",
       "  <matplotlib.lines.Line2D at 0x1f2107938e0>,\n",
       "  <matplotlib.lines.Line2D at 0x1f2107aa100>],\n",
       " 'medians': [<matplotlib.lines.Line2D at 0x1f21077ca00>,\n",
       "  <matplotlib.lines.Line2D at 0x1f210793220>,\n",
       "  <matplotlib.lines.Line2D at 0x1f2107a0a00>,\n",
       "  <matplotlib.lines.Line2D at 0x1f2107b9220>],\n",
       " 'fliers': [<matplotlib.lines.Line2D at 0x1f21077cd60>,\n",
       "  <matplotlib.lines.Line2D at 0x1f210793580>,\n",
       "  <matplotlib.lines.Line2D at 0x1f2107a0d60>,\n",
       "  <matplotlib.lines.Line2D at 0x1f2107b9580>],\n",
       " 'means': []}"
      ]
     },
     "execution_count": 57,
     "metadata": {},
     "output_type": "execute_result"
    },
    {
     "data": {
      "image/png": "[encoded data removed]",
      "text/plain": [
       "<Figure size 432x288 with 1 Axes>"
      ]
     },
     "metadata": {
      "needs_background": "light"
     },
     "output_type": "display_data"
    }
   ],
   "source": [
    "plt.boxplot([class1[\"fee\"], class2[\"fee\"], class3[\"fee\"], class4[\"fee\"]])"
   ]
  },
  {
   "cell_type": "code",
   "execution_count": 38,
   "id": "f89d3b34",
   "metadata": {},
   "outputs": [
    {
     "data": {
      "text/plain": [
       "36789394.075516514"
      ]
     },
     "execution_count": 38,
     "metadata": {},
     "output_type": "execute_result"
    }
   ],
   "source": [
    "class1[\"value\"].std()"
   ]
  },
  {
   "cell_type": "code",
   "execution_count": 39,
   "id": "bf6cc88d",
   "metadata": {},
   "outputs": [
    {
     "data": {
      "text/plain": [
       "26799.044073806057"
      ]
     },
     "execution_count": 39,
     "metadata": {},
     "output_type": "execute_result"
    }
   ],
   "source": [
    "class1[\"fee\"].std()"
   ]
  },
  {
   "cell_type": "code",
   "execution_count": 40,
   "id": "e718537f",
   "metadata": {},
   "outputs": [
    {
     "data": {
      "text/plain": [
       "16302315.593017915"
      ]
     },
     "execution_count": 40,
     "metadata": {},
     "output_type": "execute_result"
    }
   ],
   "source": [
    "class1[\"value\"].mean()"
   ]
  },
  {
   "cell_type": "code",
   "execution_count": 41,
   "id": "9d228d31",
   "metadata": {},
   "outputs": [
    {
     "data": {
      "text/plain": [
       "362871728.7096598"
      ]
     },
     "execution_count": 41,
     "metadata": {},
     "output_type": "execute_result"
    }
   ],
   "source": [
    "class2[\"value\"].std()"
   ]
  },
  {
   "cell_type": "code",
   "execution_count": 42,
   "id": "4acdf8c9",
   "metadata": {},
   "outputs": [
    {
     "data": {
      "text/plain": [
       "106870.12782444603"
      ]
     },
     "execution_count": 42,
     "metadata": {},
     "output_type": "execute_result"
    }
   ],
   "source": [
    "class2[\"fee\"].std()"
   ]
  },
  {
   "cell_type": "code",
   "execution_count": 43,
   "id": "b704a77d",
   "metadata": {},
   "outputs": [
    {
     "data": {
      "text/plain": [
       "18741.704639412033"
      ]
     },
     "execution_count": 43,
     "metadata": {},
     "output_type": "execute_result"
    }
   ],
   "source": [
    "class1[\"fee\"].mean()"
   ]
  },
  {
   "cell_type": "code",
   "execution_count": 44,
   "id": "74d7e402",
   "metadata": {},
   "outputs": [
    {
     "data": {
      "text/plain": [
       "1167878663.7959185"
      ]
     },
     "execution_count": 44,
     "metadata": {},
     "output_type": "execute_result"
    }
   ],
   "source": [
    "class2[\"value\"].mean()"
   ]
  },
  {
   "cell_type": "code",
   "execution_count": 45,
   "id": "f38c36d9",
   "metadata": {},
   "outputs": [
    {
     "data": {
      "text/plain": [
       "63766.510204081635"
      ]
     },
     "execution_count": 45,
     "metadata": {},
     "output_type": "execute_result"
    }
   ],
   "source": [
    "class2[\"fee\"].mean()"
   ]
  },
  {
   "cell_type": "code",
   "execution_count": 46,
   "id": "96028541",
   "metadata": {},
   "outputs": [
    {
     "data": {
      "text/plain": [
       "455062227.3899649"
      ]
     },
     "execution_count": 46,
     "metadata": {},
     "output_type": "execute_result"
    }
   ],
   "source": [
    "class3[\"value\"].std()"
   ]
  },
  {
   "cell_type": "code",
   "execution_count": 47,
   "id": "c45a26bc",
   "metadata": {},
   "outputs": [
    {
     "data": {
      "text/plain": [
       "1344642.1685116824"
      ]
     },
     "execution_count": 47,
     "metadata": {},
     "output_type": "execute_result"
    }
   ],
   "source": [
    "class3[\"fee\"].std()"
   ]
  },
  {
   "cell_type": "code",
   "execution_count": 48,
   "id": "0d473618",
   "metadata": {},
   "outputs": [
    {
     "data": {
      "text/plain": [
       "461947291.4"
      ]
     },
     "execution_count": 48,
     "metadata": {},
     "output_type": "execute_result"
    }
   ],
   "source": [
    "class3[\"value\"].mean()"
   ]
  },
  {
   "cell_type": "code",
   "execution_count": 49,
   "id": "db0c13b2",
   "metadata": {},
   "outputs": [
    {
     "data": {
      "text/plain": [
       "461947291.4"
      ]
     },
     "execution_count": 49,
     "metadata": {},
     "output_type": "execute_result"
    }
   ],
   "source": [
    "class3[\"value\"].mean()"
   ]
  },
  {
   "cell_type": "code",
   "execution_count": 50,
   "id": "8cbfedff",
   "metadata": {},
   "outputs": [
    {
     "data": {
      "text/plain": [
       "array([[<AxesSubplot:title={'center':'value'}>,\n",
       "        <AxesSubplot:title={'center':'fee'}>],\n",
       "       [<AxesSubplot:title={'center':'prediction'}>, <AxesSubplot:>]],\n",
       "      dtype=object)"
      ]
     },
     "execution_count": 50,
     "metadata": {},
     "output_type": "execute_result"
    },
    {
     "data": {
      "image/png": "[encoded data removed]",
      "text/plain": [
       "<Figure size 432x288 with 4 Axes>"
      ]
     },
     "metadata": {
      "needs_background": "light"
     },
     "output_type": "display_data"
    }
   ],
   "source": [
    "class1.hist()\n"
   ]
  },
  {
   "cell_type": "code",
   "execution_count": 51,
   "id": "c995c4a6",
   "metadata": {},
   "outputs": [
    {
     "data": {
      "text/plain": [
       "array([[<AxesSubplot:title={'center':'value'}>,\n",
       "        <AxesSubplot:title={'center':'fee'}>],\n",
       "       [<AxesSubplot:title={'center':'prediction'}>, <AxesSubplot:>]],\n",
       "      dtype=object)"
      ]
     },
     "execution_count": 51,
     "metadata": {},
     "output_type": "execute_result"
    },
    {
     "data": {
      "image/png": "[encoded data removed]",
      "text/plain": [
       "<Figure size 432x288 with 4 Axes>"
      ]
     },
     "metadata": {
      "needs_background": "light"
     },
     "output_type": "display_data"
    }
   ],
   "source": [
    "class2.hist()"
   ]
  },
  {
   "cell_type": "code",
   "execution_count": 52,
   "id": "0bcd07f5",
   "metadata": {},
   "outputs": [
    {
     "ename": "SyntaxError",
     "evalue": "invalid syntax (<ipython-input-52-48df3de84d2c>, line 1)",
     "output_type": "error",
     "traceback": [
      "\u001b[1;36m  File \u001b[1;32m\"<ipython-input-52-48df3de84d2c>\"\u001b[1;36m, line \u001b[1;32m1\u001b[0m\n\u001b[1;33m    class3.hist()p\u001b[0m\n\u001b[1;37m                 ^\u001b[0m\n\u001b[1;31mSyntaxError\u001b[0m\u001b[1;31m:\u001b[0m invalid syntax\n"
     ]
    }
   ],
   "source": [
    "class3.hist()p"
   ]
  },
  {
   "cell_type": "code",
   "execution_count": null,
   "id": "295864d8",
   "metadata": {},
   "outputs": [],
   "source": []
  }
 ],
 "metadata": {
  "kernelspec": {
   "display_name": "Python 3",
   "language": "python",
   "name": "python3"
  },
  "language_info": {
   "codemirror_mode": {
    "name": "ipython",
    "version": 3
   },
   "file_extension": ".py",
   "mimetype": "text/x-python",
   "name": "python",
   "nbconvert_exporter": "python",
   "pygments_lexer": "ipython3",
   "version": "3.8.8"
  }
 },
 "nbformat": 4,
 "nbformat_minor": 5
}
